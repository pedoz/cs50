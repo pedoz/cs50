{
 "cells": [
  {
   "cell_type": "markdown",
   "id": "6b4690b3-653a-4b3b-8f5f-8b4c403eabfe",
   "metadata": {},
   "source": [
    ".> = maior que  \n",
    ".>= = maior que ou igual  \n",
    ".< = menor que  \n",
    ".<= = menor ou igual que  \n",
    ".== = igual  \n",
    ".!= = não igual/diferente  \n",
    "\n",
    "if é o código utilizado para \"perguntar\"\n",
    "elif faz com que só pergunte se ainda não teve uma resposta verdadeira\n",
    "else faz com que, caso não tenha nenhuma resposta verdadeira anteriormente, ela dá uma alternativa com que não precisa ser validada como verdadeira ou falsa"
   ]
  },
  {
   "cell_type": "code",
   "execution_count": 4,
   "id": "eefa8a6d-e186-4514-9a7c-d5939976be44",
   "metadata": {},
   "outputs": [
    {
     "name": "stdout",
     "output_type": "stream",
     "text": [
      "Qual o x?  2\n",
      "Qual o y?  2\n"
     ]
    },
    {
     "name": "stdout",
     "output_type": "stream",
     "text": [
      "x é igual a y\n"
     ]
    }
   ],
   "source": [
    "#compare.py\n",
    "x = int(input('Qual o x? '))\n",
    "y = int(input('Qual o y? '))\n",
    "\n",
    "if x < y:\n",
    "    print(\"x é menor que y\")\n",
    "    \n",
    "elif x > y:\n",
    "    print(\"x é maior que y\")\n",
    "    \n",
    "else:\n",
    "    print(\"x é igual a y\")\n"
   ]
  },
  {
   "cell_type": "markdown",
   "id": "692c8449-6ec5-4d38-bb91-44fe196d4f8d",
   "metadata": {},
   "source": [
    "or faz com que simplifique a resposta com duas alternativas, ou para ver se satisfaz duas condições para ser verdadeiro"
   ]
  },
  {
   "cell_type": "code",
   "execution_count": 7,
   "id": "064ea952-6ded-4e08-8863-0bb7c5db7f93",
   "metadata": {},
   "outputs": [
    {
     "name": "stdout",
     "output_type": "stream",
     "text": [
      "Qual o x?  2\n",
      "Qual o y?  1\n"
     ]
    },
    {
     "name": "stdout",
     "output_type": "stream",
     "text": [
      "x não é igual a y\n"
     ]
    }
   ],
   "source": [
    "x = int(input('Qual o x? '))\n",
    "y = int(input('Qual o y? '))\n",
    "\n",
    "if x < y or x > y:\n",
    "    print(\"x não é igual a y\")\n",
    "else:\n",
    "    print(\"x é igual a y\")"
   ]
  },
  {
   "cell_type": "markdown",
   "id": "28a3d6cd-18e1-4a28-bfd7-2303ecaa3da1",
   "metadata": {},
   "source": [
    "simplificando o código acima:"
   ]
  },
  {
   "cell_type": "code",
   "execution_count": null,
   "id": "a18c32d4-cf3e-43dc-9832-f822f1e2ee34",
   "metadata": {},
   "outputs": [],
   "source": [
    "x = int(input('Qual o x? '))\n",
    "y = int(input('Qual o y? '))\n",
    "\n",
    "if x == y:\n",
    "    print(\"x é igual a y\")\n",
    "else:\n",
    "    print(\"x não é igual a y\")"
   ]
  },
  {
   "cell_type": "markdown",
   "id": "21495cb1-50d4-454f-b277-51d41b2c857f",
   "metadata": {},
   "source": [
    "ou, ao contrário:"
   ]
  },
  {
   "cell_type": "code",
   "execution_count": null,
   "id": "d7bbc221-7ef8-4f8a-8b77-150ef08fcee6",
   "metadata": {},
   "outputs": [],
   "source": [
    "x = int(input('Qual o x? '))\n",
    "y = int(input('Qual o y? '))\n",
    "\n",
    "if x != y:\n",
    "    print(\"x não é igual a y\")\n",
    "else:\n",
    "    print(\"x é igual a y\")"
   ]
  },
  {
   "cell_type": "markdown",
   "id": "ffe41e2c-17b6-4755-a680-714d24e3985c",
   "metadata": {},
   "source": [
    "and = combina uma, duas, ou mais questões que gostaríamos perguntar de uma só vez"
   ]
  },
  {
   "cell_type": "code",
   "execution_count": 17,
   "id": "5114aff9-a0d2-48da-9cd4-d72cfbc6ab6d",
   "metadata": {},
   "outputs": [
    {
     "name": "stdout",
     "output_type": "stream",
     "text": [
      "Score:  101\n"
     ]
    },
    {
     "name": "stdout",
     "output_type": "stream",
     "text": [
      "F\n"
     ]
    }
   ],
   "source": [
    "#grade.py\n",
    "score = int(input(\"Score: \"))\n",
    "\n",
    "if score >=90 and score <=100:\n",
    "    print(\"A\")\n",
    "elif score >=80 and score < 90:\n",
    "    print(\"B\")\n",
    "elif score >=70 and score < 80:\n",
    "    print(\"C\")\n",
    "elif score >=60 and score < 70:\n",
    "    print(\"D\")\n",
    "else:\n",
    "    print(\"F\")"
   ]
  },
  {
   "cell_type": "code",
   "execution_count": 19,
   "id": "cab058ea-0f12-47a8-bbd0-f7308cc605d2",
   "metadata": {},
   "outputs": [
    {
     "name": "stdout",
     "output_type": "stream",
     "text": [
      "Score:  50\n"
     ]
    },
    {
     "name": "stdout",
     "output_type": "stream",
     "text": [
      "F\n"
     ]
    }
   ],
   "source": [
    "score = int(input(\"Score: \"))\n",
    "\n",
    "if 90 <= score <=100:\n",
    "    print(\"A\")\n",
    "elif 80 <= score < 90:\n",
    "    print(\"B\")\n",
    "elif 70 <= score < 80:\n",
    "    print(\"C\")\n",
    "elif 60 <= score < 70:\n",
    "    print(\"D\")\n",
    "else:\n",
    "    print(\"F\")"
   ]
  },
  {
   "cell_type": "code",
   "execution_count": 20,
   "id": "ef9fc348-2a26-43a5-b83a-f7593f39ba89",
   "metadata": {},
   "outputs": [
    {
     "name": "stdout",
     "output_type": "stream",
     "text": [
      "Score:  1000\n"
     ]
    },
    {
     "name": "stdout",
     "output_type": "stream",
     "text": [
      "A\n"
     ]
    }
   ],
   "source": [
    "score = int(input(\"Score: \"))\n",
    "\n",
    "if score >= 90:\n",
    "    print(\"A\")\n",
    "elif score >= 80:\n",
    "    print(\"B\")\n",
    "elif score >= 70:\n",
    "    print(\"C\")\n",
    "elif score >= 60:\n",
    "    print(\"D\")\n",
    "else:\n",
    "    print(\"F\")"
   ]
  },
  {
   "cell_type": "markdown",
   "id": "e283fd4f-2dc5-4d0b-9a7c-cbfd2d4ad7d7",
   "metadata": {},
   "source": [
    "parity = % = operador modulo, que calcula o que sobra do cálculo\n",
    "         ^-> mostra o que sobra\n",
    "         \n",
    "programa que serve para ver se é par ou ímpar:"
   ]
  },
  {
   "cell_type": "code",
   "execution_count": 22,
   "id": "7ab8606f-0e34-4cf0-837c-755e2324d445",
   "metadata": {},
   "outputs": [
    {
     "name": "stdout",
     "output_type": "stream",
     "text": [
      "Qual o x:  5\n"
     ]
    },
    {
     "name": "stdout",
     "output_type": "stream",
     "text": [
      "Ímpar\n"
     ]
    }
   ],
   "source": [
    "#parity.py\n",
    "x = int(input(\"Qual o x: \"))\n",
    "\n",
    "if x % 2 == 0:\n",
    "    print(\"Par\")\n",
    "else:\n",
    "    print(\"Ímpar\")"
   ]
  },
  {
   "cell_type": "markdown",
   "id": "28c84377-9b8a-4a75-8392-25453b094495",
   "metadata": {},
   "source": [
    ".    Função de verificar se é par ou impar, não tendo que implementar no código inteiro\n",
    ".    A função abaixo está retornando um \"Boolean Value\", significa que a única informação\n",
    "que ele está transmitindo é de verdadeiro ou falso, sendo assim, ele não tem a\n",
    "capacidade de retornar nada além da confirmação de que o que foi pedido é\n",
    "verdadeiro ou falso\n"
   ]
  },
  {
   "cell_type": "code",
   "execution_count": 25,
   "id": "7be8b8df-2b30-4194-add0-62001054a870",
   "metadata": {},
   "outputs": [
    {
     "name": "stdout",
     "output_type": "stream",
     "text": [
      "Qual o x:  778\n"
     ]
    },
    {
     "name": "stdout",
     "output_type": "stream",
     "text": [
      "Par\n"
     ]
    }
   ],
   "source": [
    "def main():\n",
    "    x = int(input(\"Qual o x: \"))\n",
    "    if is_even(x):\n",
    "        print(\"Par\")\n",
    "    else:\n",
    "        print(\"Ímpar\")\n",
    "\n",
    "\n",
    "def is_even(n):\n",
    "    if n % 2 == 0:\n",
    "        return True\n",
    "    else:\n",
    "        return False\n",
    "      \n",
    "    \n",
    "main()"
   ]
  },
  {
   "cell_type": "code",
   "execution_count": 27,
   "id": "7d76f480-bf90-40a6-8be3-658e6d84b59d",
   "metadata": {},
   "outputs": [
    {
     "name": "stdout",
     "output_type": "stream",
     "text": [
      "Qual o x:  5\n"
     ]
    },
    {
     "name": "stdout",
     "output_type": "stream",
     "text": [
      "Ímpar\n"
     ]
    }
   ],
   "source": [
    "def main():\n",
    "    x = int(input(\"Qual o x: \"))\n",
    "    if is_even(x):\n",
    "        print(\"Par\")\n",
    "    else:\n",
    "        print(\"Ímpar\")\n",
    "\n",
    "\n",
    "def is_even(n):\n",
    "    return True if n % 2 == 0 else False\n",
    "    \n",
    "\n",
    "main()"
   ]
  },
  {
   "cell_type": "code",
   "execution_count": 27,
   "id": "f4ebb9ff-1662-4d7b-a816-2900c6b4e0de",
   "metadata": {},
   "outputs": [
    {
     "name": "stdout",
     "output_type": "stream",
     "text": [
      "Qual o x:  5\n"
     ]
    },
    {
     "name": "stdout",
     "output_type": "stream",
     "text": [
      "Ímpar\n"
     ]
    }
   ],
   "source": [
    "def main():\n",
    "    x = int(input(\"Qual o x: \"))\n",
    "    if is_even(x):\n",
    "        print(\"Par\")\n",
    "    else:\n",
    "        print(\"Ímpar\")\n",
    "\n",
    "\n",
    "def is_even(n):\n",
    "    return True if n % 2 == 0 else False\n",
    "    \n",
    "\n",
    "main()"
   ]
  },
  {
   "cell_type": "code",
   "execution_count": 31,
   "id": "ed90bc14-69b0-4f70-9c43-5775db3d3cac",
   "metadata": {},
   "outputs": [
    {
     "name": "stdout",
     "output_type": "stream",
     "text": [
      "Qual o x:  9\n"
     ]
    },
    {
     "name": "stdout",
     "output_type": "stream",
     "text": [
      "Ímpar\n"
     ]
    }
   ],
   "source": [
    "def main():\n",
    "    x = int(input(\"Qual o x: \"))\n",
    "    if is_even(x):\n",
    "        print(\"Par\")\n",
    "    else:\n",
    "        print(\"Ímpar\")\n",
    "\n",
    "\n",
    "def is_even(n):\n",
    "    return n % 2 == 0\n",
    "    \n",
    "\n",
    "main()"
   ]
  },
  {
   "cell_type": "code",
   "execution_count": 33,
   "id": "531ec349-01d8-41f4-afc1-3bc88dfc9d11",
   "metadata": {},
   "outputs": [
    {
     "name": "stdout",
     "output_type": "stream",
     "text": [
      "Qual seu nome?  draco\n"
     ]
    },
    {
     "name": "stdout",
     "output_type": "stream",
     "text": [
      "Slytherin\n"
     ]
    }
   ],
   "source": [
    "#house.py\n",
    "name = input(\"Qual seu nome? \").title()\n",
    "\n",
    "if name == \"Harry\":\n",
    "    print(\"Gryffindor\")\n",
    "elif name == \"Hermione\":\n",
    "    print(\"Gryffindor\")\n",
    "elif name == \"Ron\":\n",
    "    print(\"Gryffindor\")\n",
    "elif name == \"Draco\":\n",
    "    print(\"Slytherin\")\n",
    "else:\n",
    "    print(\"Who?\")\n",
    "    "
   ]
  },
  {
   "cell_type": "markdown",
   "id": "63d51f74-f3c6-4d9b-b272-434c4954dd9e",
   "metadata": {},
   "source": [
    "match = compacta"
   ]
  },
  {
   "cell_type": "code",
   "execution_count": null,
   "id": "c7f87b3b-b8e4-4991-b54d-7e124fe0abcd",
   "metadata": {},
   "outputs": [],
   "source": [
    "name = input(\"Qual seu nome? \").title()\n",
    "\n",
    "if name == \"Harry\" or name == \"Hermione\" or name == \"Ron\":\n",
    "    print(\"Gryffindor\")\n",
    "elif name == \"Draco\":\n",
    "    print(\"Slytherin\")\n",
    "else:\n",
    "    print(\"Who?\")"
   ]
  },
  {
   "cell_type": "code",
   "execution_count": 3,
   "id": "7a6936da-0bb7-4b95-aa90-7abe81166844",
   "metadata": {},
   "outputs": [
    {
     "ename": "IndentationError",
     "evalue": "unexpected indent (2288555352.py, line 4)",
     "output_type": "error",
     "traceback": [
      "\u001b[1;36m  Cell \u001b[1;32mIn[3], line 4\u001b[1;36m\u001b[0m\n\u001b[1;33m    case \"Harry\":\u001b[0m\n\u001b[1;37m    ^\u001b[0m\n\u001b[1;31mIndentationError\u001b[0m\u001b[1;31m:\u001b[0m unexpected indent\n"
     ]
    }
   ],
   "source": [
    "cu = input(\"Qual seu nome? \")\n",
    "\n",
    "match\n",
    "    case \"Harry\":\n",
    "        print(\"Gryffindor\")\n",
    "    case \"Hermione\":\n",
    "        print(\"Gryffindor\")\n",
    "    case \"Ron\":\n",
    "        print(\"Gryffindor\")\n",
    "    case \"Draco\":\n",
    "        print(\"Slytherin\")\n",
    "        \n",
    "    case _:\n",
    "        print(\"Who?\")"
   ]
  },
  {
   "cell_type": "code",
   "execution_count": null,
   "id": "c3f1b4d0-a9fc-4dc3-b2c1-46d638a16ac7",
   "metadata": {},
   "outputs": [],
   "source": []
  }
 ],
 "metadata": {
  "kernelspec": {
   "display_name": "Python 3.9.7 64-bit",
   "language": "python",
   "name": "python3"
  },
  "language_info": {
   "codemirror_mode": {
    "name": "ipython",
    "version": 3
   },
   "file_extension": ".py",
   "mimetype": "text/x-python",
   "name": "python",
   "nbconvert_exporter": "python",
   "pygments_lexer": "ipython3",
   "version": "3.9.7"
  },
  "vscode": {
   "interpreter": {
    "hash": "c347c8f9a7ef94e4c9e03b4513be7835ed18f45b99a2a817fb579f408b867b16"
   }
  }
 },
 "nbformat": 4,
 "nbformat_minor": 5
}
