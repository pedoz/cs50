{
 "cells": [
  {
   "cell_type": "markdown",
   "metadata": {},
   "source": [
    "#### Validando se as condições de class foram satisfeitas:  \n",
    "\n",
    "`if not name` equivalente a `if name == \"\"`  \n",
    "\n",
    "classes te incentiva encapsular dentro da class todas as funcionalidades associadas à aquela class  \n",
    "`raise` => criar suas próprias excessões, mostrando o que deu de errado, criando aprametros para os erros acontecerem  \n",
    "Com `raise`, podemos levantar funções com os erros, e explicar pro usuário o que aconteceu de errado  \n",
    "\n",
    "dentro do `__init__`, podemos criar valores opcionais, como (self, name, house=None), `house` é opcional agora  "
   ]
  },
  {
   "cell_type": "code",
   "execution_count": null,
   "metadata": {},
   "outputs": [],
   "source": [
    "class Student():\n",
    "    def __init__(self, name, house):\n",
    "        if not name:\n",
    "            raise ValueError(\"Missing Name\")\n",
    "        if house not in [\"Gryffindor\", \"Hufflepuff\", \"Ravenclaw\", \"Slytherin\"]:\n",
    "            raise ValueError(\"Invalid House\")\n",
    "        self.name = name\n",
    "        self.house = house\n",
    "\n",
    "    def __str__(self):\n",
    "        return f\"{self.name} from {self.house}\"\n",
    "\n",
    "\n",
    "\n",
    "def main():\n",
    "    student = get_student()\n",
    "    print(student)\n",
    "\n",
    "\n",
    "def get_student():\n",
    "    name = input(\"Name: \")\n",
    "    house = input(\"House: \")\n",
    "    return Student(name, house) \n",
    "\n",
    "\n",
    "if __name__ == \"__main__\":\n",
    "    main()"
   ]
  }
 ],
 "metadata": {
  "kernelspec": {
   "display_name": "Python 3.11.1 64-bit",
   "language": "python",
   "name": "python3"
  },
  "language_info": {
   "name": "python",
   "version": "3.11.1"
  },
  "orig_nbformat": 4,
  "vscode": {
   "interpreter": {
    "hash": "5238573367df39f7286bb46f9ff5f08f63a01a80960060ce41e3c79b190280fa"
   }
  }
 },
 "nbformat": 4,
 "nbformat_minor": 2
}
