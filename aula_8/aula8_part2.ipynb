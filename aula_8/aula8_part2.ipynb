{
 "cells": [
  {
   "cell_type": "markdown",
   "metadata": {},
   "source": [
    "### CLASS METHODS:  \n",
    "Funções da classe, não necessáriamente do objeto  \n",
    "`@classmethod` => ele não tem acesso ao `self`, mas sabe em que classe ele está, e quando que é chamado  \n",
    "> Serve para não ter que associar uma váriavel para chamar a class\n",
    ">> Basicamente, assim podemos utilizar class como um container de dados e/ou funcionalidades(funções) que são relacionados de alguma forma"
   ]
  },
  {
   "cell_type": "code",
   "execution_count": null,
   "metadata": {},
   "outputs": [],
   "source": [
    "import random\n",
    "\n",
    "class Hat:\n",
    "    def __init__(self):\n",
    "        self.houses = [\"Gryffindor\", \"Ravenclar\", \"Hufflepuf\", \"Slytherin\"]\n",
    "\n",
    "    def sort(self, name):\n",
    "        print(name, \"is in\", random.choice(self.houses))\n",
    "\n",
    "hat = Hat()\n",
    "hat.sort(\"Harry\")"
   ]
  },
  {
   "cell_type": "markdown",
   "metadata": {},
   "source": [
    "No código abaixo, não iremos inicializar o `Hat` (removemos o `__init__`), mas não precisamos, pois queremos transformar ele num método\n"
   ]
  },
  {
   "cell_type": "code",
   "execution_count": null,
   "metadata": {},
   "outputs": [],
   "source": [
    "import random\n",
    "\n",
    "class Hat:\n",
    "    houses = [\"Gryffindor\", \"Ravenclar\", \"Hufflepuf\", \"Slytherin\"]\n",
    "\n",
    "    @classmethod\n",
    "    def sort(cls, name):\n",
    "        print(name, \"is in\", random.choice(cls.houses))\n",
    "\n",
    "Hat.sort(\"Harry\")"
   ]
  },
  {
   "cell_type": "markdown",
   "metadata": {},
   "source": [
    "Acima, `houses` se torna acessivel por `Hat`, e não por iniciar um objeto com o valor associado à `Hat`.  \n",
    "`@classmethod` indica que a função abaixo é um metodo de utilizar `Hat` e, ao inves de passar `self`, que estava relacionado ao objeto criado, colocamos `cls` para indicar que a variavél está ligada a própria classe, e colocamos `|cls|.houses` para indicar que queremos pegar o valor associado a `class`, e não a um objeto criado posteriormente  \n",
    "\n",
    "Basicamente, podemos chamar uma função associada a `class` sem necessa´riamente criar um objeto para ela\n",
    "-------------------------\n",
    "\n",
    "Quando utilizamos `return cls(rv1, rv2)` basicamente estamos criando um objeto, da respectiva classe"
   ]
  },
  {
   "cell_type": "code",
   "execution_count": null,
   "metadata": {},
   "outputs": [],
   "source": [
    "class Student():\n",
    "    def __init__(self, name, house):\n",
    "        self.name = name\n",
    "        self.house = house\n",
    "\n",
    "    def __str__(self):\n",
    "        return f\"{self.name} from {self.house}\"\n",
    "\n",
    "    @classmethod\n",
    "    def get(cls):\n",
    "        name = input(\"Name: \")\n",
    "        house = input(\"House: \")\n",
    "        return cls(name, house)\n",
    "        \n",
    "\n",
    "\n",
    "def main():\n",
    "    student = Student.get()\n",
    "    print(student)\n",
    "\n",
    "\n",
    "if __name__ == \"__main__\":\n",
    "    main()"
   ]
  },
  {
   "cell_type": "markdown",
   "metadata": {},
   "source": [
    "### Static methods:  \n",
    "\n",
    "`@staticmethod` => ele não explicou, mas disse que existe outros metodos, procurar depois"
   ]
  },
  {
   "cell_type": "markdown",
   "metadata": {},
   "source": [
    "## Inheritance:  \n",
    "Em OOP, temos a oportunidade de fazer suas classes de uma maneira \"Hierarquica\", onde temos uma classe que pode pegar \"emprestado\" metodos ou variáveis de outra classe  \n",
    "`class ClassName(SuperClassName)` => SuperClassName é a classe que ele pode chamar para executar funções dela  \n",
    "\n",
    "`super().'FuncName'('Value')` => `super` chama a classe \"mãe\", colocamos o nome da função que queremos utilizar dela e colocamos o valor respectivo que a função necessita para funcionar, ou testar se funciona"
   ]
  },
  {
   "cell_type": "code",
   "execution_count": 5,
   "metadata": {},
   "outputs": [
    {
     "name": "stdout",
     "output_type": "stream",
     "text": [
      "<__main__.Wizard object at 0x000001C026677310>\n",
      "<__main__.Student object at 0x000001C02670CC10>\n",
      "<__main__.Professor object at 0x000001C026A878D0>\n"
     ]
    }
   ],
   "source": [
    "#wizard.py\n",
    "class Wizard:\n",
    "    def __init__(self, name):\n",
    "        if not name:\n",
    "            raise ValueError(\"Invalid input\")\n",
    "\n",
    "class Student(Wizard):\n",
    "    def __init__(self, name, house):\n",
    "        super().__init__(name)\n",
    "        self.house = house\n",
    "\n",
    "class Professor(Wizard):\n",
    "    def __init__(self, name, subject):\n",
    "        super().__init__(name)\n",
    "        self.subject = subject\n",
    "\n",
    "\n",
    "wizard = Wizard(\"Jon\")\n",
    "student = Student(\"Harry\", \"Gryffindor\")\n",
    "professor = Professor(\"Severus\", \"Defense Against the Dark Arts\")\n"
   ]
  },
  {
   "cell_type": "markdown",
   "metadata": {},
   "source": [
    "Podemos puxar de classes mãe da mãe, chamando diretamente a função que queremos da vovó  \n",
    "\n",
    "### Operator Overloading:  \n",
    "Podemos pegar \"symbols\" bem simples, como +, -, or outra sintaxe do gênero, e podemos implementar uma maneira própria de interpretar elas  \n",
    "EX: + não precisa significar adição"
   ]
  },
  {
   "cell_type": "code",
   "execution_count": 1,
   "metadata": {},
   "outputs": [
    {
     "name": "stdout",
     "output_type": "stream",
     "text": [
      "100 Galleons, 50 Sickles, 25 Knuts\n",
      "25 Galleons, 50 Sickles, 100 Knuts\n",
      "125 Galleons, 100 Sickles, 125 Knuts\n"
     ]
    }
   ],
   "source": [
    "#vault.py\n",
    "class Vault:\n",
    "    def __init__(self, galleons=0, sickles=0, knuts=0):\n",
    "        self.galleons = galleons\n",
    "        self.sickles = sickles\n",
    "        self.knuts = knuts\n",
    "\n",
    "    def __str__(self):\n",
    "        return f\"{self.galleons} Galleons, {self.sickles} Sickles, {self.knuts} Knuts\"\n",
    "\n",
    "\n",
    "potter = Vault(100, 50, 25)\n",
    "print(potter)\n",
    "\n",
    "weasley = Vault(25, 50, 100)\n",
    "print(weasley)\n",
    "\n",
    "galleons = potter.galleons + weasley.galleons\n",
    "sickles = potter.sickles + weasley.sickles\n",
    "knuts = potter.knuts + weasley.knuts\n",
    "\n",
    "total = Vault(galleons, sickles, knuts)\n",
    "print(total)"
   ]
  },
  {
   "cell_type": "code",
   "execution_count": null,
   "metadata": {},
   "outputs": [],
   "source": [
    "class Vault:\n",
    "    def __init__(self, galleons=0, sickles=0, knuts=0):\n",
    "        self.galleons = galleons\n",
    "        self.sickles = sickles\n",
    "        self.knuts = knuts\n",
    "\n",
    "    def __str__(self):\n",
    "        return f\"{self.galleons} Galleons, {self.sickles} Sickles, {self.knuts} Knuts\"\n",
    "\n",
    "    def __add__(self, other):\n",
    "        galleons = self.galleons + other.galleons\n",
    "        sickles = self.sickles + other.sickles\n",
    "        knuts = self.knuts + other.knuts\n",
    "        return Vault(galleons, sickles, knuts)\n",
    "\n",
    "\n",
    "potter = Vault(100, 50, 25)\n",
    "print(potter)\n",
    "\n",
    "weasley = Vault(25, 50, 100)\n",
    "print(weasley)\n",
    "\n",
    "total = potter + weasley\n",
    "print(total)"
   ]
  }
 ],
 "metadata": {
  "kernelspec": {
   "display_name": "Python 3.11.1 64-bit",
   "language": "python",
   "name": "python3"
  },
  "language_info": {
   "codemirror_mode": {
    "name": "ipython",
    "version": 3
   },
   "file_extension": ".py",
   "mimetype": "text/x-python",
   "name": "python",
   "nbconvert_exporter": "python",
   "pygments_lexer": "ipython3",
   "version": "3.11.1"
  },
  "orig_nbformat": 4,
  "vscode": {
   "interpreter": {
    "hash": "5238573367df39f7286bb46f9ff5f08f63a01a80960060ce41e3c79b190280fa"
   }
  }
 },
 "nbformat": 4,
 "nbformat_minor": 2
}
