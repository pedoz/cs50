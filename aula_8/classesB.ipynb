{
 "cells": [
  {
   "cell_type": "markdown",
   "metadata": {},
   "source": [
    "--------------------------\n",
    "## CLASSES\n",
    "A class is like a blueprint for pieces of data objects  \n",
    "You can define and give a name, and when you use this blueprint, you get types of data exactly as you wanted  \n",
    "Basicamente, permite você criar seus proprios `Data Types`  \n",
    "Por convenção, em class, utilizamos a primeira letra maiúscula\n"
   ]
  },
  {
   "cell_type": "markdown",
   "metadata": {},
   "source": [
    "#### Como usar a `Class`:\n",
    "\n",
    "Elas contém atributos, propriedade de organizar que te permite especificar valores dentro dela.  \n",
    "Utilizar **.** para atribuir valores a class  \n",
    "Ela se torna uma função, podendo ser chamada com ()\n",
    ".  \n",
    "Quando utilizamos `class`, estamos criando o que é chamado de \"objeto\"  \n",
    "> Nessa linha, estamos criando um objeto dessa `class`  \n",
    ">> `student = Student()`  \n",
    "\n",
    "São mutáveis, mas podem ser feitos imutáveis  \n",
    "\n",
    ">`students.name` e `students.house`são atributos, cujo nome técnico é **\"Instance variables\"**  \n",
    "\n",
    "Com classes, podemos especificar o que esses atributos podem ser e que tipo de dado armazenar neles \n"
   ]
  },
  {
   "cell_type": "markdown",
   "metadata": {},
   "source": [
    "#### Objects:  \n",
    "São criados a partir das classes,   \n",
    "Se `class` são como moldes/blueprint, `objects` são quando utilizamos esse molde/blueprint  \n",
    "> Objects também podem ser chamados de \"Instances\"  \n",
    "\n"
   ]
  },
  {
   "cell_type": "markdown",
   "metadata": {},
   "source": [
    "Abaixo, tem um exemplo de como fazemos para padronizar os dados que são enviados para Student(), tendo mais controle sobre o acertividade dos dados recebidos  \n",
    "\n",
    "Além de atributos e \"instance variables\", também há o que é chamado de **methods**:  \n",
    ">classes vem com certos metodos, certas funções imbutidas nelas, que podemos definir e elas se comportam de uma maneira especial, permitindo a padronização do comportamento"
   ]
  },
  {
   "cell_type": "code",
   "execution_count": null,
   "metadata": {},
   "outputs": [],
   "source": [
    "class Student():\n",
    "    def __init__(self, name, house):\n",
    "        self.name = name\n",
    "        self.house = house\n",
    "\n",
    "\n",
    "def main():\n",
    "    student = get_student() # student é equivalente ao retorno do get_student, que é a class, transformando-o em um objeto, sem\n",
    "                            #precisar ser redundante no get_student\n",
    "    print(f\"{student.name} from {student.house}\")\n",
    "\n",
    "\n",
    "def get_student():\n",
    "    name = input(\"Name: \")\n",
    "    house = input(\"House: \")\n",
    "    return Student(name, house) \n",
    "        #        ^-> Aqui, tem o que é chamado de \"constructor call\", que está criando um objeto, chamado student\n",
    "        # `Students()` permite customizar o conteúdo desse objeto\n",
    "        # => uma analogia é, passando por um bairro com casas, todas as casas são quase identicas,\n",
    "        # mudando apenas as cores e o quintal, é basicamente isso que está acontecendo, \n",
    "        # estamos padronizando os objetos, mas cada um vai ter suas proprias \"decorações\" "
   ]
  }
 ],
 "metadata": {
  "kernelspec": {
   "display_name": "Python 3.11.1 64-bit",
   "language": "python",
   "name": "python3"
  },
  "language_info": {
   "name": "python",
   "version": "3.11.1"
  },
  "orig_nbformat": 4,
  "vscode": {
   "interpreter": {
    "hash": "5238573367df39f7286bb46f9ff5f08f63a01a80960060ce41e3c79b190280fa"
   }
  }
 },
 "nbformat": 4,
 "nbformat_minor": 2
}
