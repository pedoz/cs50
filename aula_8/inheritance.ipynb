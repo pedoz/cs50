{
 "cells": [
  {
   "cell_type": "markdown",
   "metadata": {},
   "source": [
    "## Inheritance:  \n",
    "Em OOP, temos a oportunidade de fazer suas classes de uma maneira \"Hierarquica\", onde temos uma classe que pode pegar \"emprestado\" metodos ou variáveis de outra classe  \n",
    "`class ClassName(SuperClassName)` => SuperClassName é a classe que ele pode chamar para executar funções dela  \n",
    "\n",
    "`super().'FuncName'('Value')` => `super` chama a classe \"mãe\", colocamos o nome da função que queremos utilizar dela e colocamos o valor respectivo que a função necessita para funcionar, ou testar se funciona"
   ]
  },
  {
   "cell_type": "code",
   "execution_count": null,
   "metadata": {},
   "outputs": [],
   "source": [
    "#wizard.py\n",
    "class Wizard:\n",
    "    def __init__(self, name):\n",
    "        if not name:\n",
    "            raise ValueError(\"Invalid input\")\n",
    "\n",
    "class Student(Wizard):\n",
    "    def __init__(self, name, house):\n",
    "        super().__init__(name)\n",
    "        self.house = house\n",
    "\n",
    "class Professor(Wizard):\n",
    "    def __init__(self, name, subject):\n",
    "        super().__init__(name)\n",
    "        self.subject = subject\n",
    "\n",
    "\n",
    "wizard = Wizard(\"Jon\")\n",
    "student = Student(\"Harry\", \"Gryffindor\")\n",
    "professor = Professor(\"Severus\", \"Defense Against the Dark Arts\")\n"
   ]
  },
  {
   "cell_type": "markdown",
   "metadata": {},
   "source": [
    "Podemos puxar de classes mãe da mãe, chamando diretamente a função que queremos da vovó  "
   ]
  }
 ],
 "metadata": {
  "kernelspec": {
   "display_name": "Python 3.11.1 64-bit",
   "language": "python",
   "name": "python3"
  },
  "language_info": {
   "name": "python",
   "version": "3.11.1"
  },
  "orig_nbformat": 4,
  "vscode": {
   "interpreter": {
    "hash": "5238573367df39f7286bb46f9ff5f08f63a01a80960060ce41e3c79b190280fa"
   }
  }
 },
 "nbformat": 4,
 "nbformat_minor": 2
}
