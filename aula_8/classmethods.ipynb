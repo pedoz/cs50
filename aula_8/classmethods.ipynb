{
 "cells": [
  {
   "cell_type": "markdown",
   "metadata": {},
   "source": [
    "### CLASS METHODS:  \n",
    "Funções da classe, não necessáriamente do objeto  \n",
    "`@classmethod` => ele não tem acesso ao `self`, mas sabe em que classe ele está, e quando que é chamado  \n",
    "> Serve para não ter que associar uma váriavel para chamar a class\n",
    ">> Basicamente, assim podemos utilizar class como um container de dados e/ou funcionalidades(funções) que são relacionados de alguma forma"
   ]
  },
  {
   "cell_type": "code",
   "execution_count": null,
   "metadata": {},
   "outputs": [],
   "source": [
    "import random\n",
    "\n",
    "class Hat:\n",
    "    houses = [\"Gryffindor\", \"Ravenclar\", \"Hufflepuf\", \"Slytherin\"]\n",
    "\n",
    "    @classmethod\n",
    "    def sort(cls, name):\n",
    "        print(name, \"is in\", random.choice(cls.houses))\n",
    "\n",
    "Hat.sort(\"Harry\")"
   ]
  },
  {
   "cell_type": "markdown",
   "metadata": {},
   "source": [
    "Acima, `houses` se torna acessivel por `Hat`, e não por iniciar um objeto com o valor associado à `Hat`.  \n",
    "`@classmethod` indica que a função abaixo é um metodo de utilizar `Hat` e, ao inves de passar `self`, que estava relacionado ao objeto criado, colocamos `cls` para indicar que a variavél está ligada a própria classe, e colocamos `|cls|.houses` para indicar que queremos pegar o valor associado a `class`, e não a um objeto criado posteriormente  \n",
    "\n",
    "Basicamente, podemos chamar uma função associada a `class` sem necessáriamente criar um objeto para ela\n",
    "-------------------------\n",
    "\n",
    "Quando utilizamos `return cls(rv1, rv2)` basicamente estamos criando um objeto, da respectiva classe"
   ]
  },
  {
   "cell_type": "code",
   "execution_count": null,
   "metadata": {},
   "outputs": [],
   "source": [
    "class Student():\n",
    "    def __init__(self, name, house):\n",
    "        self.name = name\n",
    "        self.house = house\n",
    "\n",
    "    def __str__(self):\n",
    "        return f\"{self.name} from {self.house}\"\n",
    "\n",
    "    @classmethod\n",
    "    def get(cls):\n",
    "        name = input(\"Name: \")\n",
    "        house = input(\"House: \")\n",
    "        return cls(name, house)\n",
    "        \n",
    "\n",
    "\n",
    "def main():\n",
    "    student = Student.get()\n",
    "    print(student)\n",
    "\n",
    "\n",
    "if __name__ == \"__main__\":\n",
    "    main()"
   ]
  }
 ],
 "metadata": {
  "kernelspec": {
   "display_name": "Python 3.11.1 64-bit",
   "language": "python",
   "name": "python3"
  },
  "language_info": {
   "name": "python",
   "version": "3.11.1"
  },
  "orig_nbformat": 4,
  "vscode": {
   "interpreter": {
    "hash": "5238573367df39f7286bb46f9ff5f08f63a01a80960060ce41e3c79b190280fa"
   }
  }
 },
 "nbformat": 4,
 "nbformat_minor": 2
}
