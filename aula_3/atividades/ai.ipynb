{
 "cells": [
  {
   "cell_type": "code",
   "execution_count": null,
   "metadata": {},
   "outputs": [],
   "source": [
    "# creating an empty list\n",
    "lst = []\n",
    "\n",
    "# number of elements as input\n",
    "n = int(input(\"Enter number of elements : \"))\n",
    "\n",
    "# iterating till the range\n",
    "for i in range(0, n):\n",
    "\tele = int(input())\n",
    "\n",
    "\tlst.append(ele) # adding the element\n",
    "\t\n",
    "print(lst)\n"
   ]
  },
  {
   "cell_type": "code",
   "execution_count": null,
   "metadata": {},
   "outputs": [],
   "source": [
    "# try block to handle the exception\n",
    "try:\n",
    "\tmy_list = []\n",
    "\t\n",
    "\twhile True:\n",
    "\t\tmy_list.append(int(input()))\n",
    "\t\t\n",
    "# if the input is not-integer, just print the list\n",
    "except:\n",
    "\tprint(my_list)\n"
   ]
  },
  {
   "cell_type": "code",
   "execution_count": null,
   "metadata": {},
   "outputs": [],
   "source": [
    "# number of elements\n",
    "n = int(input(\"Enter number of elements : \"))\n",
    "\n",
    "# Below line read inputs from user using map() function\n",
    "a = list(map(int,input(\"\\nEnter the numbers : \").strip().split()))[:n]\n",
    "\n",
    "print(\"\\nList is - \", a)\n"
   ]
  },
  {
   "cell_type": "code",
   "execution_count": null,
   "metadata": {},
   "outputs": [],
   "source": [
    "lst = [ ]\n",
    "n = int(input(\"Enter number of elements : \"))\n",
    "\n",
    "for i in range(0, n):\n",
    "\tele = [input(), int(input())]\n",
    "\tlst.append(ele)\n",
    "\t\n",
    "print(lst)\n"
   ]
  },
  {
   "cell_type": "code",
   "execution_count": null,
   "metadata": {},
   "outputs": [],
   "source": [
    "# For list of integers\n",
    "lst1 = []\n",
    "\n",
    "# For list of strings/chars\n",
    "lst2 = []\n",
    "\n",
    "lst1 = [int(item) for item in input(\"Enter the list items : \").split()]\n",
    "\n",
    "lst2 = [item for item in input(\"Enter the list items : \").split()]\n",
    "\n",
    "print(lst1)\n",
    "print(lst2)\n"
   ]
  },
  {
   "cell_type": "code",
   "execution_count": null,
   "metadata": {},
   "outputs": [],
   "source": [
    "employees = {}\n",
    "\n",
    "for i in range(3):\n",
    "    name = input(\"Enter employee's name: \")\n",
    "    salary = input(\"Enter employee's salary: \")\n",
    "\n",
    "    employees[name] = salary\n",
    "\n",
    "\n",
    "# 👇️ {'Alice': '100', 'Bob': '100', 'Carl': '100'}\n",
    "print(employees)\n"
   ]
  },
  {
   "cell_type": "code",
   "execution_count": null,
   "metadata": {},
   "outputs": [],
   "source": [
    "employees = {}\n",
    "\n",
    "# 👇️ converting to integer with int()\n",
    "salary = int(input(\"Enter employee's salary: \"))\n",
    "\n",
    "employees['salary'] = salary\n",
    "\n",
    "# 👇️ {'salary': 100}\n",
    "print(employees)\n"
   ]
  }
 ],
 "metadata": {
  "kernelspec": {
   "display_name": "Python 3.11.1 64-bit",
   "language": "python",
   "name": "python3"
  },
  "language_info": {
   "name": "python",
   "version": "3.11.1"
  },
  "orig_nbformat": 4,
  "vscode": {
   "interpreter": {
    "hash": "5238573367df39f7286bb46f9ff5f08f63a01a80960060ce41e3c79b190280fa"
   }
  }
 },
 "nbformat": 4,
 "nbformat_minor": 2
}
