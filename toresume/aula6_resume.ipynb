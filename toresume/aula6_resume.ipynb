{
 "cells": [
  {
   "cell_type": "markdown",
   "metadata": {},
   "source": [
    "## File I/O\n",
    "input and output of files\n",
    "\n",
    "> Basicamente, aprenderemos como salvar ou inputs e outputs para mais tarde, salvando com consistência o que foi feito\n"
   ]
  },
  {
   "cell_type": "code",
   "execution_count": null,
   "metadata": {},
   "outputs": [],
   "source": [
    "names = []\n",
    "for _ in range(3):\n",
    "    names.append(input(\"What's your name? \"))\n",
    "for name in sorted(names):\n",
    "    print(f\"hello, {name}\")"
   ]
  },
  {
   "cell_type": "markdown",
   "metadata": {},
   "source": [
    "### Optional Syntax\n",
    "Caso não exista o arquivo que tu quer abrir, o `open` automaticamente cria ele para ti  \n",
    "\n",
    "**'r'** = open for reading (default/padrão)\n",
    "\n",
    "**'w'** = open for writing, truncating the file first (criar e escrever)\n",
    "\n",
    "**'x'** = open for exclusive creation, failing if the file already exists\n",
    "\n",
    "**'a'** = open for writing, appending to the end of file if it exists (append)\n",
    "\n",
    "**'b'** = binary mode\n",
    "\n",
    "**'t'** = text mode (default)\n",
    "\n",
    "**'+'** = open for updating (reading and writing)"
   ]
  },
  {
   "cell_type": "markdown",
   "metadata": {},
   "source": [
    "caso não exista o arquivo que tu quer abrir, o `open` automaticamente cria ele para ti\n",
    "\n",
    "**CUIDADO**\n",
    "> \"w\" cria um novo arquivo, ou subscreve um já escrito, não pode ser usado para colcoar valores em um arquivo já criado, caso seja feito, irá subscreve-lo  \n",
    "\n",
    ">\"a\" junta sem formatar, criando um arquivo como \"HermioneHarryRon\", ao invés de formatá-los da maneira \"correta\""
   ]
  },
  {
   "cell_type": "code",
   "execution_count": null,
   "metadata": {},
   "outputs": [],
   "source": [
    "name = input(\"What's your name? \")\n",
    "\n",
    "file = open(\"names.txt\", \"a\")\n",
    "file.write(f\"{name}\\n\")\n",
    "file.close()"
   ]
  },
  {
   "cell_type": "markdown",
   "metadata": {},
   "source": [
    "Sempre precisamos fechar o arquivo, e temos outro jeito ao invés de `file.close()`  \n",
    "`with` => permite especificar que, neste contexto, quero abrir e automaticamente fechar um arquivo\n",
    "\n",
    "#### CRIANDO E ESCREVENDO:"
   ]
  },
  {
   "cell_type": "code",
   "execution_count": null,
   "metadata": {},
   "outputs": [],
   "source": [
    "name = input(\"What's your name? \")\n",
    "with open(\"names.txt\", \"a\") as file:\n",
    "    file.write(f\"{name}\\n\")"
   ]
  },
  {
   "cell_type": "code",
   "execution_count": null,
   "metadata": {},
   "outputs": [],
   "source": [
    "with open(\"names.txt\", \"r\") as file:\n",
    "    lines = file.readlines()\n",
    "for line in lines:\n",
    "    print(\"Hello, \", line.rstrip())"
   ]
  },
  {
   "cell_type": "markdown",
   "metadata": {},
   "source": [
    "#### OU"
   ]
  },
  {
   "cell_type": "code",
   "execution_count": null,
   "metadata": {},
   "outputs": [],
   "source": [
    "with open(\"names.txt\", \"r\") as file:\n",
    "    for line in file:\n",
    "        print(\"Hello, \", line.rstrip())"
   ]
  },
  {
   "cell_type": "markdown",
   "metadata": {},
   "source": [
    "#### Organizando de ordem alfabética:"
   ]
  },
  {
   "cell_type": "code",
   "execution_count": null,
   "metadata": {},
   "outputs": [],
   "source": [
    "names = []\n",
    "\n",
    "with open(\"names.txt\") as file:\n",
    "    for line in file:\n",
    "        names.append(line.rstrip())\n",
    "\n",
    "for name in sorted(names):\n",
    "    print(f\"Hello, {name}\")\n"
   ]
  },
  {
   "cell_type": "markdown",
   "metadata": {},
   "source": [
    "#### OU"
   ]
  },
  {
   "cell_type": "code",
   "execution_count": null,
   "metadata": {},
   "outputs": [],
   "source": [
    "with open(\"names.txt\") as file:\n",
    "    for line in sorted(file):\n",
    "        print(\"Hello, \", line.rstrip())"
   ]
  },
  {
   "cell_type": "markdown",
   "metadata": {},
   "source": [
    "-------------------"
   ]
  },
  {
   "cell_type": "markdown",
   "metadata": {},
   "source": [
    "`csv` => utilizado para guardar multiplos pedaços de informação que estão relacionadas no mesmo arquivo  \n",
    "\n",
    "Abaixo, `row`, por causa do`.rsplit(\",\")`, vai ser uma **lista**, cujo valor [0] equivale ao nome e o valor[1] equivale a casa"
   ]
  },
  {
   "cell_type": "code",
   "execution_count": null,
   "metadata": {},
   "outputs": [],
   "source": [
    "with open(\"students.csv\") as file:\n",
    "    for line in file:\n",
    "        row = line.rstrip().split(\",\")\n",
    "        print(f\"{row[0]} is in {row[1]}\")"
   ]
  },
  {
   "cell_type": "markdown",
   "metadata": {},
   "source": [
    "Pelo fato de `rsplit(\",\")` criar uma lista, podemos também criar duas (ou mais) váriaveis para atribuir a cada uma um respectivo valor"
   ]
  },
  {
   "cell_type": "code",
   "execution_count": null,
   "metadata": {},
   "outputs": [],
   "source": [
    "with open(\"students.csv\") as file:\n",
    "    for line in file:\n",
    "        name, house = line.rstrip().split(\",\")\n",
    "        print(f\"{name} is in {house}\")"
   ]
  },
  {
   "cell_type": "markdown",
   "metadata": {},
   "source": [
    "----------------"
   ]
  },
  {
   "cell_type": "markdown",
   "metadata": {},
   "source": [
    "#### Organizando os arquivos pegos por nomes"
   ]
  },
  {
   "cell_type": "code",
   "execution_count": null,
   "metadata": {},
   "outputs": [],
   "source": [
    "students = []\n",
    "\n",
    "with open (\"students.csv\") as file:\n",
    "    for line in file:\n",
    "        name, house = line.rstrip().split(\",\")\n",
    "        students.append(f\"{name} is in {house}\")\n",
    "\n",
    "for student in sorted(students):\n",
    "    print(student)"
   ]
  },
  {
   "cell_type": "markdown",
   "metadata": {},
   "source": [
    ">Lembrando que, quando utilizamos um dict, temos que utilizar \"str\" para apontar qual valor chave queremos resgatar"
   ]
  },
  {
   "cell_type": "code",
   "execution_count": null,
   "metadata": {},
   "outputs": [],
   "source": [
    "students = []\n",
    "\n",
    "with open (\"students.csv\") as file:\n",
    "    for line in file:\n",
    "        name, house = line.rstrip().split(\",\")\n",
    "        students = {}\n",
    "        student[\"name\"] = name\n",
    "        student[\"house\"] = house\n",
    "        students.append(student)\n",
    "\n",
    "for student in students:\n",
    "    print(f\"{student['name']} is in {student['house']}\")"
   ]
  },
  {
   "cell_type": "markdown",
   "metadata": {},
   "source": [
    "#### OU"
   ]
  },
  {
   "cell_type": "code",
   "execution_count": null,
   "metadata": {},
   "outputs": [],
   "source": [
    "students = []\n",
    "\n",
    "with open (\"students.csv\") as file:\n",
    "    for line in file:\n",
    "        name, house = line.rstrip().split(\",\")\n",
    "        student = {\"name\":name, \"house\": house}\n",
    "        students.append(student)\n",
    "\n",
    "for student in students:\n",
    "    print(f\"{student['name']} is in {student['house']}\")"
   ]
  },
  {
   "cell_type": "markdown",
   "metadata": {},
   "source": [
    "----------------------------"
   ]
  },
  {
   "cell_type": "markdown",
   "metadata": {},
   "source": [
    "Python permite passar funções como argumentos para outras funções    \n",
    "`get_name` é uma função, assim como `sorted`, e passamos `get_name` para o `sorted` como o valor do parametro `key`    \n",
    "`get_name` só está pegando o nome do student, e é disso que sorted precisa para empenhar sua função  \n",
    "Agora, mesmo que tenhamos de uma forma mais organizada, temos que arranjar um jeito de \"sorted\" o dict, e fazemos do seguinte jeito:"
   ]
  },
  {
   "cell_type": "code",
   "execution_count": null,
   "metadata": {},
   "outputs": [],
   "source": [
    "students = []\n",
    "\n",
    "with open (\"students.csv\") as file:\n",
    "    for line in file:\n",
    "        name, house = line.rstrip().split(\",\")\n",
    "        student = {\"name\":name, \"house\": house}\n",
    "        students.append(student)\n",
    "\n",
    "def get_name(student):\n",
    "    return student[\"name\"]\n",
    "\n",
    "for student in sorted(students, key = get_name):\n",
    "    print(f\"{student['name']} is in {student['house']}\")"
   ]
  },
  {
   "cell_type": "markdown",
   "metadata": {},
   "source": [
    ">alfabetiza a lista baseado no return value da função `get_name`, e no `key`, tu n chama a função, só aponta qual vai ser usada e o sorted faz o trabalho de chamar e verificar a função e seus resultados"
   ]
  },
  {
   "cell_type": "markdown",
   "metadata": {},
   "source": [
    "A função abaixo faz exatamente a mesma coisa que a que está acima, só que com outra formatação"
   ]
  },
  {
   "cell_type": "code",
   "execution_count": null,
   "metadata": {},
   "outputs": [],
   "source": [
    "students = []\n",
    "\n",
    "with open (\"students.csv\") as file:\n",
    "    for line in file:\n",
    "        name, house = line.rstrip().split(\",\")\n",
    "        student = {\"name\":name, \"house\": house}\n",
    "        students.append(student)\n",
    "\n",
    "for student in sorted(students, key = lambda student: student[\"name\"]):\n",
    "    print(f\"{student['name']} is in {student['house']}\")"
   ]
  },
  {
   "cell_type": "markdown",
   "metadata": {},
   "source": [
    "`lambda` => utilizar quando uma função só for usada uma vez, ao invés de escrever uma função, apenas utilize **lambda**  \n",
    ">lambda parametro: parametro[\"Key\"]"
   ]
  },
  {
   "cell_type": "markdown",
   "metadata": {},
   "source": [
    "`csv.reader()` => formata o arquivo .csv \"automaticamente\""
   ]
  },
  {
   "cell_type": "code",
   "execution_count": null,
   "metadata": {},
   "outputs": [],
   "source": [
    "import csv\n",
    "\n",
    "students = []\n",
    "with open (\"students.csv\") as file:\n",
    "    reader = csv.reader(file)\n",
    "    for row in reader:\n",
    "        students.append({\"name\": row[0], \"home\":[1]]})\n",
    "\n",
    "for student in sorted(students, key = lambda student: student[\"name\"]):\n",
    "    print(f\"{student['name']} is in {student['house']}\")"
   ]
  },
  {
   "cell_type": "markdown",
   "metadata": {},
   "source": [
    "o primeiro elemento da lista vai ser o students name, o segundo vai ser student home  \n",
    "\n",
    "#### OU"
   ]
  },
  {
   "cell_type": "code",
   "execution_count": null,
   "metadata": {},
   "outputs": [],
   "source": [
    "import csv\n",
    "\n",
    "students = []\n",
    "with open (\"students.csv\") as file:\n",
    "    reader = csv.reader(file)\n",
    "    for name, home in reader:\n",
    "        students.append({\"name\": name, \"home\": home})\n",
    "\n",
    "for student in sorted(students, key = lambda student: student[\"name\"]):\n",
    "    print(f\"{student['name']} is in {student['house']}\")"
   ]
  },
  {
   "cell_type": "markdown",
   "metadata": {},
   "source": [
    "Podemos também, na primeira linha do arquivo csv, colocar os parametros de um dict para ser puxado e interpretado pela função `csv.DictReader(file)`, retornando dict, um por vez.  \n",
    "No começo do arquivo csv, colocar a referência de cada parametro a ser associado\n",
    "\n",
    "> name,home  \n",
    "Harry,\"Number Four, Pivet Street\"  \n",
    "Ron,The Burrow  \n",
    "Draco,Malfoy Manor  "
   ]
  },
  {
   "cell_type": "code",
   "execution_count": null,
   "metadata": {},
   "outputs": [],
   "source": [
    "import csv\n",
    "\n",
    "students = []\n",
    "\n",
    "with open(\"students.csv\") as file:\n",
    "    reader = csv.DictReader(file)\n",
    "    for row in reader:\n",
    "            students.append({\"name\": row[\"name\"], \"home\": row[\"home\"]})\n",
    "\n",
    "for student in sorted(students, key = lambda student: student[\"name\"]):\n",
    "    print(f\"{student['name']} is in {student['home']}\")"
   ]
  },
  {
   "cell_type": "markdown",
   "metadata": {},
   "source": [
    "----------------------\n",
    "#### COMO DELETAR:"
   ]
  },
  {
   "cell_type": "code",
   "execution_count": null,
   "metadata": {},
   "outputs": [],
   "source": [
    "import csv\n",
    "\n",
    "students = []\n",
    "\n",
    "with open(\"students.csv\") as file:\n",
    "    reader = csv.DictReader(file)\n",
    "    for row in reader:\n",
    "        students.append(row)\n",
    "\n",
    "for i in range(len(students)):\n",
    "    if students[i][\"name\"] == \"Harry\":\n",
    "        del students[i]\n",
    "        break\n",
    "\n",
    "for dictionary in students:\n",
    "    print(dictionary)"
   ]
  },
  {
   "cell_type": "markdown",
   "metadata": {},
   "source": [
    "#### ADICIONANDO VALORES AO ARQUIVO CSV"
   ]
  },
  {
   "cell_type": "code",
   "execution_count": null,
   "metadata": {},
   "outputs": [],
   "source": [
    "import csv\n",
    "\n",
    "name = input(\"What's your name? \")\n",
    "home = input(\"What's your home? \")\n",
    "\n",
    "with open(\"students.csv\", \"a\") as file:\n",
    "    writer = csv.writer(file)\n",
    "    writer.writerow([name, home])"
   ]
  },
  {
   "cell_type": "markdown",
   "metadata": {},
   "source": [
    "No código abaixo, quando utilizado um `DictWriter`, o valor é automaticamente associado ao nome, sendo associado a respectiva coluna, passando, independente do valor, o valor associado para a coluna correta no arquivo csv"
   ]
  },
  {
   "cell_type": "code",
   "execution_count": null,
   "metadata": {},
   "outputs": [],
   "source": [
    "import csv\n",
    "\n",
    "name = input(\"What's your name? \")\n",
    "home = input(\"What's your home? \")\n",
    "with open(\"students.csv\", \"a\") as file:\n",
    "    writer = csv.DictWriter(file, fieldnames=[\"name\", \"home\"])\n",
    "    writer.writerow({\"name\": name, \"home\": home})\n",
    "    #ou\n",
    "    #writer.writerow({\"house\": house, \"name\": name})"
   ]
  }
 ],
 "metadata": {
  "kernelspec": {
   "display_name": "Python 3.11.1 64-bit",
   "language": "python",
   "name": "python3"
  },
  "language_info": {
   "name": "python",
   "version": "3.11.1"
  },
  "orig_nbformat": 4,
  "vscode": {
   "interpreter": {
    "hash": "5238573367df39f7286bb46f9ff5f08f63a01a80960060ce41e3c79b190280fa"
   }
  }
 },
 "nbformat": 4,
 "nbformat_minor": 2
}
