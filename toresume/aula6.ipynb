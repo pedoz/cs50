{
 "cells": [
  {
   "cell_type": "markdown",
   "metadata": {},
   "source": [
    "## File I/O\n",
    "input and output of files\n",
    "\n",
    "> Basicamente, aprenderemos como salvar ou inputs e outputs para mais tarde, salvando com consistência o que foi feito\n"
   ]
  },
  {
   "cell_type": "code",
   "execution_count": null,
   "metadata": {},
   "outputs": [],
   "source": [
    "names = []\n",
    "for _ in range(3):\n",
    "    name = input(\"What's your name? \")\n",
    "    names.append(name)\n",
    "print(f\"hello,{names}\")"
   ]
  },
  {
   "cell_type": "code",
   "execution_count": null,
   "metadata": {},
   "outputs": [],
   "source": [
    "names = []\n",
    "for _ in range(3):\n",
    "    names.append(input(\"What's your name? \"))\n",
    "print(f\"hello,{names}\")"
   ]
  },
  {
   "cell_type": "code",
   "execution_count": null,
   "metadata": {},
   "outputs": [],
   "source": [
    "names = []\n",
    "for _ in range(3):\n",
    "    names.append(input(\"What's your name? \"))\n",
    "for name in sorted(names):\n",
    "    print(f\"hello, {name}\")"
   ]
  },
  {
   "cell_type": "markdown",
   "metadata": {},
   "source": [
    "files i/o é uma maneira de salvar valores de uma maneira \"persistente(?)\""
   ]
  },
  {
   "cell_type": "markdown",
   "metadata": {},
   "source": [
    "`open` => função de, literalmente, abrir um arquivo, mas abrir de forma programática, para o programador poder ler as informações contidas ou escrever nelas.\n",
    "> para os programadores, é o equivalente a dar \"dois-cliques\" para abrir programas    \n",
    "\n",
    "\n",
    "A diferença é que conseguimos especificar o que queremos ler, ou escrever, do arquivo selecionado  \n",
    "Documentação: [OPEN DOCS](http://docs.python.org/3/library/functions.html#open)  \n",
    "É necessário o nome do arquivo que queremos abrir e, opcionalmente, como queremos abri-lo\n"
   ]
  },
  {
   "cell_type": "markdown",
   "metadata": {},
   "source": [
    "### Optional Syntax\n",
    "Caso não exista o arquivo que tu quer abrir, o `open` automaticamente cria ele para ti  \n",
    "\n",
    "**'r'** = open for reading (default/padrão)\n",
    "\n",
    "**'w'** = open for writing, truncating the file first (criar e escrever)\n",
    "\n",
    "**'x'** = open for exclusive creation, failing if the file already exists\n",
    "\n",
    "**'a'** = open for writing, appending to the end of file if it exists (append)\n",
    "\n",
    "**'b'** = binary mode\n",
    "\n",
    "**'t'** = text mode (default)\n",
    "\n",
    "**'+'** = open for updating (reading and writing)"
   ]
  },
  {
   "cell_type": "code",
   "execution_count": null,
   "metadata": {},
   "outputs": [],
   "source": [
    "name = input(\"What's your name? \")\n",
    "\n",
    "open(\"names.txt\", \"w\")"
   ]
  },
  {
   "cell_type": "markdown",
   "metadata": {},
   "source": [
    "caso não exista o arquivo que tu quer abrir, o `open` automaticamente cria ele para ti\n",
    "\n",
    "**CUIDADO**\n",
    "> \"w\" cria um novo arquivo, ou subscreve um já escrito, não pode ser usado para colcoar valores em um arquivo já criado, caso seja feito, irá subscreve-lo  \n",
    "\n",
    ">\"a\" junta sem formatar, criando um arquivo como \"HermioneHarryRon\", ao invés de formatá-los da maneira \"correta\""
   ]
  },
  {
   "cell_type": "code",
   "execution_count": null,
   "metadata": {},
   "outputs": [],
   "source": [
    "name = input(\"What's your name? \")\n",
    "\n",
    "file = open(\"names.txt\", \"a\")\n",
    "file.write(f\"{name}\\n\")\n",
    "file.close()"
   ]
  },
  {
   "cell_type": "markdown",
   "metadata": {},
   "source": [
    "Sempre precisamos fechar o arquivo, e temos outro jeito ao invés de `file.close()`  \n",
    "`with` => permite especificar que, neste contexto, quero abrir e automaticamente fechar um arquivo"
   ]
  },
  {
   "cell_type": "code",
   "execution_count": null,
   "metadata": {},
   "outputs": [],
   "source": [
    "#creating and writing\n",
    "name = input(\"What's your name? \")\n",
    "\n",
    "with open(\"names.txt\", \"a\") as file:\n",
    "    file.write(f\"{name}\\n\")"
   ]
  },
  {
   "cell_type": "markdown",
   "metadata": {},
   "source": [
    "No código abaixo, haverá um bug, onde a formatação está como `f\"{name}\\n`, e a função print tbm termina assim, criando dois `\\n`, ao invés de um só"
   ]
  },
  {
   "cell_type": "code",
   "execution_count": null,
   "metadata": {},
   "outputs": [],
   "source": [
    "with open(\"names.txt\", \"r\") as file:\n",
    "    lines = file.readlines()\n",
    "\n",
    "for line in lines:\n",
    "    print(\"Hello, \", line)"
   ]
  },
  {
   "cell_type": "code",
   "execution_count": null,
   "metadata": {},
   "outputs": [],
   "source": [
    "with open(\"names.txt\", \"r\") as file:\n",
    "    lines = file.readlines()\n",
    "\n",
    "for line in lines:\n",
    "    print(\"Hello, \", line.rstrip(\"\\n\"))\n",
    "    #ou\n",
    "    #print(\"Hello, \", line.rstrip())\n",
    "    #tirando só o final da linha"
   ]
  },
  {
   "cell_type": "markdown",
   "metadata": {},
   "source": [
    "Ao invés de fazer o trabalho linha por linha, podemos criar uma váriavel como a de baixo, e teremos o mesmo resultado"
   ]
  },
  {
   "cell_type": "code",
   "execution_count": null,
   "metadata": {},
   "outputs": [],
   "source": [
    "with open(\"names.txt\", \"r\") as file:\n",
    "    for line in file:\n",
    "        print(\"Hello, \", line.rstrip())"
   ]
  },
  {
   "cell_type": "markdown",
   "metadata": {},
   "source": [
    "Para organizar os names por ordem alfabética"
   ]
  },
  {
   "cell_type": "code",
   "execution_count": null,
   "metadata": {},
   "outputs": [],
   "source": [
    "names = []\n",
    "\n",
    "with open(\"names.txt\") as file:\n",
    "    for line in file:\n",
    "        names.append(line.rstrip())\n",
    "\n",
    "for name in sorted(names):\n",
    "    print(f\"Hello, {name}\")"
   ]
  },
  {
   "cell_type": "code",
   "execution_count": null,
   "metadata": {},
   "outputs": [],
   "source": [
    "\n",
    "with open(\"names.txt\") as file:\n",
    "    for line in sorted(file):\n",
    "        print(\"Hello, \", line.rstrip())"
   ]
  },
  {
   "cell_type": "markdown",
   "metadata": {},
   "source": [
    "Aqui, a documentação de [SORTED](\"https://docs.python.org/3/library/functions.html#sorted\")"
   ]
  },
  {
   "cell_type": "markdown",
   "metadata": {},
   "source": [
    "`csv` => utilizado para guardar multiplos pedaços de informação que estão relacionadas no mesmo arquivo"
   ]
  },
  {
   "cell_type": "markdown",
   "metadata": {},
   "source": [
    "Abaixo, `row`, por causa do`.rsplit(\",\")´, vai ser uma lista, cujo valor [0] equivale ao nome e o valor[1] equivale a casa"
   ]
  },
  {
   "cell_type": "code",
   "execution_count": null,
   "metadata": {},
   "outputs": [],
   "source": [
    "with open(\"students.csv\") as file:\n",
    "    for line in file:\n",
    "        row = line.rstrip().split(\",\")\n",
    "        print(f\"{row[0]} is in {row[1]}\")"
   ]
  },
  {
   "cell_type": "markdown",
   "metadata": {},
   "source": [
    "Pelo fato de `rsplit(\",\")` criar uma lista, podemos também criar duas (ou mais) váriaveis para atribuir a cada uma um respectivo valor"
   ]
  },
  {
   "cell_type": "code",
   "execution_count": null,
   "metadata": {},
   "outputs": [],
   "source": [
    "with open(\"students.csv\") as file:\n",
    "    for line in file:\n",
    "        name, house = line.rstrip().split(\",\")\n",
    "        print(f\"{name} is in {house}\")"
   ]
  },
  {
   "cell_type": "markdown",
   "metadata": {},
   "source": [
    "#### Organizando os arquivos pegos por nomes"
   ]
  },
  {
   "cell_type": "code",
   "execution_count": null,
   "metadata": {},
   "outputs": [],
   "source": [
    "students = []\n",
    "\n",
    "with open (\"students.csv\") as file:\n",
    "    for line in file:\n",
    "        name, house = line.rstrip().split(\",\")\n",
    "        students.append(f\"{name} is in {house}\")\n",
    "\n",
    "for student in sorted(students):\n",
    "    print(student)"
   ]
  },
  {
   "cell_type": "markdown",
   "metadata": {},
   "source": [
    "Lembrando que, quando utilizamos um dict, temos que utilizar \"str\" para apontar qual valor chave queremos resgatar"
   ]
  },
  {
   "cell_type": "code",
   "execution_count": null,
   "metadata": {},
   "outputs": [],
   "source": [
    "students = []\n",
    "\n",
    "with open (\"students.csv\") as file:\n",
    "    for line in file:\n",
    "        name, house = line.rstrip().split(\",\")\n",
    "        students = {}\n",
    "        student[\"name\"] = name\n",
    "        student[\"house\"] = house\n",
    "        students.append(student)\n",
    "\n",
    "for student in students:\n",
    "    print(f\"{student['name']} is in {student['house']}\")"
   ]
  },
  {
   "cell_type": "code",
   "execution_count": null,
   "metadata": {},
   "outputs": [],
   "source": [
    "students = []\n",
    "\n",
    "with open (\"students.csv\") as file:\n",
    "    for line in file:\n",
    "        name, house = line.rstrip().split(\",\")\n",
    "        student = {\"name\":name, \"house\": house}\n",
    "        students.append(student)\n",
    "\n",
    "for student in students:\n",
    "    print(f\"{student['name']} is in {student['house']}\")"
   ]
  },
  {
   "cell_type": "markdown",
   "metadata": {},
   "source": [
    "Python permite passar funções como argumentos para outras funções  \n",
    "`get_name` é uma função, assim como `sorted`, e passamos `get_name` para o `sorted` como o valor do parametro `key`  \n",
    "`get_name` só está pegando o nome do student, e é disso que sorted precisa para empenhar sua função  \n",
    "Agora, mesmo que tenhamos de uma forma mais organizada, temos que arranjar um jeito de \"sorted\" o dict, e fazemos do seguinte jeito:"
   ]
  },
  {
   "cell_type": "code",
   "execution_count": null,
   "metadata": {},
   "outputs": [],
   "source": [
    "students = []\n",
    "\n",
    "with open (\"students.csv\") as file:\n",
    "    for line in file:\n",
    "        name, house = line.rstrip().split(\",\")\n",
    "        student = {\"name\":name, \"house\": house}\n",
    "        students.append(student)\n",
    "\n",
    "def get_name(student):\n",
    "    return student[\"name\"]\n",
    "\n",
    "for student in sorted(students, key = get_name):\n",
    "    print(f\"{student['name']} is in {student['house']}\")"
   ]
  },
  {
   "cell_type": "code",
   "execution_count": null,
   "metadata": {},
   "outputs": [],
   "source": [
    "students = []\n",
    "\n",
    "with open (\"students.csv\") as file:\n",
    "    for line in file:\n",
    "        name, house = line.rstrip().split(\",\")\n",
    "        student = {\"name\":name, \"house\": house}\n",
    "        students.append(student)\n",
    "\n",
    "def get_house(student):\n",
    "    return student[\"house\"]\n",
    "\n",
    "for student in sorted(students, key = get_house):\n",
    "    print(f\"{student['name']} is in {student['house']}\")"
   ]
  },
  {
   "cell_type": "markdown",
   "metadata": {},
   "source": [
    "alfabetiza a lista baseado no return value da função `get_name`, e no `key`, tu n chama a função, só aponta qual vai ser usada e o sorted faz o trabalho de chamar e verificar a função e seus resultados"
   ]
  },
  {
   "cell_type": "code",
   "execution_count": null,
   "metadata": {},
   "outputs": [],
   "source": [
    "students = []\n",
    "\n",
    "with open (\"students.csv\") as file:\n",
    "    for line in file:\n",
    "        name, house = line.rstrip().split(\",\")\n",
    "        student = {\"name\":name, \"house\": house}\n",
    "        students.append(student)\n",
    "\n",
    "for student in sorted(students, key = lambda student: student[\"name\"]):\n",
    "    print(f\"{student['name']} is in {student['house']}\")"
   ]
  },
  {
   "cell_type": "markdown",
   "metadata": {},
   "source": [
    "`lambda` => avisa pro python que está vindo uma função, mas ela não tem nome, é \"anonima\", pois se só vai utilizar ela uma vez, não há a necessidade de criar uma função só para isso  \n",
    "lambda parametro: queroEntrarNoIndexDaqueleStudent[acessarOValorQueChamaAChave]"
   ]
  },
  {
   "cell_type": "markdown",
   "metadata": {},
   "source": [
    "DOCUMENTAÇÂO DO [CSV](\"https://docs.python.org/3/library/csv.html\")"
   ]
  },
  {
   "cell_type": "markdown",
   "metadata": {},
   "source": [
    "`csv.reader()` => lê pra ti o arquivo.csv e faz a mágica automaticamente"
   ]
  },
  {
   "cell_type": "code",
   "execution_count": null,
   "metadata": {},
   "outputs": [],
   "source": [
    "import csv\n",
    "\n",
    "students = []\n",
    "\n",
    "with open (\"students.csv\") as file:\n",
    "    reader = csv.reader(file)\n",
    "    for row in reader:\n",
    "        students.append({\"name\": row[0], \"home\":[1]]})\n",
    "\n",
    "\n",
    "\n",
    "\n",
    "for student in sorted(students, key = lambda student: student[\"name\"]):\n",
    "    print(f\"{student['name']} is in {student['house']}\")"
   ]
  },
  {
   "cell_type": "markdown",
   "metadata": {},
   "source": [
    "o primeiro elemento da lista vai ser o students name, o segundo vai ser student home"
   ]
  },
  {
   "cell_type": "code",
   "execution_count": null,
   "metadata": {},
   "outputs": [],
   "source": [
    "import csv\n",
    "\n",
    "students = []\n",
    "\n",
    "with open (\"students.csv\") as file:\n",
    "    reader = csv.reader(file)\n",
    "    for name, home in reader:\n",
    "        students.append({\"name\": name, \"home\": home})\n",
    "\n",
    "for student in sorted(students, key = lambda student: student[\"name\"]):\n",
    "    print(f\"{student['name']} is in {student['house']}\")"
   ]
  },
  {
   "cell_type": "markdown",
   "metadata": {},
   "source": [
    "Podemos também, na primeira linha do arquivo csv, colocar os parametros de um dict para ser puxado e interpretado pela função `csv.DictReader(file)`, retornando dict, um por vez.  \n",
    "No começo do arquivo csv, colocar a referência de cada parametro a ser associado\n",
    "\n",
    "> name,home  \n",
    "Harry,\"Number Four, Pivet Street\"  \n",
    "Ron,The Burrow  \n",
    "Draco,Malfoy Manor  "
   ]
  },
  {
   "cell_type": "code",
   "execution_count": null,
   "metadata": {},
   "outputs": [],
   "source": [
    "import csv\n",
    "\n",
    "students = []\n",
    "\n",
    "with open(\"students.csv\") as file:\n",
    "    reader = csv.DictReader(file)\n",
    "    for row in reader:\n",
    "            students.append({\"name\": row[\"name\"], \"home\": row[\"home\"]})\n",
    "\n",
    "for student in sorted(students, key = lambda student: student[\"name\"]):\n",
    "    print(f\"{student['name']} is in {student['home']}\")"
   ]
  },
  {
   "cell_type": "markdown",
   "metadata": {},
   "source": [
    "como deletar:"
   ]
  },
  {
   "cell_type": "code",
   "execution_count": null,
   "metadata": {},
   "outputs": [],
   "source": [
    "import csv\n",
    "\n",
    "students = []\n",
    "\n",
    "with open(\"students.csv\") as file:\n",
    "    reader = csv.DictReader(file)\n",
    "    for row in reader:\n",
    "        students.append(row)\n",
    "\n",
    "for i in range(len(students)):\n",
    "    if students[i][\"name\"] == \"Harry\":\n",
    "        del students[i]\n",
    "        break\n",
    "\n",
    "for dictionary in students:\n",
    "    print(dictionary)"
   ]
  },
  {
   "cell_type": "markdown",
   "metadata": {},
   "source": [
    "como add valores ao arquivo csv:"
   ]
  },
  {
   "cell_type": "code",
   "execution_count": null,
   "metadata": {},
   "outputs": [],
   "source": [
    "import csv\n",
    "\n",
    "name = input(\"What's your name? \")\n",
    "home = input(\"What's your home? \")\n",
    "\n",
    "with open(\"students.csv\", \"a\") as file:\n",
    "    writer = csv.writer(file)\n",
    "    writer.writerow([name, home])\n"
   ]
  },
  {
   "cell_type": "markdown",
   "metadata": {},
   "source": [
    "No código abaixo, quando utilizado um `DictWriter`, o valor é automaticamente associado ao nome, sendo associado a respectiva coluna, passando, independente do valor, o valor associado para a coluna correta no arquivo csv"
   ]
  },
  {
   "cell_type": "code",
   "execution_count": null,
   "metadata": {},
   "outputs": [],
   "source": [
    "import csv\n",
    "\n",
    "name = input(\"What's your name? \")\n",
    "home = input(\"What's your home? \")\n",
    "\n",
    "with open(\"students.csv\", \"a\") as file:\n",
    "    writer = csv.DictWriter(file, fieldnames=[\"name\", \"home\"])\n",
    "    writer.writerow({\"name\": name, \"home\": home})\n",
    "    #ou\n",
    "    #writer.writerow({\"house\": house, \"name\": name})\n"
   ]
  },
  {
   "cell_type": "markdown",
   "metadata": {},
   "source": [
    "Podemos usar varios tipos de arquivos além do csv, como \".txt\"\n",
    "`PIL` - [PILLOW](\"https://pillow.readthedocs.io\") => para usar images files  \n",
    "  \n",
    "Como criar um GIF:"
   ]
  },
  {
   "cell_type": "code",
   "execution_count": null,
   "metadata": {},
   "outputs": [],
   "source": [
    "import sys\n",
    "\n",
    "from PIL import Image\n",
    "\n",
    "images = []\n",
    "\n",
    "for arg in sys.argv[1:]:\n",
    "    image = Image.open(arg)\n",
    "    #colocar no terminal os argumentos para criar um GIF\n",
    "    images.append(image)\n",
    "\n",
    "images[0].save(\n",
    "    \"costume.gif\", save_all=True, append_images=[image[1]], duration = 200, loop = 0\n",
    ")\n",
    "#pillow lib faz a mão de abrir, fechar e salvar automaticamente"
   ]
  },
  {
   "cell_type": "markdown",
   "metadata": {},
   "source": [
    "`images[0].save(  \n",
    "    \"costume.gif\", save_all=True, append_image=[image[1]], duration = 200, loop = 0  \n",
    ")"
   ]
  },
  {
   "cell_type": "markdown",
   "metadata": {},
   "source": [
    "costume.gif => o arquivo no qual vai ser salvo  \n",
    "save_all=True => faz com que os valores (nesse caso, os frames do gif) sejam salvos sem precisar ser resgatados todas as vezes que forem utilizados  \n",
    "append_image=[image[1]] => para salvar, também, essa outra imagem ao arquivo, se tivessemos mais, podiamos também expressar isso  \n",
    "duration = 200 => cada frame tera 200ms, ou 1/5 de segundos  \n",
    "loop = 0 => cria um loop infinito, caso quisessemos por um limite de mudança, colocar aqui quantos \"ciclos\" esse programa faria até encerrar"
   ]
  }
 ],
 "metadata": {
  "kernelspec": {
   "display_name": "Python 3.11.1 64-bit",
   "language": "python",
   "name": "python3"
  },
  "language_info": {
   "name": "python",
   "version": "3.11.1"
  },
  "orig_nbformat": 4,
  "vscode": {
   "interpreter": {
    "hash": "5238573367df39f7286bb46f9ff5f08f63a01a80960060ce41e3c79b190280fa"
   }
  }
 },
 "nbformat": 4,
 "nbformat_minor": 2
}
