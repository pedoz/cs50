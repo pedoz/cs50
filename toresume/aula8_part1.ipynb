{
 "cells": [
  {
   "cell_type": "markdown",
   "metadata": {},
   "source": [
    "# OBJECT-ORIENTED PROGRAMMING"
   ]
  },
  {
   "cell_type": "markdown",
   "metadata": {},
   "source": [
    "#### PART 1:"
   ]
  },
  {
   "cell_type": "markdown",
   "metadata": {},
   "source": [
    "OOP => "
   ]
  },
  {
   "cell_type": "code",
   "execution_count": null,
   "metadata": {},
   "outputs": [],
   "source": [
    "#       students.py\n",
    "def main():\n",
    "    name = input(\"Name: \")\n",
    "    house = input(\"House: \")\n",
    "    print(f\"{name} from {house}\")\n"
   ]
  },
  {
   "cell_type": "code",
   "execution_count": null,
   "metadata": {},
   "outputs": [],
   "source": [
    "def main():\n",
    "    name = get_name()\n",
    "    house = get_house()\n",
    "    print(f\"{name} from {house}\")\n",
    "\n",
    "def get_name():\n",
    "    return input(\"Name: \")\n",
    "\n",
    "def get_house():\n",
    "    return input(\"House: \")\n",
    "\n",
    "if __name__ == \"__main__\":\n",
    "    main()"
   ]
  },
  {
   "cell_type": "code",
   "execution_count": null,
   "metadata": {},
   "outputs": [],
   "source": [
    "def main():\n",
    "    name, house = get_student()\n",
    "    print(f\"{name} from {house}\")\n",
    "\n",
    "def get_student():\n",
    "    name = input(\"Name: \")\n",
    "    house = input(\"House: \")\n",
    "    return name, house\n",
    "\n",
    "\n",
    "if __name__ == \"__main__\":\n",
    "    main()"
   ]
  },
  {
   "cell_type": "markdown",
   "metadata": {},
   "source": [
    "tuple => collection of values that's **immutable**  \n",
    ">Quando utilizamos **,** em `return`, estamos retornando um tuple, similar espiritualmente a retornar uma lista com duas coisas, porem estamos retornando um valor(tuple) com duas coisas"
   ]
  },
  {
   "cell_type": "code",
   "execution_count": null,
   "metadata": {},
   "outputs": [],
   "source": [
    "def main():\n",
    "    student = get_student()\n",
    "    print(f\"{student[0]} from {student[1]}\")\n",
    "\n",
    "def get_student():\n",
    "    name = input(\"Name: \")\n",
    "    house = input(\"House: \")\n",
    "    return name, house\n",
    "\n",
    "\n",
    "if __name__ == \"__main__\":\n",
    "    main()"
   ]
  },
  {
   "cell_type": "markdown",
   "metadata": {},
   "source": [
    "Abaixo, quando tentamos mudar o tuple, ele dará um erro (TypeError)"
   ]
  },
  {
   "cell_type": "code",
   "execution_count": null,
   "metadata": {},
   "outputs": [],
   "source": [
    "def main():\n",
    "    student = get_student()\n",
    "    if student[0] == \"Padma\":\n",
    "        student[1] = \"Ravenclaw\"\n",
    "    print(f\"{student[0]} from {student[1]}\")\n",
    "\n",
    "def get_student():\n",
    "    name = input(\"Name: \")\n",
    "    house = input(\"House: \")\n",
    "    return name, house\n",
    "\n",
    "\n",
    "if __name__ == \"__main__\":\n",
    "    main()"
   ]
  },
  {
   "cell_type": "code",
   "execution_count": null,
   "metadata": {},
   "outputs": [],
   "source": [
    "def main():\n",
    "    student = get_student()\n",
    "    if student[0] == \"Padma\":\n",
    "        student[1] = \"Ravenclaw\"\n",
    "    print(f\"{student[0]} from {student[1]}\")\n",
    "\n",
    "def get_student():\n",
    "    name = input(\"Name: \")\n",
    "    house = input(\"House: \")\n",
    "    return [name, house]\n",
    "#assim pode, pq agr é uma lista\n",
    "\n",
    "if __name__ == \"__main__\":\n",
    "    main()"
   ]
  },
  {
   "cell_type": "code",
   "execution_count": null,
   "metadata": {},
   "outputs": [],
   "source": [
    "def main():\n",
    "    student = get_student()\n",
    "    print(f\"{student['name']} from {student['house']}\")\n",
    "\n",
    "def get_student():\n",
    "    student = {}\n",
    "    student[\"name\"] = input(\"Name: \")\n",
    "    student[\"house\"] = input(\"House: \")\n",
    "    return student\n",
    "\n",
    "if __name__ == \"__main__\":\n",
    "    main()"
   ]
  },
  {
   "cell_type": "code",
   "execution_count": null,
   "metadata": {},
   "outputs": [],
   "source": [
    "def main():\n",
    "    student = get_student()\n",
    "    print(f\"{student['name']} from {student['house']}\")\n",
    "\n",
    "def get_student():\n",
    "    name = input(\"Name: \")\n",
    "    house = input(\"House: \")\n",
    "    return {'name': name, 'house': house}\n",
    "\n",
    "if __name__ == \"__main__\":\n",
    "    main()"
   ]
  },
  {
   "cell_type": "markdown",
   "metadata": {},
   "source": [
    "dict, assim como list, são mutáveis"
   ]
  },
  {
   "cell_type": "code",
   "execution_count": 1,
   "metadata": {},
   "outputs": [
    {
     "name": "stdout",
     "output_type": "stream",
     "text": [
      " from \n"
     ]
    }
   ],
   "source": [
    "def main():\n",
    "    student = get_student()\n",
    "    if student['name'] == 'Padma':\n",
    "        student['house'] = 'Ravenclaw'\n",
    "    print(f\"{student['name']} from {student['house']}\")\n",
    "\n",
    "def get_student():\n",
    "    name = input(\"Name: \")\n",
    "    house = input(\"House: \")\n",
    "    return {'name': name, 'house': house}\n",
    "\n",
    "if __name__ == \"__main__\":\n",
    "    main()"
   ]
  },
  {
   "cell_type": "markdown",
   "metadata": {},
   "source": [
    "--------------------------\n",
    "## CLASSES\n",
    "A class is like a blueprint for pieces of data objects  \n",
    "You can define and give a name, and when you use this blueprint, you get types of data exactly as you wanted  \n",
    "Basicamente, permite você criar seus proprios `Data Types`  \n",
    "Por convenção, em class, utilizamos a primeira letra maiúscula\n"
   ]
  },
  {
   "cell_type": "markdown",
   "metadata": {},
   "source": [
    "#### Como usar a `Class`:\n",
    "\n",
    "Elas contém atributos, propriedade de organizar que te permite especificar valores dentro dela.  \n",
    "Utilizar **.** para atribuir valores a class  \n",
    "Ela se torna uma função, podendo ser chamada com ()\n",
    ".  \n",
    "Quando utilizamos `class`, estamos criando o que é chamado de \"objeto\"  \n",
    "> Nessa linha, estamos criando um objeto dessa `class`  \n",
    ">> `student = Student()`  \n",
    "\n",
    "São mutáveis, mas podem ser feitos imutáveis  \n",
    "\n",
    ">`students.name` e `students.house`são atributos, cujo nome técnico é **\"Instance variables\"**  \n",
    "\n",
    "Com classes, podemos especificar o que esses atributos podem ser e que tipo de dado armazenar neles \n"
   ]
  },
  {
   "cell_type": "markdown",
   "metadata": {},
   "source": [
    "#### Objects:  \n",
    "São criados a partir das classes,   \n",
    "Se `class` são como moldes/blueprint, `objects` são quando utilizamos esse molde/blueprint  \n",
    "> Objects também podem ser chamados de \"Instances\"  \n",
    "\n"
   ]
  },
  {
   "cell_type": "code",
   "execution_count": null,
   "metadata": {},
   "outputs": [],
   "source": [
    "class Student:\n",
    "    ...\n",
    "\n",
    "\n",
    "def main():\n",
    "    student = get_student()\n",
    "    print(f\"{student.name} from {student.house}\")\n",
    "\n",
    "def get_student():\n",
    "    student = Student()\n",
    "    student.name = input(\"Name: \")\n",
    "    student.house = input(\"House: \")\n",
    "    return student\n",
    "\n",
    "\n",
    "\n",
    "if __name__ == \"__main__\":\n",
    "    main()"
   ]
  },
  {
   "cell_type": "markdown",
   "metadata": {},
   "source": [
    "Abaixo, tem um exemplo de como fazemos para padronizar os dados que são enviados para Student(), tendo mais controle sobre o acertividade dos dados recebidos  \n",
    "\n",
    "Além de atributos e \"instance variables\", também há o que é chamado de **methods**:  \n",
    ">classes vem com certos metodos, certas funções imbutidas nelas, que podemos definir e elas se comportam de uma maneira especial, permitindo a padronização do comportamento"
   ]
  },
  {
   "cell_type": "code",
   "execution_count": null,
   "metadata": {},
   "outputs": [],
   "source": [
    "class Student():\n",
    "    def __init__(self, name, house):\n",
    "        self.name = name\n",
    "        self.house = house\n",
    "\n",
    "\n",
    "def main():\n",
    "    student = get_student() # student é equivalente ao retorno do get_student, que é a class, transformando-o em um objeto, sem\n",
    "                            #precisar ser redundante no get_student\n",
    "    print(f\"{student.name} from {student.house}\")\n",
    "\n",
    "\n",
    "def get_student():\n",
    "    name = input(\"Name: \")\n",
    "    house = input(\"House: \")\n",
    "    return Student(name, house) \n",
    "        #        ^-> Aqui, tem o que é chamado de \"constructor call\", que está criando um objeto, chamado student\n",
    "        # `Students()` permite customizar o conteúdo desse objeto\n",
    "        # => uma analogia é, passando por um bairro com casas, todas as casas são quase identicas,\n",
    "        # mudando apenas as cores e o quintal, é basicamente isso que está acontecendo, \n",
    "        # estamos padronizando os objetos, mas cada um vai ter suas proprias \"decorações\" "
   ]
  },
  {
   "cell_type": "markdown",
   "metadata": {},
   "source": [
    "`self` => permite guardar as variavéis, sem especificar o nome, só os dados que são armazenados  \n",
    "self, na verdade, é uma convenção, podemos utilizar qualquer nome, e ele permite acessar os dados do objeto atual, que acabou de ser criado\n",
    "\n",
    "### Methods Types:  \n",
    "`__init__` => utilizado para iniciar o conteúdo do objeto de uma class  \n",
    "`__str__` => se for definido dentro da sua class, python vai, automaticamente, chamar essa função em qualquer momento que outra função quiser ver seu objeto como uma string, e sempre vai mandar o objeto que está sendo chamado  \n"
   ]
  },
  {
   "cell_type": "markdown",
   "metadata": {},
   "source": [
    "#### Validando se as condições de class foram satisfeitas:  \n",
    "\n",
    "`if not name` equivalente a `if name == \"\"`  \n",
    "\n",
    "classes te incentiva encapsular dentro da class todas as funcionalidades associadas à aquela class  \n",
    "`raise` => criar suas próprias excessões, mostrando o que deu de errado, criando aprametros para os erros acontecerem  \n",
    "Com `raise`, podemos levantar funções com os erros, e explicar pro usuário o que aconteceu de errado  \n",
    "\n",
    "dentro do `__init__`, podemos criar valores opcionais, como (self, name, house=None), `house` é opcional agora  "
   ]
  },
  {
   "cell_type": "code",
   "execution_count": null,
   "metadata": {},
   "outputs": [],
   "source": [
    "class Student():\n",
    "    def __init__(self, name, house):\n",
    "        if not name:\n",
    "            raise ValueError(\"Missing Name\")\n",
    "        if house not in [\"Gryffindor\", \"Hufflepuff\", \"Ravenclaw\", \"Slytherin\"]:\n",
    "            raise ValueError(\"Invalid House\")\n",
    "        self.name = name\n",
    "        self.house = house\n",
    "\n",
    "    def __str__(self):\n",
    "        return f\"{self.name} from {self.house}\"\n",
    "\n",
    "\n",
    "\n",
    "def main():\n",
    "    student = get_student()\n",
    "    print(student)\n",
    "\n",
    "\n",
    "def get_student():\n",
    "    name = input(\"Name: \")\n",
    "    house = input(\"House: \")\n",
    "    return Student(name, house) \n",
    "\n",
    "\n",
    "if __name__ == \"__main__\":\n",
    "    main()"
   ]
  },
  {
   "cell_type": "markdown",
   "metadata": {},
   "source": [
    "### Criando funções personalizadas dentro da class:  \n",
    "Quando criada, precisamos, obrigatóriamente, colocar pelo menos um valor dentro do `()`,  o `self`do objeto, para ele poder executar a função  \n",
    "Assim, associando uma função ao objeto criado a partir daquela class, podendo ser chamada com o objeto.func()  \n"
   ]
  },
  {
   "cell_type": "code",
   "execution_count": null,
   "metadata": {},
   "outputs": [],
   "source": [
    "class Student():\n",
    "    def __init__(self, name, house, patronus):\n",
    "        if not name:\n",
    "            raise ValueError(\"Missing Name\")\n",
    "        if house not in [\"Gryffindor\", \"Hufflepuff\", \"Ravenclaw\", \"Slytherin\"]:\n",
    "            raise ValueError(\"Invalid House\")\n",
    "        self.name = name\n",
    "        self.house = house\n",
    "        self.patronus = patronus\n",
    "\n",
    "    def __str__(self):\n",
    "        return f\"{self.name} from {self.house}\"\n",
    "\n",
    "    def charm(self):\n",
    "        match self.patronus:\n",
    "            case \"Stag\":\n",
    "                return \"cavalo\"\n",
    "            case \"Otter\":\n",
    "                return \"aquilo ali\"\n",
    "            case \"Jack Russel Terrier\":\n",
    "                return 'Dog'\n",
    "            case _:\n",
    "                return \"Varinha do sifufu\"\n",
    "\n",
    "\n",
    "\n",
    "def main():\n",
    "    student = get_student()\n",
    "    print(\"Expecto Patronum!\")\n",
    "    print(student.charm())\n",
    "\n",
    "\n",
    "def get_student():\n",
    "    name = input(\"Name: \")\n",
    "    house = input(\"House: \")\n",
    "    patronus = input(\"Patronus: \")\n",
    "    return Student(name, house, patronus) \n",
    "\n",
    "\n",
    "if __name__ == \"__main__\":\n",
    "    main()"
   ]
  },
  {
   "cell_type": "markdown",
   "metadata": {},
   "source": [
    "Por enquanto, o que está em `Student()` é mutável, então, mesmo que as condições não sejam válidas, como, por exemplo, não ter um nome, podemos colocar `self.house = \"queijo\"`, e esse valor vai sobeescrever o `self.house`, mesmo que as condições não fossem satisfeitas anteriormente  \n",
    "\n",
    "### `properties`:  \n",
    "É um atributo com mais funcionalidades defensivas, para evitar erros ou mudanças indesejadas  \n",
    "> `@property`  \n",
    "\n",
    "`decorators` => funções que modificam o comportamento de outras funções  \n",
    "usando `decoratos` para definir `properties`:  \n",
    "- getter => função de uma classe que adquire um atributo => sempre `self`  \n",
    "- setter => função que atribui um valor => sempre `self` + uma variavél  \n",
    "\n",
    "\n",
    "Abaixo, estamos tentando previnir o usuário de modificar a class student  \n",
    "**NÂO PODEMOS TER FUNÇÕES E VARIAVEIS COM O MESMO NOME**  \n",
    "Por convenção, colocamos um **`_`** para diferenciar a função da variavel => **APENAS NO `GETTER` E `SETTER`**\n",
    "  \n",
    "> Ou seja, dentro da função, utilizar o nome diferente para a variavel caso o nome da função coincida com o da váriavel (que vai acontecer, pelo visto)"
   ]
  },
  {
   "cell_type": "code",
   "execution_count": null,
   "metadata": {},
   "outputs": [],
   "source": [
    "class Student():\n",
    "    def __init__(self, name, house):\n",
    "        if not name:\n",
    "            raise ValueError(\"Missing Name\")\n",
    "        #tiramos o que tinha aqui pq students.house já vai ser chamado pelo getter\n",
    "        self.name = name\n",
    "        self.house = house\n",
    "\n",
    "    def __str__(self):\n",
    "        return f\"{self.name} from {self.house}\"\n",
    "\n",
    "    #getter => função de uma classe que adquire um atributo\n",
    "    @property\n",
    "    def house(self):\n",
    "        return self._house\n",
    "\n",
    "    #setter => função que atribui um valor\n",
    "    @house.setter\n",
    "    def house(self, house):\n",
    "        if house not in [\"Gryffindor\", \"Hufflepuff\", \"Ravenclaw\", \"Slytherin\"]:\n",
    "            raise ValueError(\"Invalid House\")\n",
    "        self._house = house\n",
    "\n",
    "    #agora, python não vai permitir acessar student.house diretamente, fazendo com que se a função student.house for chamada\n",
    "    #vai vir aqui verificar, ao invés de sobrepor o valor sem checar se é válido\n",
    "\n",
    "\n",
    "def main():\n",
    "    student = get_student()\n",
    "    #student.house = \"Hogwarts\" <------- estamos tentando previnir isso aqui de ser válido!!!!\n",
    "    print(student)\n",
    "\n",
    "\n",
    "def get_student():\n",
    "    name = input(\"Name: \")\n",
    "    house = input(\"House: \")\n",
    "    return Student(name, house) \n",
    "\n",
    "\n",
    "if __name__ == \"__main__\":\n",
    "    main()"
   ]
  },
  {
   "cell_type": "code",
   "execution_count": null,
   "metadata": {},
   "outputs": [],
   "source": [
    "class Student():\n",
    "    def __init__(self, name, house):\n",
    "        self.name = name\n",
    "        self.house = house\n",
    "\n",
    "    def __str__(self):\n",
    "        return f\"{self.name} from {self.house}\"\n",
    "\n",
    "    @property\n",
    "    def name(self):\n",
    "        return self._name\n",
    "\n",
    "    @name.setter\n",
    "    def name(self, name):\n",
    "        if not name:\n",
    "            raise ValueError(\"Missing Name\")\n",
    "        self._name = name\n",
    "\n",
    "    @property\n",
    "    def house(self):\n",
    "        return self._house\n",
    "\n",
    "    @house.setter\n",
    "    def house(self, house):\n",
    "        if house not in [\"Gryffindor\", \"Hufflepuff\", \"Ravenclaw\", \"Slytherin\"]:\n",
    "            raise ValueError(\"Invalid House\")\n",
    "        self._house = house\n",
    "\n",
    "\n",
    "def main():\n",
    "    student = get_student()\n",
    "    print(student)\n",
    "\n",
    "\n",
    "def get_student():\n",
    "    name = input(\"Name: \")\n",
    "    house = input(\"House: \")\n",
    "    return Student(name, house) \n",
    "\n",
    "\n",
    "if __name__ == \"__main__\":\n",
    "    main()"
   ]
  }
 ],
 "metadata": {
  "kernelspec": {
   "display_name": "Python 3.11.1 64-bit",
   "language": "python",
   "name": "python3"
  },
  "language_info": {
   "codemirror_mode": {
    "name": "ipython",
    "version": 3
   },
   "file_extension": ".py",
   "mimetype": "text/x-python",
   "name": "python",
   "nbconvert_exporter": "python",
   "pygments_lexer": "ipython3",
   "version": "3.11.1"
  },
  "orig_nbformat": 4,
  "vscode": {
   "interpreter": {
    "hash": "5238573367df39f7286bb46f9ff5f08f63a01a80960060ce41e3c79b190280fa"
   }
  }
 },
 "nbformat": 4,
 "nbformat_minor": 2
}
