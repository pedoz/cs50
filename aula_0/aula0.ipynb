{
 "cells": [
  {
   "cell_type": "markdown",
   "id": "853af8a1-6dfa-49b6-83fa-b9c1e8b8f785",
   "metadata": {},
   "source": [
    "# AULA 0 - PROGRAMAÇÃO\n",
    "`PRINT FUNCTION`\n",
    ">',' separa parametros, e separa os argumentos com espaço"
   ]
  },
  {
   "cell_type": "code",
   "execution_count": 1,
   "id": "e2674346-aaaf-4eec-bb2f-ed02e0996385",
   "metadata": {},
   "outputs": [
    {
     "name": "stdout",
     "output_type": "stream",
     "text": [
      "Hello, luiz\n"
     ]
    }
   ],
   "source": [
    "name = input(\"What's your name?\")\n",
    "print(\"Hello, \" + name)"
   ]
  },
  {
   "cell_type": "code",
   "execution_count": null,
   "id": "60f4242f-3307-4010-9f4d-14b9ef76d355",
   "metadata": {},
   "outputs": [],
   "source": [
    "name = input(\"Name: \")\n",
    "print(\"Hello, \",end=\"\")\n",
    "print(name)\n"
   ]
  },
  {
   "cell_type": "markdown",
   "id": "0341807a-2561-463a-b0d4-683beee770de",
   "metadata": {},
   "source": [
    "> ' ou \" separa e lê como tu quer o print"
   ]
  },
  {
   "cell_type": "code",
   "execution_count": null,
   "id": "8412bba7-6146-4efd-b1a6-6b1b9513fb57",
   "metadata": {},
   "outputs": [],
   "source": [
    "print(\"Hello, \\\"friend\\\"\")"
   ]
  },
  {
   "cell_type": "code",
   "execution_count": null,
   "id": "4778aeac-6ce8-4329-a8ac-33fbfb5b1fb2",
   "metadata": {},
   "outputs": [],
   "source": [
    "print(\"Hello,\",name +\"!\")"
   ]
  },
  {
   "cell_type": "code",
   "execution_count": null,
   "id": "068e8b5f-9a56-486a-86b8-2038f2547a01",
   "metadata": {},
   "outputs": [],
   "source": [
    "print('Hello, \"friend\"')"
   ]
  },
  {
   "cell_type": "markdown",
   "id": "01d0efbd-2403-4b1a-9930-cb6753fbaa10",
   "metadata": {},
   "source": [
    "`.strip` = remove os espaços das strings da esquerda e da direita, colocando 'r' ou 'l' .strip, ele só tira da direita/esquerda"
   ]
  },
  {
   "cell_type": "code",
   "execution_count": null,
   "id": "5a64b695-ad8a-41eb-9f46-41a9ba96145e",
   "metadata": {},
   "outputs": [],
   "source": [
    "name = name.strip()"
   ]
  },
  {
   "cell_type": "markdown",
   "id": "b1a33f7c-d0e1-4b65-8f46-fba9bab0fcef",
   "metadata": {},
   "source": [
    "`.capitalize` = Apenas a primeira letra fica maiúscula"
   ]
  },
  {
   "cell_type": "code",
   "execution_count": null,
   "id": "6fa9f82f-6868-4873-87b3-124163b60fd3",
   "metadata": {},
   "outputs": [],
   "source": [
    "name = name.capitalize()"
   ]
  },
  {
   "cell_type": "markdown",
   "id": "d8140e1d-be8e-4090-bb20-8a5a0084e584",
   "metadata": {
    "tags": []
   },
   "source": [
    "`.title` = Todas as primeiras letras de cada palavra ficam maiúsculas"
   ]
  },
  {
   "cell_type": "code",
   "execution_count": null,
   "id": "98da70ae-04a8-4ce7-a65b-3b78615ccee8",
   "metadata": {},
   "outputs": [],
   "source": [
    "name = name.title()"
   ]
  },
  {
   "cell_type": "markdown",
   "id": "db571de8-f3b3-4ed8-8a4d-469ea987bb7a",
   "metadata": {},
   "source": [
    "##### Como montar:"
   ]
  },
  {
   "cell_type": "code",
   "execution_count": null,
   "id": "470cc673-4d91-4e24-9f10-4893deb96c0c",
   "metadata": {},
   "outputs": [],
   "source": [
    "name = input(\"What's your name? \")\n",
    "name = name.strip().title()"
   ]
  },
  {
   "cell_type": "code",
   "execution_count": null,
   "id": "9ef4f31c-273c-4aab-acbd-2da1c33dc282",
   "metadata": {},
   "outputs": [],
   "source": [
    "name = input(\"What's your name? \").strip().title()"
   ]
  },
  {
   "cell_type": "markdown",
   "id": "f743cfca-f2ab-47e9-b8f0-ba197a4f4551",
   "metadata": {},
   "source": [
    "`.split` = separa os argumentos, podendo criar novos parametros"
   ]
  },
  {
   "cell_type": "code",
   "execution_count": null,
   "id": "f630ec20-e65b-4181-9ff0-6f6fd7e2f7eb",
   "metadata": {},
   "outputs": [],
   "source": [
    "name = input(\"What's your name? \").strip().title()\n",
    "first, last = name.split(\" \")\n",
    "print(f\"Hello, {first}!\")"
   ]
  },
  {
   "cell_type": "markdown",
   "id": "2358e4b7-1d76-4853-97d7-080ed223c392",
   "metadata": {},
   "source": [
    "`def` -> cria uma função nova"
   ]
  },
  {
   "cell_type": "code",
   "execution_count": null,
   "id": "69394a50-cb0a-48e6-b34d-8cb951d9d891",
   "metadata": {},
   "outputs": [],
   "source": [
    "def hello(to):\n",
    "#         ^-> faz a função aceitar parametros, nesse caso, apenas um parametro\n",
    "    print(\"Hello,\", to)\n",
    "                     \n",
    "\n",
    "name = input(\"What's your name? \")\n",
    "hello(name)\n",
    "#       ^-> faz com que ele saiba qual a variavel utilizada no parametro"
   ]
  },
  {
   "cell_type": "code",
   "execution_count": null,
   "id": "b72389f8-4a2d-4b46-a7f1-11a29d584694",
   "metadata": {},
   "outputs": [],
   "source": [
    "def hello(to = \"world\"):\n",
    "#                 ^-> faz com que, se a função(hello, neste caso)\n",
    "#for chama e não tiver #input, ou se não for dado pelo programador, \n",
    "#ela tenha um valor pré-definido, podendo, \n",
    "#depois, ser alterada com outra linha de código contendo a váriavel\n",
    "    print(\"Hello,\", to)\n",
    "\n",
    "hello()\n",
    "name = input(\"What's your name? \")\n",
    "hello(name)"
   ]
  },
  {
   "cell_type": "markdown",
   "id": "7af437bc-b03a-40c6-92b2-e9678a81986c",
   "metadata": {},
   "source": [
    "### Código final de Hello.py:"
   ]
  },
  {
   "cell_type": "code",
   "execution_count": null,
   "id": "91658f0f-0424-4027-a966-e222269f1984",
   "metadata": {},
   "outputs": [],
   "source": [
    "def main():\n",
    "    hello()\n",
    "    name = input(\"What's your name? \").strip().title()\n",
    "    hello(name)\n",
    "    \n",
    "def hello(to = \"world\"):\n",
    "    print(\"Hello,\", to)\n",
    "\n",
    "    \n",
    "main()"
   ]
  },
  {
   "cell_type": "markdown",
   "id": "f3ed983f-ae12-4bad-8bf5-bfeb3ce3d9c7",
   "metadata": {},
   "source": [
    "* * *\n",
    "## CALCULADORA"
   ]
  },
  {
   "cell_type": "code",
   "execution_count": null,
   "id": "6975267d-c348-4563-be40-1c17a6ec15cb",
   "metadata": {},
   "outputs": [],
   "source": [
    "z = x + y"
   ]
  },
  {
   "cell_type": "markdown",
   "id": "d92e4d12-998d-40ae-9d9f-c911538373df",
   "metadata": {},
   "source": [
    ">Vai juntar e virar texto, ao invés de somar"
   ]
  },
  {
   "cell_type": "markdown",
   "id": "3127b97d-d7e2-4361-88df-01936ac6cbf2",
   "metadata": {},
   "source": [
    "`int` vai converter em número em que possa fazer os cálculos"
   ]
  },
  {
   "cell_type": "code",
   "execution_count": null,
   "id": "5c36c372-1f28-4fb3-aa48-048bab7c61ac",
   "metadata": {},
   "outputs": [],
   "source": [
    "z = int(x) + int (y)"
   ]
  },
  {
   "cell_type": "code",
   "execution_count": null,
   "id": "ca45a91c-2db2-4539-8fb0-dfb85cd53fb6",
   "metadata": {},
   "outputs": [],
   "source": [
    "x = int(input(\"Qual o x: \"))\n",
    "y = int(input(\"Qual o y: \"))\n",
    "\n",
    "print(x + y)"
   ]
  },
  {
   "cell_type": "code",
   "execution_count": null,
   "id": "2ff06461-2cf0-4bcc-afd6-76862d15ed89",
   "metadata": {},
   "outputs": [],
   "source": [
    "x = input(\"Qual o x: \")\n",
    "y = input(\"Qual o y: \")\n",
    "\n",
    "print(int(x) + int(y))"
   ]
  },
  {
   "cell_type": "markdown",
   "id": "6923c2e2-0816-4ea4-be9f-9da69115274b",
   "metadata": {},
   "source": [
    "float = aceita números decimais  \n",
    "round = arredonda números decimais\n",
    ">round(number[,ndigits])\n",
    ">>Se utilizar ', n°', ele diz qual digito após a casa decimal arredondar  \n",
    ">>z = round(x / y, 2)"
   ]
  },
  {
   "cell_type": "code",
   "execution_count": null,
   "id": "de8301e1-09db-48b4-82b2-9402917b104f",
   "metadata": {},
   "outputs": [],
   "source": [
    "x = int(input(\"Qual o x: \"))\n",
    "y = int(input(\"Qual o y: \"))\n",
    "\n",
    "print(round(x + y))"
   ]
  },
  {
   "cell_type": "markdown",
   "id": "88a581e1-2e75-4ff5-94e5-23e8c73dceb1",
   "metadata": {},
   "source": [
    "Para separar os milhares:"
   ]
  },
  {
   "cell_type": "code",
   "execution_count": 2,
   "id": "46cc2a67-7867-4e8f-94f5-d227d66f3d05",
   "metadata": {},
   "outputs": [
    {
     "name": "stdout",
     "output_type": "stream",
     "text": [
      "1,000\n"
     ]
    }
   ],
   "source": [
    "x = float(input(\"Qual o x: \"))\n",
    "y = float(input(\"Qual o y: \"))\n",
    "z = round (x + y)\n",
    "print(f\"{z:,}\")\n",
    "#         ^^- O dois pontos e a vírgula que se utiliza para\n",
    "#indicar a separação dos milhares"
   ]
  },
  {
   "cell_type": "markdown",
   "id": "b12d8249-5293-4538-b735-bda36287cb2f",
   "metadata": {},
   "source": [
    "Para limitar a quantidade de números após a casa decimal:"
   ]
  },
  {
   "cell_type": "code",
   "execution_count": 5,
   "id": "917ecfb9-b68c-4028-82f8-727e4a44030d",
   "metadata": {},
   "outputs": [
    {
     "name": "stdout",
     "output_type": "stream",
     "text": [
      "Qual o x:  2\n",
      "Qual o y:  3\n"
     ]
    },
    {
     "name": "stdout",
     "output_type": "stream",
     "text": [
      "0.67\n"
     ]
    }
   ],
   "source": [
    "x = float(input(\"Qual o x: \"))\n",
    "y = float(input(\"Qual o y: \"))\n",
    "z = x / y\n",
    "print(f\"{z:.2f}\")"
   ]
  },
  {
   "cell_type": "markdown",
   "id": "cf1f13ea-0241-4cb7-97c8-575421f4e971",
   "metadata": {},
   "source": [
    "### O que é 'SCOPE'\n",
    ">É quando uma variável só existe em uma definição\n",
    "\n",
    "`return` = retorna o valor para à variável"
   ]
  },
  {
   "cell_type": "code",
   "execution_count": null,
   "id": "72f93cc1-9638-413f-a0b3-8dc40b751225",
   "metadata": {},
   "outputs": [],
   "source": [
    "def main():\n",
    "    x = int(input(\"Qual o x: \"))\n",
    "    print(\"O quadrado de x é: \", square(x))\n",
    "       \n",
    "def square(n):\n",
    "    return n * n\n",
    "     \n",
    "main()"
   ]
  },
  {
   "cell_type": "markdown",
   "id": "3d93769a-e2d1-4bd2-b771-6b8e1e3cf86c",
   "metadata": {},
   "source": [
    "### Final calc.py:"
   ]
  },
  {
   "cell_type": "code",
   "execution_count": null,
   "id": "719fdad2-02c2-4872-9f4a-c4f8f7dc24d8",
   "metadata": {},
   "outputs": [],
   "source": [
    "def main():\n",
    "    x = int(input(\"Qual o x: \"))\n",
    "    print(\"O quadrado de x é: \", square(x))\n",
    "      \n",
    "def square(n):\n",
    "    return n * n\n",
    "       \n",
    "main()"
   ]
  }
 ],
 "metadata": {
  "kernelspec": {
   "display_name": "Python 3.9.7 64-bit",
   "language": "python",
   "name": "python3"
  },
  "language_info": {
   "codemirror_mode": {
    "name": "ipython",
    "version": 3
   },
   "file_extension": ".py",
   "mimetype": "text/x-python",
   "name": "python",
   "nbconvert_exporter": "python",
   "pygments_lexer": "ipython3",
   "version": "3.9.7"
  },
  "vscode": {
   "interpreter": {
    "hash": "c347c8f9a7ef94e4c9e03b4513be7835ed18f45b99a2a817fb579f408b867b16"
   }
  }
 },
 "nbformat": 4,
 "nbformat_minor": 5
}
