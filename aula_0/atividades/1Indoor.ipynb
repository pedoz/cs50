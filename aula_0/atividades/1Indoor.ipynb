{
 "cells": [
  {
   "cell_type": "markdown",
   "id": "9b71b529-aee1-4e6d-a269-ea287fac2c1a",
   "metadata": {},
   "source": [
    "Best to use your “indoor voice” sometimes, writing entirely in lowercase.\n",
    "\n",
    "In a file called indoor.py, implement a program in Python that prompts the user for input and then outputs that same input in lowercase. Punctuation and whitespace should be outputted unchanged. You’re welcome, but not required, to prompt the user explicitly, as by passing a str of your own as an argument to input."
   ]
  },
  {
   "cell_type": "markdown",
   "id": "89c4f877-f449-43c8-9e94-e322fb8dddb7",
   "metadata": {},
   "source": [
    "How to Test\n",
    "Here’s how to test your code manually. At the indoor/ $ prompt in your terminal: :\n",
    "\n",
    "Run your program with python indoor.py. Type HELLO and press Enter. Your program should output hello.\n",
    "Run your program with python indoor.py. Type THIS IS CS50 and press Enter. Your program should output this is cs50.\n",
    "Run your program with python indoor.py. Type 50 and press Enter. Your program should output 50.\n",
    "If you run into an error saying your file cannot be opened, retrace your steps to be sure that you are inside your indoor folder and have saved your indoor.py file there. Remember how?"
   ]
  },
  {
   "cell_type": "markdown",
   "id": "aaa234d4-1c7f-4e63-b464-bf77aa2ad60f",
   "metadata": {},
   "source": [
    "tips:\n",
    "Recall that input returns a str, per docs.python.org/3/library/functions.html#input.\n",
    "Recall that a str comes with quite a few methods, per docs.python.org/3/library/stdtypes.html#string-methods."
   ]
  },
  {
   "cell_type": "code",
   "execution_count": 2,
   "id": "bf96643c-8fed-4f68-9ecf-31ef3c88d328",
   "metadata": {},
   "outputs": [
    {
     "name": "stdin",
     "output_type": "stream",
     "text": [
      "O que deve ser dito?  eae meu\n"
     ]
    },
    {
     "name": "stdout",
     "output_type": "stream",
     "text": [
      "eae meu\n"
     ]
    }
   ],
   "source": [
    "words = str(input(\"O que deve ser dito? \"))\n",
    "print(words)"
   ]
  },
  {
   "cell_type": "code",
   "execution_count": 7,
   "id": "ebc2a305-8958-4f2a-a660-458694a9674f",
   "metadata": {},
   "outputs": [
    {
     "name": "stdin",
     "output_type": "stream",
     "text": [
      "O que deve ser dito?  MÁOE\n"
     ]
    },
    {
     "name": "stdout",
     "output_type": "stream",
     "text": [
      "máoe\n"
     ]
    }
   ],
   "source": [
    "words = input(\"O que deve ser dito? \")\n",
    "print(words.lower())"
   ]
  },
  {
   "cell_type": "code",
   "execution_count": 4,
   "id": "a8650133-5798-4380-ad13-7375fa49c844",
   "metadata": {},
   "outputs": [
    {
     "data": {
      "text/plain": [
       "'abcd'"
      ]
     },
     "execution_count": 4,
     "metadata": {},
     "output_type": "execute_result"
    }
   ],
   "source": [
    "'ABCD'.lower()"
   ]
  }
 ],
 "metadata": {
  "kernelspec": {
   "display_name": "Python 3 (ipykernel)",
   "language": "python",
   "name": "python3"
  },
  "language_info": {
   "codemirror_mode": {
    "name": "ipython",
    "version": 3
   },
   "file_extension": ".py",
   "mimetype": "text/x-python",
   "name": "python",
   "nbconvert_exporter": "python",
   "pygments_lexer": "ipython3",
   "version": "3.9.7"
  }
 },
 "nbformat": 4,
 "nbformat_minor": 5
}
