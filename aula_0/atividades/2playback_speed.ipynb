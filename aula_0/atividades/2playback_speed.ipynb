{
 "cells": [
  {
   "cell_type": "markdown",
   "id": "68d4b6a8-fdf2-4900-b769-28be129777b1",
   "metadata": {},
   "source": [
    "Some people have a habit of lecturing speaking rather quickly, and it’d be nice to slow them down, a la YouTube’s 0.75 playback speed, or even by having them pause between words.\n",
    "\n",
    "In a file called playback.py, implement a program in Python that prompts the user for input and then outputs that same input, replacing each space with ... (i.e., three periods)."
   ]
  },
  {
   "cell_type": "markdown",
   "id": "d855e6db-3b1b-4ced-aadc-854559350757",
   "metadata": {},
   "source": [
    "Here’s how to test your code manually:\n",
    "\n",
    "Run your program with python playback.py. Type This is CS50 and press Enter. Your program should output:\n",
    "This...is...CS50    \n",
    "Run your program with python playback.py. Type This is our week on functions and press Enter. Your program should output:\n",
    "This...is...our...week...on...functions\n",
    "Run your program with python playback.py. Type Let's implement a function called hello and press Enter. Your program should output\n",
    "Let's...implement...a...function...called...hello"
   ]
  },
  {
   "cell_type": "markdown",
   "id": "ab72b711-8bb3-476d-85b6-e8fa74739ed5",
   "metadata": {},
   "source": [
    "tips:\n",
    "Recall that input returns a str, per docs.python.org/3/library/functions.html#input.\n",
    "Recall that a str comes with quite a few methods, per docs.python.org/3/library/stdtypes.html#string-methods."
   ]
  },
  {
   "cell_type": "code",
   "execution_count": null,
   "id": "5aea377e-2e1f-49b0-9e0a-0cb7f9489d71",
   "metadata": {},
   "outputs": [],
   "source": [
    "z = input(\"O que você queria me dizer mesmo? \").replace(' ','...')\n",
    "print(z)"
   ]
  }
 ],
 "metadata": {
  "kernelspec": {
   "display_name": "Python 3 (ipykernel)",
   "language": "python",
   "name": "python3"
  },
  "language_info": {
   "codemirror_mode": {
    "name": "ipython",
    "version": 3
   },
   "file_extension": ".py",
   "mimetype": "text/x-python",
   "name": "python",
   "nbconvert_exporter": "python",
   "pygments_lexer": "ipython3",
   "version": "3.9.7"
  }
 },
 "nbformat": 4,
 "nbformat_minor": 5
}
