{
 "cells": [
  {
   "cell_type": "markdown",
   "id": "9566610d-156d-4d7e-83d3-7c21ae7065a8",
   "metadata": {},
   "source": [
    "Even if you haven’t studied physics (recently or ever!), you might have heard that E = mc²\n",
    ", where in E\n",
    " represents energy (measured in Joules), m\n",
    " represents mass (measured in kilograms), and c\n",
    " represents the speed of light (measured approximately as 300000000 meters per second), per Albert Einstein et al. Essentially, the formula means that mass and energy are equivalent.\n",
    "\n",
    "In a file called einstein.py, implement a program in Python that prompts the user for mass as an integer (in kilograms) and then outputs the equivalent number of Joules as an integer. Assume that the user will input an integer."
   ]
  },
  {
   "cell_type": "markdown",
   "id": "c9e0c253-1b36-4539-8dce-c457986f822c",
   "metadata": {},
   "source": [
    "Run your program with python einstein.py. Type 1 and press Enter. Your program should output:\n",
    "90000000000000000\n",
    "Run your program with python einstein.py. Type 14 and press Enter. Your program should output:\n",
    "1260000000000000000\n",
    "Run your program with python einstein.py. Type 50 and press Enter. Your program should output\n",
    "4500000000000000000"
   ]
  },
  {
   "cell_type": "markdown",
   "id": "5a08f022-81d3-4e20-9876-77bafe7b42c4",
   "metadata": {},
   "source": [
    "Recall that input returns a str, per docs.python.org/3/library/functions.html#input.\n",
    "Recall that int can convert a str to an int, per docs.python.org/3/library/functions.html#int.\n",
    "Recall that Python comes with several built-in functions, per docs.python.org/3/library/functions.html."
   ]
  }
 ],
 "metadata": {
  "kernelspec": {
   "display_name": "Python 3 (ipykernel)",
   "language": "python",
   "name": "python3"
  },
  "language_info": {
   "codemirror_mode": {
    "name": "ipython",
    "version": 3
   },
   "file_extension": ".py",
   "mimetype": "text/x-python",
   "name": "python",
   "nbconvert_exporter": "python",
   "pygments_lexer": "ipython3",
   "version": "3.9.7"
  }
 },
 "nbformat": 4,
 "nbformat_minor": 5
}
