{
 "cells": [
  {
   "cell_type": "markdown",
   "id": "0b9b349e-4d9d-4a87-b824-9426767de8c4",
   "metadata": {},
   "source": [
    "In the United States, it’s customary to leave a tip for your server after dining in a restaurant, typically an amount equal to 15% or more of your meal’s cost. Not to worry, though, we’ve written a tip calculator for you, below!\n",
    "\n",
    "def main():\n",
    "    dollars = dollars_to_float(input(\"How much was the meal? \"))\n",
    "    percent = percent_to_float(input(\"What percentage would you like to tip? \"))\n",
    "    tip = dollars * percent\n",
    "    print(f\"Leave ${tip:.2f}\")\n",
    "\n",
    "\n",
    "def dollars_to_float(d):\n",
    "    # TODO\n",
    "\n",
    "\n",
    "def percent_to_float(p):\n",
    "    # TODO\n",
    "\n",
    "\n",
    "main()\n",
    "Well, we’ve written most of a tip calculator for you. Unfortunately, we didn’t have time to implement two functions:\n",
    "\n",
    "dollars_to_float, which should accept a str as input (formatted as $##.##, wherein each # is a decimal digit), remove the leading $, and return the amount as a float. For instance, given $50.00 as input, it should return 50.0.\n",
    "percent_to_float, which should accept a str as input (formatted as ##%, wherein each # is a decimal digit), remove the trailing %, and return the percentage as a float. For instance, given 15% as input, it should return 0.15.\n",
    "Assume that the user will input values in the expected formats."
   ]
  },
  {
   "cell_type": "markdown",
   "id": "d7c47a74-07ee-437a-90a4-b3cc392a8b04",
   "metadata": {},
   "source": [
    "Here’s how to test your code manually:\n",
    "\n",
    "Run your program with python tip.py. Type $50.00 and press Enter. Then, type 15% and press Enter. Your program should output:\n",
    "Leave $7.50    \n",
    "Run your program with python tip.py. Type $100.00 and press Enter. Then, type 18% and press Enter. Your program should output:\n",
    "Leave $18.00\n",
    "Run your program with python tip.py. Type $15.00 and press Enter. Then, type 25% and press Enter. Your program should output\n",
    "Leave $3.75"
   ]
  },
  {
   "cell_type": "markdown",
   "id": "867eb4c3-4b9a-440a-9033-b124e10c6b30",
   "metadata": {},
   "source": [
    "tips:\n",
    "Recall that input returns a str, per docs.python.org/3/library/functions.html#input.\n",
    "Recall that float can convert a str to a float, per docs.python.org/3/library/functions.html#float.\n",
    "Recall that a str comes with quite a few methods, per docs.python.org/3/library/stdtypes.html#string-methods."
   ]
  }
 ],
 "metadata": {
  "kernelspec": {
   "display_name": "Python 3 (ipykernel)",
   "language": "python",
   "name": "python3"
  },
  "language_info": {
   "codemirror_mode": {
    "name": "ipython",
    "version": 3
   },
   "file_extension": ".py",
   "mimetype": "text/x-python",
   "name": "python",
   "nbconvert_exporter": "python",
   "pygments_lexer": "ipython3",
   "version": "3.9.7"
  }
 },
 "nbformat": 4,
 "nbformat_minor": 5
}
