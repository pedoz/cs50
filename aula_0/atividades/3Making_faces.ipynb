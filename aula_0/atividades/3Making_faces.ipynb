{
 "cells": [
  {
   "cell_type": "markdown",
   "id": "574875e1-d506-4761-b88d-633c8db3192f",
   "metadata": {},
   "source": [
    "Before there were emoji, there were emoticons, whereby text like :) was a happy face and text like :( was a sad face. Nowadays, programs tend to convert emoticons to emoji automatically!\n",
    "\n",
    "In a file called faces.py, implement a function called convert that accepts a str as input and returns that same input with any :) converted to 🙂 (otherwise known as a slightly smiling face) and any :( converted to 🙁 (otherwise known as a slightly frowning face). All other text should be returned unchanged.\n",
    "\n",
    "Then, in that same file, implement a function called main that prompts the user for input, calls convert on that input, and prints the result. You’re welcome, but not required, to prompt the user explicitly, as by passing a str of your own as an argument to input. Be sure to call main at the bottom of your file."
   ]
  },
  {
   "cell_type": "markdown",
   "id": "802ad3ab-dad6-4369-95e6-6b82ef884fd2",
   "metadata": {},
   "source": [
    "Here’s how to test your code manually:\n",
    "\n",
    "Run your program with python faces.py. Type Hello :) and press Enter. Your program should output:\n",
    "Hello 🙂\n",
    "Run your program with python faces.py. Type Goodbye :( and press Enter. Your program should output:\n",
    "Goodbye 🙁\n",
    "Run your program with python faces.py. Type Hello :) Goodbye :( and press Enter. Your program should output\n",
    "Hello 🙂 Goodbye 🙁"
   ]
  },
  {
   "cell_type": "markdown",
   "id": "bb657634-b36d-474d-9364-f74f2cb95203",
   "metadata": {},
   "source": [
    "tips:\n",
    "Recall that input returns a str, per docs.python.org/3/library/functions.html#input.\n",
    "Recall that a str comes with quite a few methods, per docs.python.org/3/library/stdtypes.html#string-methods.\n",
    "An emoji is actually just a character, so you can quote it like any str, a la \"😐\". And you can copy and paste the emoji from this page into your own code as needed."
   ]
  }
 ],
 "metadata": {
  "kernelspec": {
   "display_name": "Python 3 (ipykernel)",
   "language": "python",
   "name": "python3"
  },
  "language_info": {
   "codemirror_mode": {
    "name": "ipython",
    "version": 3
   },
   "file_extension": ".py",
   "mimetype": "text/x-python",
   "name": "python",
   "nbconvert_exporter": "python",
   "pygments_lexer": "ipython3",
   "version": "3.9.7"
  }
 },
 "nbformat": 4,
 "nbformat_minor": 5
}
