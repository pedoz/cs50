{
 "cells": [
  {
   "cell_type": "markdown",
   "metadata": {},
   "source": [
    "## Libraries\n",
    "\n",
    "Sâo códigos criados pela comunidade para otimizar utilizações de uma função, ao invés de ter que ficar criando elas de novo e de novo, são chamadas `modules`\n",
    "\n",
    "`import` => utilizando no começo do programa, importa esses módulos criados, facilitando a criação de programas por não ter que resolver coisas que outros usuários já resolveram, focando no seu problema atual"
   ]
  },
  {
   "cell_type": "markdown",
   "metadata": {},
   "source": [
    "`seq` => geralmente associado à uma lista ou algo do genêro\n",
    "### Flip coin:"
   ]
  },
  {
   "cell_type": "code",
   "execution_count": 8,
   "metadata": {},
   "outputs": [
    {
     "name": "stdout",
     "output_type": "stream",
     "text": [
      "heads\n"
     ]
    }
   ],
   "source": [
    "import random\n",
    "#^-> Dá o acesso as funções do módulo \"random\"\n",
    "coin = random.choice([\"heads\", \"tails\"])\n",
    "#[] => mostra que é uma lista, sem a necessidade de criar um parâmetro\n",
    "#`random.choice()` automaticamente faz a conta pra ti, sem precisar colocar a porcentagem de cada opção, sendo\n",
    "#distribuido de forma equivalente\n",
    "#`coin` está armazenando o resultado de ´random.choice([\"heads\", \"tails\"])\n",
    "print(coin)"
   ]
  },
  {
   "cell_type": "markdown",
   "metadata": {},
   "source": [
    "`from` Library `import` Function  => ao invés de puxar todo o import, utilize para puxar uma função em específico, diferente de `import`, que puxa todas as funções, não só as que tu quer.\n",
    "A desvantagem é que, qualquer função que tu queira puxar de `random`, tu obrigatóriamente tem que dizer ao programa (como, por exemplo, `random.choice()`)"
   ]
  },
  {
   "cell_type": "code",
   "execution_count": null,
   "metadata": {},
   "outputs": [],
   "source": [
    "from random import choice\n",
    "\n",
    "coin = choice([\"heads\", \"tails\"])\n",
    "print(coin)"
   ]
  },
  {
   "cell_type": "markdown",
   "metadata": {},
   "source": [
    "Importa o `choice` e coloca o `choice` como opção para o programa inteiro, além da qualidade de vida de não ter que ficar colocando ´random.choice()` em tudo, também corre menos risco de entrar em conflito com alguma função sua"
   ]
  },
  {
   "cell_type": "markdown",
   "metadata": {},
   "source": [
    "`random.randint(a,b)` => devolve um `int` aleatório entre `a` e `b`, incluindo os parâmetros"
   ]
  },
  {
   "cell_type": "code",
   "execution_count": 12,
   "metadata": {},
   "outputs": [
    {
     "name": "stdout",
     "output_type": "stream",
     "text": [
      "8\n"
     ]
    }
   ],
   "source": [
    "import random\n",
    "\n",
    "number = random.randint(1, 10)\n",
    "print(number)"
   ]
  },
  {
   "cell_type": "markdown",
   "metadata": {},
   "source": [
    "`random.shuffle(x)` => pega, por exemplo, uma lista e randomiza as suas posições, como num baralho de cartas\n",
    "^-> não retorna um valor, apenas pega a função e muda a ordem dela, no exemplo abaixo, ele mudaria a ordem das três cartas, mas não faz mais nada além disso, embaralhando a própria lista"
   ]
  },
  {
   "cell_type": "code",
   "execution_count": 17,
   "metadata": {},
   "outputs": [
    {
     "name": "stdout",
     "output_type": "stream",
     "text": [
      "king\n",
      "jack\n",
      "queen\n"
     ]
    }
   ],
   "source": [
    "import random\n",
    "\n",
    "cards = [\"jack\", \"queen\", \"king\"]\n",
    "random.shuffle(cards)\n",
    "for card in cards:\n",
    "    print(card)"
   ]
  },
  {
   "cell_type": "markdown",
   "metadata": {},
   "source": [
    "statistics Library\n",
    "`average` => mostra a média dos numeros na lista"
   ]
  },
  {
   "cell_type": "code",
   "execution_count": 18,
   "metadata": {},
   "outputs": [
    {
     "name": "stdout",
     "output_type": "stream",
     "text": [
      "95\n"
     ]
    }
   ],
   "source": [
    "import statistics\n",
    "\n",
    "print(statistics.mean([100,90]))"
   ]
  },
  {
   "cell_type": "markdown",
   "metadata": {},
   "source": [
    "command-line arguments\n",
    "> chamando a função no cmd, ao invés de perguntar os input, apos `python doc.py` passar o valor do input, fazendo com que o programa automaticamente interprete o que foi escrito após como o input requisitado\n",
    "`sys` => contém várias funcionalidades para o próprio sistema e para os comandos digitados\n",
    "`sys.argv` => argument vector, basicamente, uma lista de todas as palavras que o usuário digitou no seu prompt antes de apertar o Enter\n",
    "  ^-> é uma lista, o primeiro elemento será a primeira palavra digitada, o segundo elemento será a segunda palavra digitada, e assim por diante\n",
    "     ^-> pode ser utilizada para ver o que o usuário colocou e influenciar o funcionamento do seu programa\n",
    "  ^->o file [0] é o nome do arquivo"
   ]
  },
  {
   "cell_type": "code",
   "execution_count": 19,
   "metadata": {},
   "outputs": [
    {
     "name": "stdout",
     "output_type": "stream",
     "text": [
      "Hello, my name is --ip=127.0.0.1\n"
     ]
    }
   ],
   "source": [
    "import sys\n",
    "try:\n",
    "    print(\"Hello, my name is\", sys.argv[1])\n",
    "#esse código esta no ai.py\n",
    "except IndexError:\n",
    "    print(\"Too few arguments\")"
   ]
  },
  {
   "cell_type": "code",
   "execution_count": null,
   "metadata": {},
   "outputs": [],
   "source": [
    "import sys\n",
    "try:\n",
    "    print(\"Hello, my name is\", sys.argv[1])\n",
    "#esse código esta no ai.py\n",
    "except IndexError:\n",
    "    print(\"Too few arguments\")"
   ]
  },
  {
   "cell_type": "code",
   "execution_count": null,
   "metadata": {},
   "outputs": [],
   "source": [
    "import sys\n",
    "if len(sys.argv) < 2:\n",
    "#if len(sys.argv) == 1:\n",
    "    print(\"Too few arguments\")\n",
    "elif len(sys.argv) > 2:\n",
    "    print(\"Too many arguments\")\n",
    "else:\n",
    "    print(\"Hello, my name is\", sys.argv[1])"
   ]
  },
  {
   "cell_type": "markdown",
   "metadata": {},
   "source": [
    "`sys.exit` => sai do programa se as condições forem satisfeitas"
   ]
  },
  {
   "cell_type": "code",
   "execution_count": null,
   "metadata": {},
   "outputs": [],
   "source": [
    "import sys\n",
    "if len(sys.argv) < 2:\n",
    "    sys.exit(\"Too few arguments\")\n",
    "elif len(sys.argv) > 2:\n",
    "    sys.exit(\"Too many arguments\")\n",
    "\n",
    "print(\"Hello, my name is\", sys.argv[1])"
   ]
  },
  {
   "cell_type": "code",
   "execution_count": null,
   "metadata": {},
   "outputs": [],
   "source": [
    "import sys\n",
    "if len(sys.argv) < 2:\n",
    "    sys.exit(\"Too few arguments\")\n",
    "\n",
    "for name in sys.argv:\n",
    "    print(\"Hello, my name is\", name)"
   ]
  },
  {
   "cell_type": "markdown",
   "metadata": {},
   "source": [
    "slices => É um \"subset\" de uma estrutura, como a lista\n",
    "    ^-> `function[começo:fim]`\n",
    "                    ^-> Fazendo assim, que pegue apenas parte da lista\n",
    "                    ^-> Usar um número negativo faz com que conte na outra direção, se colocar, por exemplo [1:-1], fará com que o último não apareça\n",
    "                    "
   ]
  },
  {
   "cell_type": "code",
   "execution_count": null,
   "metadata": {},
   "outputs": [],
   "source": [
    "import sys\n",
    "if len(sys.argv) < 2:\n",
    "    sys.exit(\"Too few arguments\")\n",
    "\n",
    "for name in sys.argv[1:]:\n",
    "#                     ^-> slice entra aqui, puxando todos os números a partir do 1\n",
    "    print(\"Hello, my name is\", name)"
   ]
  },
  {
   "cell_type": "markdown",
   "metadata": {},
   "source": [
    "### Packages\n",
    "Bibliotecas de terceiros (como, por exemplo, o pygame), ganhando funcionalidades que outros produziram para nós, programadores, no site:\n",
    "[PyPi](http://pypi.org)"
   ]
  },
  {
   "cell_type": "code",
   "execution_count": null,
   "metadata": {},
   "outputs": [],
   "source": [
    "#cowsay say.py\n",
    "import cowsay\n",
    "import sys\n",
    "\n",
    "if len(sys.argv) == 2:\n",
    "    cowsay.cow(\"Hello, \" + sys.argv[1])\n"
   ]
  },
  {
   "cell_type": "markdown",
   "metadata": {},
   "source": [
    "### APIs =>aplication programming interface\n",
    "^-> Geralmente relacionados com serviços de terceiros, fora do python, para escrever códigos que outras linguagens podem entender\n",
    "^-> Baixa os dados para que tu possa usar no teu programa\n",
    "`requests` package => faz com que tu possa fazer \"internet requests\", usando um código python como se tu fosse o browser\n",
    "^-> Automatizando a captação de URLs que começam com http ou https\n",
    "\n",
    "JSON => JavaScript Object Notation\n",
    "^-> data agnostic format(quer dizer que pode ser em qualquer linguagem) para trocar informações entre computadores\n",
    "\n",
    "\n",
    "> Basicamente, API é um mecanismo que permite acessar os dados do servidor de outra pessoa e, de algum jeito, integrar ele ao meu programa"
   ]
  },
  {
   "cell_type": "code",
   "execution_count": null,
   "metadata": {},
   "outputs": [],
   "source": [
    "import sys\n",
    "import requests\n",
    "\n",
    "if len(sys.argv) != 2:\n",
    "    sys.exit()\n",
    "\n",
    "response = requests.get(\"https://itunes.apple.com/search?entity=song&limit=1&term=\" + sys.argv[1])\n",
    "print(response.json())\n",
    "#               ^-> garante que os dados recebidos serão formatados na tela"
   ]
  },
  {
   "cell_type": "markdown",
   "metadata": {},
   "source": [
    "python converte o código acima como um dict"
   ]
  },
  {
   "cell_type": "code",
   "execution_count": null,
   "metadata": {},
   "outputs": [],
   "source": [
    "import sys\n",
    "import requests\n",
    "import json\n",
    "\n",
    "if len(sys.argv) != 2:\n",
    "    sys.exit()\n",
    "\n",
    "response = requests.get(\"https://itunes.apple.com/search?entity=song&limit=1&term=\" + sys.argv[1])\n",
    "print(json.dumps(response.json(), indent = 2))"
   ]
  },
  {
   "cell_type": "markdown",
   "metadata": {},
   "source": [
    "basicamente, a função acima faz a mesma coisa que a acima dela, só mostrando de um jeito mais legivel"
   ]
  },
  {
   "cell_type": "code",
   "execution_count": null,
   "metadata": {},
   "outputs": [],
   "source": [
    "import sys\n",
    "import requests\n",
    "import json\n",
    "\n",
    "if len(sys.argv) != 2:\n",
    "    sys.exit()\n",
    "\n",
    "response = requests.get(\"https://itunes.apple.com/search?entity=song&limit=50&term=\" + sys.argv[1])\n",
    "\n",
    "obj = response.json()\n",
    "for result in obj[\"results\"]:\n",
    "    print(result[\"trackName\"])"
   ]
  },
  {
   "cell_type": "markdown",
   "metadata": {},
   "source": [
    "Podemos fazer nossas próprias blibiotecas\n",
    "^-> "
   ]
  },
  {
   "cell_type": "code",
   "execution_count": 1,
   "metadata": {},
   "outputs": [
    {
     "name": "stdout",
     "output_type": "stream",
     "text": [
      "hello, world\n",
      "Goodbye, world\n"
     ]
    }
   ],
   "source": [
    "#sayings.py\n",
    "def main():\n",
    "    hello(\"world\")\n",
    "    goodbye(\"world\")\n",
    "\n",
    "\n",
    "def hello(name):\n",
    "    print(f\"hello, {name}\")\n",
    "\n",
    "def goodbye(name):\n",
    "    print(f\"Goodbye, {name}\")\n",
    "\n",
    "main()"
   ]
  },
  {
   "cell_type": "code",
   "execution_count": null,
   "metadata": {},
   "outputs": [],
   "source": [
    "import sys\n",
    "\n",
    "from sayings import hello\n",
    "\n",
    "if len(sys.argv) == 2:\n",
    "    hello(sys.argv[1])"
   ]
  },
  {
   "cell_type": "markdown",
   "metadata": {},
   "source": [
    "Quando for importar funções, ter cuidado para não colocar main no final, caso contrário, quando importar códigos de outro .py file, ele, ao invés de só puxar a função que tu pediu, vai rodar o código inteiro "
   ]
  },
  {
   "cell_type": "code",
   "execution_count": null,
   "metadata": {},
   "outputs": [],
   "source": [
    "#sayings.py\n",
    "def main():\n",
    "    hello(\"world\")\n",
    "    goodbye(\"world\")\n",
    "\n",
    "\n",
    "def hello(name):\n",
    "    print(f\"hello, {name}\")\n",
    "\n",
    "def goodbye(name):\n",
    "    print(f\"Goodbye, {name}\")\n",
    "\n",
    "if __name__ == \"__main__:\":\n",
    "\n",
    "    main()"
   ]
  },
  {
   "cell_type": "markdown",
   "metadata": {},
   "source": [
    "`__name__` => é uma váriavel especial, que é automaticamente \"colocada\" pelo python para ser \"main\", a partir de rodar um arquivo da linha de comando, resolvendo o problema de puxar todos os códigos quando for importar códigos de outros arquivos"
   ]
  }
 ],
 "metadata": {
  "kernelspec": {
   "display_name": "Python 3.9.7 64-bit",
   "language": "python",
   "name": "python3"
  },
  "language_info": {
   "codemirror_mode": {
    "name": "ipython",
    "version": 3
   },
   "file_extension": ".py",
   "mimetype": "text/x-python",
   "name": "python",
   "nbconvert_exporter": "python",
   "pygments_lexer": "ipython3",
   "version": "3.9.7"
  },
  "orig_nbformat": 4,
  "vscode": {
   "interpreter": {
    "hash": "c347c8f9a7ef94e4c9e03b4513be7835ed18f45b99a2a817fb579f408b867b16"
   }
  }
 },
 "nbformat": 4,
 "nbformat_minor": 2
}
