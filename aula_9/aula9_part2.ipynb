{
 "cells": [
  {
   "cell_type": "markdown",
   "metadata": {},
   "source": []
  },
  {
   "cell_type": "code",
   "execution_count": null,
   "metadata": {},
   "outputs": [],
   "source": [
    "import sys\n",
    "\n",
    "if len(sys.argv) == 1:\n",
    "    print(\"meow\")\n",
    "elif len(sys.argv) == 3 and sys.argv[1] == '-n':\n",
    "    n = int(sys.argv[2])\n",
    "    for _ in range(n):\n",
    "        print(\"meow\")\n",
    "\n",
    "else:\n",
    "    print(\"usage: meows.py\")"
   ]
  },
  {
   "cell_type": "code",
   "execution_count": null,
   "metadata": {},
   "outputs": [],
   "source": [
    "import sys\n",
    "\n",
    "if len(sys.argv) == 1:\n",
    "    print(\"meow\")\n",
    "elif len(sys.argv) == 3 and sys.argv[1] == '-n':\n",
    "    n = int(sys.argv[2])\n",
    "    for _ in range(n):\n",
    "        print(\"meow\")\n",
    "\n",
    "else:\n",
    "    print(\"usage: meows.py\")"
   ]
  },
  {
   "cell_type": "markdown",
   "metadata": {},
   "source": [
    "`argparse` => permite o usuário a passar opções de configurações pelo cmd  \n",
    "> **parse ~= ler**"
   ]
  },
  {
   "cell_type": "code",
   "execution_count": null,
   "metadata": {},
   "outputs": [],
   "source": [
    "import argparse\n",
    "\n",
    "parser = argparse.ArgumentParser()\n",
    "#                   ^-> construtor de uma `class` chamada \"ArgumentParser\" \n",
    "parser.add_argument(\"-n\")\n",
    "#       ^-> metodo da classe\n",
    "args = parser.parse_args()\n",
    "#               ^-> Como default, ele já vai olhar `sys.argv`, sem precisar nem importar o `sys`\n",
    "#               ^-> ele vai ler todos os comandos e vai ler para ti, sem precisar ficar vendo um por um, independente da ordem\n",
    "\n",
    "for _ in range(int(args.n)):\n",
    "    print('meow')"
   ]
  },
  {
   "cell_type": "markdown",
   "metadata": {},
   "source": [
    "Utilizando `-h`, o programa mostra os argumentos que podem passar, o famoso \"--help\"  \n",
    "> Se for digitado apenas o número, tipo `python meow.py 3`, ele vai dar um erro, podemos solucionar isso assim:"
   ]
  },
  {
   "cell_type": "code",
   "execution_count": null,
   "metadata": {},
   "outputs": [],
   "source": [
    "import argparse\n",
    "\n",
    "parser = argparse.ArgumentParser() \n",
    "parser.add_argument(\"-n\",default=1, help = 'number of times to meow', type = int)\n",
    "args = parser.parse_args()\n",
    "\n",
    "for _ in range(int(args.n)):\n",
    "    print('meow')"
   ]
  },
  {
   "cell_type": "markdown",
   "metadata": {},
   "source": [
    "`help` => mostra a msg de ajuda para o usuário quando for requisitado  \n",
    "`default` => caso o usuário não coloque nenhum valor, ele automaticamente preenche com algum pré-definido  \n",
    "`type` => tira a necessidade do, por exemplo `-n`, caso seja um número, nesse caso, o programa automaticamente vai associar o valor colocado ao argumento necessário, sem precisar converter manualmente"
   ]
  },
  {
   "cell_type": "markdown",
   "metadata": {},
   "source": [
    "### Unpacking\n",
    "\n",
    "* => utilizando o ***** antes da variavel, ele \"unpack\" a lista e atribui os valores automaticamente, invés de ter que fazer:  \n",
    ">`print(total(coins[0], coins[1], coins[2]), \"Knuts\")`  \n",
    "\n",
    ">> Caso quissesemos o valor individual, fazer a moda antiga, pois unpacking não serve para isso\n"
   ]
  },
  {
   "cell_type": "code",
   "execution_count": null,
   "metadata": {},
   "outputs": [],
   "source": [
    "def total(galleons, sickles, knuts):\n",
    "    return (galleons * 17 + sickles) * 29 + knuts\n",
    "\n",
    "coins = [100, 50, 25]\n",
    "\n",
    "print(total(*coins), \"Knuts\")"
   ]
  },
  {
   "cell_type": "markdown",
   "metadata": {},
   "source": [
    "#### Para dicts, podemos fazer parecido, alem de ter que usar `**`, ele passa a *chave* e o *valor* atribuido à chave, tipo `galleons = 100`"
   ]
  },
  {
   "cell_type": "code",
   "execution_count": null,
   "metadata": {},
   "outputs": [],
   "source": [
    "def total(galleons, sickles, knuts):\n",
    "    return (galleons * 17 + sickles) * 29 + knuts\n",
    "\n",
    "coins = {\"galleons\":100, \"sicles\": 50, \"knuts\": 25}\n",
    "\n",
    "print(total(**coins), \"Knuts\")\n",
    "# (**coins) == (galleons = 100, sickles = 50, knuts = 25)"
   ]
  },
  {
   "cell_type": "code",
   "execution_count": 1,
   "metadata": {},
   "outputs": [
    {
     "name": "stdout",
     "output_type": "stream",
     "text": [
      "Positional: (100, 50, 25)\n"
     ]
    }
   ],
   "source": [
    "def f(*args, **kwargs):\n",
    "    print(\"Positional:\", args)\n",
    "\n",
    "f(100, 50, 25)"
   ]
  },
  {
   "cell_type": "code",
   "execution_count": 2,
   "metadata": {},
   "outputs": [
    {
     "name": "stdout",
     "output_type": "stream",
     "text": [
      "Named: {'galleons': 100, 'sickles': 50, 'knuts': 25}\n"
     ]
    }
   ],
   "source": [
    "def f(*args, **kwargs):\n",
    "    print(\"Named:\", kwargs)\n",
    "\n",
    "f(galleons=100, sickles=50, knuts=25)"
   ]
  },
  {
   "cell_type": "code",
   "execution_count": null,
   "metadata": {},
   "outputs": [],
   "source": [
    "def main():\n",
    "    yell([\"This\", \"is\", \"CS50\"])\n",
    "\n",
    "def yell(words):\n",
    "    uppercased = []\n",
    "    for word in words:\n",
    "        uppercased.append(word.upper())\n",
    "    print(*uppercased)\n",
    "\n",
    "if __name__ == \"__main__\":\n",
    "    main()"
   ]
  },
  {
   "cell_type": "markdown",
   "metadata": {},
   "source": [
    "Abaixo, permite que `yell` pegue qualquer número de argumentos"
   ]
  },
  {
   "cell_type": "code",
   "execution_count": null,
   "metadata": {},
   "outputs": [],
   "source": [
    "def main():\n",
    "    yell(\"This\", \"is\", \"CS50\")\n",
    "\n",
    "def yell(*words):\n",
    "    uppercased = []\n",
    "    for word in words:\n",
    "        uppercased.append(word.upper())\n",
    "    print(*uppercased)\n",
    "\n",
    "if __name__ == \"__main__\":\n",
    "    main()"
   ]
  },
  {
   "cell_type": "markdown",
   "metadata": {},
   "source": [
    "`map` =>  (function, iterable...)"
   ]
  },
  {
   "cell_type": "code",
   "execution_count": null,
   "metadata": {},
   "outputs": [],
   "source": [
    "def main():\n",
    "    yell(\"This\", \"is\", \"CS50\")\n",
    "\n",
    "def yell(*words):\n",
    "    uppercased = map(str.upper, words)\n",
    "    #                      ^-> não utilizamos `()` pq não queremos chamar a função, apenas aplica-la\n",
    "    print(*uppercased)\n",
    "\n",
    "if __name__ == \"__main__\":\n",
    "    main()"
   ]
  },
  {
   "cell_type": "markdown",
   "metadata": {},
   "source": [
    "list comprehensions => construir uma lista sem usar loop, \"on the fly\"  \n"
   ]
  },
  {
   "cell_type": "code",
   "execution_count": null,
   "metadata": {},
   "outputs": [],
   "source": [
    "def main():\n",
    "    yell(\"This\", \"is\", \"CS50\")\n",
    "\n",
    "def yell(*words):\n",
    "    uppercased = [arg.upper() for arg in words]\n",
    "    print(*uppercased)\n",
    "\n",
    "if __name__ == \"__main__\":\n",
    "    main()"
   ]
  },
  {
   "cell_type": "markdown",
   "metadata": {},
   "source": [
    "#### Filtrando com lists comprehensions:"
   ]
  },
  {
   "cell_type": "code",
   "execution_count": null,
   "metadata": {},
   "outputs": [],
   "source": [
    "students = [\n",
    "    {\"name\": \"Hermione\", \"house\": \"Gryffindor\"},\n",
    "    {\"name\": \"Harry\", \"house\": \"Gryffindor\"},\n",
    "    {\"name\": \"Ron\", \"house\": \"Gryffindor\"},\n",
    "    {\"name\": \"Draco\", \"house\": \"Slytherin\"},\n",
    "]\n",
    "\n",
    "gryffindors = []\n",
    "for student in students:\n",
    "    if student[\"house\"] == \"Gryffindor\":\n",
    "        gryffindors.append(student[\"name\"])\n",
    "\n",
    "for gryffindor in sorted(gryffindors):\n",
    "    print(gryffindor)"
   ]
  },
  {
   "cell_type": "code",
   "execution_count": null,
   "metadata": {},
   "outputs": [],
   "source": [
    "students = [\n",
    "    {\"name\": \"Hermione\", \"house\": \"Gryffindor\"},\n",
    "    {\"name\": \"Harry\", \"house\": \"Gryffindor\"},\n",
    "    {\"name\": \"Ron\", \"house\": \"Gryffindor\"},\n",
    "    {\"name\": \"Draco\", \"house\": \"Slytherin\"},\n",
    "]\n",
    "\n",
    "gryffindors = [\n",
    "    student[\"name\"] for student in students if student[\"house\"] == \"Gryffindor\"\n",
    "]\n",
    "\n",
    "for gryffindor in sorted(gryffindors):\n",
    "    print(gryffindor)"
   ]
  },
  {
   "cell_type": "markdown",
   "metadata": {},
   "source": [
    "filter => (function, iterable)"
   ]
  },
  {
   "cell_type": "code",
   "execution_count": null,
   "metadata": {},
   "outputs": [],
   "source": [
    "students = [\n",
    "    {\"name\": \"Hermione\", \"house\": \"Gryffindor\"},\n",
    "    {\"name\": \"Harry\", \"house\": \"Gryffindor\"},\n",
    "    {\"name\": \"Ron\", \"house\": \"Gryffindor\"},\n",
    "    {\"name\": \"Draco\", \"house\": \"Slytherin\"},\n",
    "]\n",
    "\n",
    "def is_gryffindor(s):\n",
    "    return s[\"house\"] == \"Gryffindor\"\n",
    "\n",
    "gryffindors = filter(is_gryffindor, students)\n",
    "\n",
    "#   OU, para tirar a `def is_gryffindor(s)` e o filtro, utilizando isso tudo em uma só linha\n",
    "#       gryffindors = filter(lambda s: s[\"house\"] == \"Gryffindor\", students)\n",
    "\n",
    "for gryffindor in sorted(gryffindors, key=lambda s: s[\"name\"]):\n",
    "    print(gryffindor[\"name\"])"
   ]
  },
  {
   "cell_type": "markdown",
   "metadata": {},
   "source": [
    "#### Dictionary comprehension:\n"
   ]
  },
  {
   "cell_type": "code",
   "execution_count": null,
   "metadata": {},
   "outputs": [],
   "source": [
    "# Creates list of dicts using loop\n",
    "\n",
    "students = [\"Hermione\", \"Harry\", \"Ron\"]\n",
    "\n",
    "gryffindors = []\n",
    "\n",
    "for student in students:\n",
    "    gryffindors.append({\"name\": student, \"house\": \"Gryffindor\"})\n",
    "\n",
    "print(gryffindors)"
   ]
  },
  {
   "cell_type": "code",
   "execution_count": null,
   "metadata": {},
   "outputs": [],
   "source": [
    "# Uses dictionary comprehension instead\n",
    "\n",
    "students = [\"Hermione\", \"Harry\", \"Ron\"]\n",
    "\n",
    "gryffindors = [{\"name\": student, \"house\": \"Gryffindor\"} for student in students]\n",
    "\n",
    "print(gryffindors)"
   ]
  },
  {
   "cell_type": "code",
   "execution_count": null,
   "metadata": {},
   "outputs": [],
   "source": [
    "# Uses dictionary comprehension instead\n",
    "\n",
    "students = [\"Hermione\", \"Harry\", \"Ron\"]\n",
    "\n",
    "gryffindors = {student: \"Gryffindor\" for student in students}\n",
    "#   Esse dict comprehension vai ser criado a partir de `students`, que vai ser o valor chave \n",
    "# e `gryffindor` será o valor associado a cada student\n",
    "print(gryffindors)"
   ]
  },
  {
   "cell_type": "markdown",
   "metadata": {},
   "source": [
    "---------------------------"
   ]
  },
  {
   "cell_type": "code",
   "execution_count": null,
   "metadata": {},
   "outputs": [],
   "source": [
    "students = [\"Harry\", \"Hermione\", \"Ron\"]\n",
    "\n",
    "for i in range(len(students)):\n",
    "    print(i + 1, students[i])"
   ]
  },
  {
   "cell_type": "markdown",
   "metadata": {},
   "source": [
    "enumerate => (iterable, start = 0) =>"
   ]
  },
  {
   "cell_type": "code",
   "execution_count": null,
   "metadata": {},
   "outputs": [],
   "source": [
    "students = [\"Harry\", \"Hermione\", \"Ron\"]\n",
    "\n",
    "for i, student in enumerate(students):\n",
    "    print(i + 1, student)"
   ]
  },
  {
   "cell_type": "code",
   "execution_count": null,
   "metadata": {},
   "outputs": [],
   "source": [
    "def main():\n",
    "    n = int(input(\"What's n? \"))\n",
    "    for i in range(n):\n",
    "        print(sheep(i))\n",
    "\n",
    "def sheep(n):\n",
    "    return \"*sheep here*\" * n\n",
    "\n",
    "if __name__ == \"__main__\":\n",
    "    main()"
   ]
  },
  {
   "cell_type": "code",
   "execution_count": null,
   "metadata": {},
   "outputs": [],
   "source": [
    "# Returns a list of sheep\n",
    "\n",
    "\n",
    "def main():\n",
    "    n = int(input(\"What's n? \"))\n",
    "    for s in sheep(n):\n",
    "        print(s)\n",
    "\n",
    "\n",
    "def sheep(n):\n",
    "    flock = []\n",
    "    for i in range(n):\n",
    "        flock.append(\"*sheep here*\" * i)\n",
    "    return flock\n",
    "\n",
    "\n",
    "if __name__ == \"__main__\":\n",
    "    main()"
   ]
  },
  {
   "cell_type": "markdown",
   "metadata": {},
   "source": [
    "generators =>  evita o congelamento de programas por falta de memória  \n",
    "`yield` => return 1 por 1, ao invés de tudo ao mesmo tempo  \n",
    "^-> \"return 1 value at the time\""
   ]
  },
  {
   "cell_type": "code",
   "execution_count": null,
   "metadata": {},
   "outputs": [],
   "source": [
    "def main():\n",
    "    n = int(input(\"What's n? \"))\n",
    "    for s in sheep(n):\n",
    "        print(s)\n",
    "\n",
    "\n",
    "def sheep(n):\n",
    "    for i in range(n):\n",
    "        yield \"*sheep here*\" * i\n",
    "\n",
    "\n",
    "if __name__ == \"__main__\":\n",
    "    main()"
   ]
  }
 ],
 "metadata": {
  "kernelspec": {
   "display_name": "Python 3.11.1 64-bit",
   "language": "python",
   "name": "python3"
  },
  "language_info": {
   "codemirror_mode": {
    "name": "ipython",
    "version": 3
   },
   "file_extension": ".py",
   "mimetype": "text/x-python",
   "name": "python",
   "nbconvert_exporter": "python",
   "pygments_lexer": "ipython3",
   "version": "3.11.1"
  },
  "orig_nbformat": 4,
  "vscode": {
   "interpreter": {
    "hash": "5238573367df39f7286bb46f9ff5f08f63a01a80960060ce41e3c79b190280fa"
   }
  }
 },
 "nbformat": 4,
 "nbformat_minor": 2
}
