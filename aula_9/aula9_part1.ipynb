{
 "cells": [
  {
   "cell_type": "markdown",
   "metadata": {},
   "source": [
    "### ET CETERA...\n",
    "\n",
    "`set` => collection of values, where there are no duplicates, e as duplicatas são eliminadas automaticamente\n",
    "^-> utilizado para automaticamente filtrar duplicatas"
   ]
  },
  {
   "cell_type": "code",
   "execution_count": null,
   "metadata": {},
   "outputs": [],
   "source": [
    "students = [\n",
    "    {\"name\": \"Hermione\", \"house\": \"Gryffindor\"},\n",
    "    {\"name\": \"Harry\", \"house\": \"Gryffindor\"},\n",
    "    {\"name\": \"Ron\", \"house\": \"Gryffindor\"},\n",
    "    {\"name\": \"Draco\", \"house\": \"Slytherin\"},\n",
    "    {\"name\": \"Padma\", \"house\": \"Ravenclaw\"},\n",
    "]\n",
    "\n",
    "houses = []\n",
    "for student in students:\n",
    "    if student[\"house\"] not in houses:\n",
    "        houses.append(student[\"house\"])\n",
    "\n",
    "for house in sorted(houses):\n",
    "    print(house)"
   ]
  },
  {
   "cell_type": "code",
   "execution_count": null,
   "metadata": {},
   "outputs": [],
   "source": [
    "students = [\n",
    "    {\"name\": \"Hermione\", \"house\": \"Gryffindor\"},\n",
    "    {\"name\": \"Harry\", \"house\": \"Gryffindor\"},\n",
    "    {\"name\": \"Ron\", \"house\": \"Gryffindor\"},\n",
    "    {\"name\": \"Draco\", \"house\": \"Slytherin\"},\n",
    "    {\"name\": \"Padma\", \"house\": \"Ravenclaw\"},\n",
    "]\n",
    "\n",
    "houses = set()\n",
    "for student in students:\n",
    "    houses.add(student['house'])\n",
    "\n",
    "for house in sorted(houses):\n",
    "    print(house)"
   ]
  },
  {
   "cell_type": "markdown",
   "metadata": {},
   "source": [
    "`global` (variable) => colocando a variável fora de suas funções ela se torna uma variável global\n",
    "^-> ela só pode ser lida normalmente, se tentarmos alterar ela, dará um erro : `UnboundLocalError`\n",
    "> `global variables` só funciona chamando a váriavel `\"global\"`, como no exemplo abaixo, só assim conseguimos modificá-la"
   ]
  },
  {
   "cell_type": "code",
   "execution_count": null,
   "metadata": {},
   "outputs": [],
   "source": [
    "#bank.py\n",
    "balance = 0\n",
    "\n",
    "def main():\n",
    "    print(\"Balance:\", balance)\n",
    "    deposit(100)\n",
    "    withdraw(50)\n",
    "    print(\"Balance:\", balance)\n",
    "\n",
    "def deposit(n):\n",
    "    global balance\n",
    "    balance += n\n",
    "\n",
    "def withdraw(n):\n",
    "    global balance\n",
    "    balance -= n\n",
    "\n",
    "if __name__ == \"__main__\":\n",
    "    main()"
   ]
  },
  {
   "cell_type": "markdown",
   "metadata": {},
   "source": [
    "> Caso utilize-mos uma variável local com o mesmo nome d euma global, só o valor da local será alterado. Logo, podemos utilizar o mesmo nome e não interferir/confundir o programa sobre qual variável estamos querendo utilizar, só lembrando de, quando for chamar a local, utilizar `global` antes dela\n",
    ">> **EVITAR REPETIR NOMES**, evitar usar variaveis globais no geral, principalmente em programas maiores. Em menores, não tem tanto problema\n",
    "\n",
    "#### Abaixo, utilizaremos o conceito *class* para criar esse banco"
   ]
  },
  {
   "cell_type": "markdown",
   "metadata": {},
   "source": [
    "*Quando não há `setter`, so há o `getter`, funções chamadas pelo `main()`(por exemplo), não podem alterar o valor daquela váriavel, logo, se tentassemos colocar o valor de balance em 1000 \"`account.balance = 1000`\" não conseguiriamos, pois ele está protegido pelo getter"
   ]
  },
  {
   "cell_type": "code",
   "execution_count": null,
   "metadata": {},
   "outputs": [],
   "source": [
    "class Account:\n",
    "    def __init__(self):\n",
    "        self._balance = 0\n",
    "\n",
    "    @property\n",
    "    def balance(self):\n",
    "        return self._balance\n",
    "\n",
    "    def deposit(self, n):\n",
    "        self._balance += n\n",
    "\n",
    "    def withdraw(self, n):\n",
    "        self._balance -= n\n",
    "\n",
    "\n",
    "def main():\n",
    "    account = Account()\n",
    "    print(\"Balance:\", account.balance)\n",
    "    account.deposit(100)\n",
    "    account.withdraw(50)\n",
    "    print(\"Balance:\", account.balance)\n",
    "\n",
    "\n",
    "if __name__ == \"__main__\":\n",
    "    main()"
   ]
  },
  {
   "cell_type": "markdown",
   "metadata": {},
   "source": [
    "#### Sobre global definitions em *class*\n",
    "\n",
    "Qualquer definição dada pelo `__init__` da classe pode ser acessada por todas as funções da classe, pois é uma variável da classe\n",
    "##### Lembrar de anotar esse exemplo que ele é muito bom na real"
   ]
  },
  {
   "cell_type": "markdown",
   "metadata": {},
   "source": [
    "-------------------------------\n"
   ]
  },
  {
   "cell_type": "markdown",
   "metadata": {},
   "source": [
    "`constant` => Colocar sempre as contantes que tu não quer que mude no começo do código, para que, quem veja, seja eu memso ou outro programador, entenda e ache mais fácil o que está sendo \"constante\", vide exemplo:\n",
    "> Lembrando que fica mais fácil até para achar a constante que quer mudar e muda-la diretamente, ao invés de procurar linha por linha aonde tu quer mudar, com chance de quebrar o código por um erro\n",
    ">> lembrar de **CAPITALIZE** o que tu quer que seja constante (uma convenção pythonic)"
   ]
  },
  {
   "cell_type": "code",
   "execution_count": null,
   "metadata": {},
   "outputs": [],
   "source": [
    "MEOWS = 3\n",
    "\n",
    "for _ in range(MEOWS):\n",
    "    print(\"meow\")"
   ]
  },
  {
   "cell_type": "markdown",
   "metadata": {},
   "source": [
    "> Utilizamos o mesmo conceito em `class`, e chamamos ela assim:"
   ]
  },
  {
   "cell_type": "code",
   "execution_count": null,
   "metadata": {},
   "outputs": [],
   "source": [
    "class Cat:\n",
    "    MEOWS = 3\n",
    "\n",
    "    def meow(self):\n",
    "        for _ in range(Cat.MEOWS):\n",
    "            print(\"meow\")\n",
    "\n",
    "cat = Cat()\n",
    "cat.meow()"
   ]
  },
  {
   "cell_type": "markdown",
   "metadata": {},
   "source": [
    "type hints => **mypy** => checando se o python está usando as variaveis do jeito que o programa rode, já que o python automaticamente converte para o programador as variaveis, pode haver erros nessa automação"
   ]
  },
  {
   "cell_type": "code",
   "execution_count": null,
   "metadata": {},
   "outputs": [],
   "source": [
    "def meow(n):\n",
    "    for _ in range(n):\n",
    "        print(\"meow\")\n",
    "\n",
    "number = input(\"Number: \")\n",
    "meow(number)"
   ]
  },
  {
   "cell_type": "markdown",
   "metadata": {},
   "source": [
    "> Nesse exemplo acima, dá um erro pois a função input retorna uma str, ao invés de fazer o que faziamos normalmente, de converter o resultado para int, começar a programar de maneira mais defensiva, tentando evitar que esses casos aconteçam  \n",
    "\n",
    "`def meow(n:int)` => está dando a dica (hint) para o python que meow espera que um int seja atribuido à variavel `n`  \n",
    "> Ainda assim, python vai ignorar e ainda vai dar erro, então usar o *mypy*"
   ]
  },
  {
   "cell_type": "code",
   "execution_count": null,
   "metadata": {},
   "outputs": [],
   "source": [
    "def meow(n : int):\n",
    "    for _ in range(n):\n",
    "        print(\"meow\")\n",
    "\n",
    "number: int = input(\"Number: \")\n",
    "meow(number)"
   ]
  },
  {
   "cell_type": "markdown",
   "metadata": {},
   "source": [
    "Rodando no cmd **`mypy pyfile.py`**, ele localiza para ti os erros de conversão de variaveis, e, colocando **`: int`** na váriavel para dizer ao programa *\"isso deve ser um int\"*, `mypy` consegue localizar com mais precisão onde está o erro"
   ]
  },
  {
   "cell_type": "code",
   "execution_count": null,
   "metadata": {},
   "outputs": [],
   "source": [
    "def meow(n : int):\n",
    "    for _ in range(n):\n",
    "        print(\"meow\")\n",
    "\n",
    "number: int = int(input(\"Number: \"))\n",
    "meow(number)"
   ]
  },
  {
   "cell_type": "markdown",
   "metadata": {},
   "source": [
    "Tende a ser bom para uma programação mais defensiva  \n",
    "\n",
    "Para indicar que a função não tem valor de retorno, utlizar ` -> None`\n"
   ]
  },
  {
   "cell_type": "code",
   "execution_count": 3,
   "metadata": {},
   "outputs": [
    {
     "name": "stdout",
     "output_type": "stream",
     "text": [
      "meow\n",
      "meow\n",
      "meow\n",
      "None\n"
     ]
    }
   ],
   "source": [
    "def meow(n : int) -> None:\n",
    "    for _ in range(n):\n",
    "        print(\"meow\")\n",
    "\n",
    "number: int = int(input(\"Number: \"))\n",
    "meows:str = meow(number)\n",
    "print(meows)"
   ]
  },
  {
   "cell_type": "markdown",
   "metadata": {},
   "source": [
    "Para evitar o erro acima de None, que está sendo \"printado\" pela última linha, por `meow` não ter valor de retorno, utilizar `-> None` para indicar a quem está lendo o código que a função não retorna nada, só faz algo e, por isso, o que `meows` \"printa\" é `None`  \n",
    "\n",
    ">Utilizando **mypy (mypy pyfile.py)**, mypy mosrta que tu está tentando \"printar\" algo que não tem valor de retorno, por isso está quebradinho  \n",
    ">> E o **mypy** só detecta pq indicamos que a função retorna `None`  \n",
    "\n",
    "Resolvendo esse problema:"
   ]
  },
  {
   "cell_type": "code",
   "execution_count": 4,
   "metadata": {},
   "outputs": [
    {
     "name": "stdout",
     "output_type": "stream",
     "text": [
      "meow\n",
      "meow\n",
      "meow\n"
     ]
    }
   ],
   "source": [
    "def meow(n : int) -> str:\n",
    "    return \"meow\\n\" * n\n",
    "\n",
    "number: int = int(input(\"Number: \"))\n",
    "meows:str = meow(number)\n",
    "print(meows, end = \"\")"
   ]
  },
  {
   "cell_type": "markdown",
   "metadata": {},
   "source": [
    "docstring => existe uma maneira padrão para documentar o que o seu código está fazendo e como está fazendo  \n",
    "Se o python detectar que há `\"\"\" \"\"\"`, ele saberá que é a documentação oficial do teu projeto"
   ]
  },
  {
   "cell_type": "code",
   "execution_count": null,
   "metadata": {},
   "outputs": [],
   "source": [
    "def meow(n : int) -> str:\n",
    "    \"\"\"\n",
    "    Meow n times.\n",
    "\n",
    "    :parm n: Number of times to meow\n",
    "    :type n: int\n",
    "    :raise TypeError: If n is not an int\n",
    "    :return: A string of n meows, one per line\n",
    "    :rtype: str\n",
    "    \"\"\"\n",
    "    return \"meow\\n\" * n\n",
    "\n",
    "number: int = int(input(\"Number: \"))\n",
    "meows:str = meow(number)\n",
    "print(meows, end = \"\")"
   ]
  }
 ],
 "metadata": {
  "kernelspec": {
   "display_name": "Python 3.11.1 64-bit",
   "language": "python",
   "name": "python3"
  },
  "language_info": {
   "codemirror_mode": {
    "name": "ipython",
    "version": 3
   },
   "file_extension": ".py",
   "mimetype": "text/x-python",
   "name": "python",
   "nbconvert_exporter": "python",
   "pygments_lexer": "ipython3",
   "version": "3.11.1"
  },
  "orig_nbformat": 4,
  "vscode": {
   "interpreter": {
    "hash": "5238573367df39f7286bb46f9ff5f08f63a01a80960060ce41e3c79b190280fa"
   }
  }
 },
 "nbformat": 4,
 "nbformat_minor": 2
}
