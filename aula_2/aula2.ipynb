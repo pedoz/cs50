{
 "cells": [
  {
   "cell_type": "markdown",
   "id": "2821b2e2-c7c7-46a7-ab40-b92cd429b06e",
   "metadata": {},
   "source": [
    "while = cria um loop 'enquanto' a condição for verdadeira\n",
    "\n",
    "o interpretador continua sem parar, indo da linha 1, para a 2, para a 3...., voltando pra 1.... até que a condição do while se satisfaça"
   ]
  },
  {
   "cell_type": "code",
   "execution_count": 1,
   "id": "6c9d6df1-bc04-4d32-bea2-a99a32d9c4a1",
   "metadata": {},
   "outputs": [
    {
     "name": "stdout",
     "output_type": "stream",
     "text": [
      "meow\n",
      "meow\n",
      "meow\n"
     ]
    }
   ],
   "source": [
    "n = int(input(\"quantas miadas? \"))\n",
    "while n > 0:\n",
    "    print(\"meow\")\n",
    "    n = n-1"
   ]
  },
  {
   "cell_type": "code",
   "execution_count": null,
   "id": "1263652f-d7f4-4164-8924-9216bdac4409",
   "metadata": {},
   "outputs": [],
   "source": [
    "i = 3\n",
    "while i != 0:\n",
    "    print(\"meow\")\n",
    "    i -=1\n",
    "    #i = i - 1"
   ]
  },
  {
   "cell_type": "code",
   "execution_count": null,
   "id": "418471ea-9def-4a7a-8ecd-3a978b226d1d",
   "metadata": {},
   "outputs": [],
   "source": [
    "i = 0\n",
    "while i < 3:\n",
    "    print (\"Meow\")\n",
    "    i+=1"
   ]
  },
  {
   "cell_type": "markdown",
   "id": "b0cd011f-a02c-4e8f-861e-a600db6d9907",
   "metadata": {},
   "source": [
    "list = contem vários valores de uma só vez\n",
    "for = automaticamente atualiza o valor da variável criada pelo próprio forloop com o valor do argumento  \n",
    "range = espera pelo menos um valor"
   ]
  },
  {
   "cell_type": "code",
   "execution_count": 1,
   "id": "7aa452f1-c30a-4945-927f-0dba4064d015",
   "metadata": {},
   "outputs": [
    {
     "name": "stdout",
     "output_type": "stream",
     "text": [
      "Meow\n",
      "Meow\n",
      "Meow\n"
     ]
    }
   ],
   "source": [
    "for i in [0, 1, 2]:\n",
    "    print(\"Meow\")"
   ]
  },
  {
   "cell_type": "code",
   "execution_count": null,
   "id": "569b8029-727b-43ff-9076-fd4f9e1531e7",
   "metadata": {},
   "outputs": [],
   "source": [
    "for i in range(3):\n",
    "    print(\"Meow\")"
   ]
  },
  {
   "cell_type": "code",
   "execution_count": null,
   "id": "fc89658c-60b9-4475-a0af-348f446ebe48",
   "metadata": {},
   "outputs": [],
   "source": [
    "# pode-se usar _ para usar uma variavel uma só vez, no qual ela não tem o valor guardado\n",
    "#apenas utilizado\n",
    "for _ in range(3):\n",
    "    print(\"Meow\")"
   ]
  },
  {
   "cell_type": "code",
   "execution_count": 11,
   "id": "12d3c41e-2074-4de8-8039-0e0e02858ff8",
   "metadata": {},
   "outputs": [
    {
     "name": "stdout",
     "output_type": "stream",
     "text": [
      "Meow\n",
      "Meow\n",
      "Meow\n"
     ]
    }
   ],
   "source": [
    "print(\"Meow\\n\" * 3, end=\"\")"
   ]
  },
  {
   "cell_type": "markdown",
   "id": "22d146a3-7f12-40e9-ba40-d31cef4e0c3a",
   "metadata": {},
   "source": [
    "continue = continua no loop while True enquanto não satisfazer a condição\n",
    "break = para o while True loop, continuando a leitura do código"
   ]
  },
  {
   "cell_type": "code",
   "execution_count": 12,
   "id": "3c81b69c-b36f-4fa7-9996-c9dcaea571ec",
   "metadata": {},
   "outputs": [
    {
     "name": "stdout",
     "output_type": "stream",
     "text": [
      "Qual o valor?  -2\n",
      "Qual o valor?  4\n"
     ]
    },
    {
     "name": "stdout",
     "output_type": "stream",
     "text": [
      "Meow\n",
      "Meow\n",
      "Meow\n",
      "Meow\n"
     ]
    }
   ],
   "source": [
    "while True:\n",
    "    n = int(input(\"Qual o valor? \"))\n",
    "    if n >0:\n",
    "        break\n",
    "for _ in range(n):\n",
    "    print(\"Meow\")"
   ]
  },
  {
   "cell_type": "code",
   "execution_count": null,
   "id": "8db96aec-cd15-4407-8818-62c218f1d678",
   "metadata": {},
   "outputs": [],
   "source": [
    "def main():\n",
    "    number = get_number\n",
    "    meow(number)\n",
    "    \n",
    "def get_number():\n",
    "    while True:\n",
    "        n = int(input(\"Qual o número? \"))\n",
    "        if n > 0:\n",
    "            break\n",
    "        return n\n",
    "def meow(n):\n",
    "    for _ in range(n):\n",
    "        print(\"meow\")\n",
    "        \n",
    "main()"
   ]
  },
  {
   "cell_type": "markdown",
   "id": "952b4e8f-2e5f-4eb7-8c49-a49962f9555c",
   "metadata": {},
   "source": [
    "return também pode sair do while True loop e retornar o valor automaticamente"
   ]
  },
  {
   "cell_type": "code",
   "execution_count": null,
   "id": "cdccd34b-f3c9-4e05-946e-bc7c0e8da49f",
   "metadata": {},
   "outputs": [],
   "source": [
    "def main():\n",
    "    number = get_number\n",
    "    meow(number)\n",
    "    \n",
    "def get_number():\n",
    "    while True:\n",
    "        n = int(input(\"Qual o número? \"))\n",
    "        if n > 0:\n",
    "            return n\n",
    "def meow(n):\n",
    "    for _ in range(n):\n",
    "        print(\"meow\")\n",
    "        \n",
    "main()"
   ]
  },
  {
   "cell_type": "markdown",
   "id": "2612dd7c-297d-4c26-88b0-1c910017c211",
   "metadata": {},
   "source": [
    "-------------------------"
   ]
  },
  {
   "cell_type": "code",
   "execution_count": 1,
   "id": "75d540cb-4aed-46d8-9bc7-e4ed898e9b72",
   "metadata": {},
   "outputs": [
    {
     "name": "stdout",
     "output_type": "stream",
     "text": [
      "Hermione\n",
      "Harry\n",
      "Ron\n"
     ]
    }
   ],
   "source": [
    "students = [\"Hermione\",\"Harry\",\"Ron\"]\n",
    "\n",
    "print(students[0])\n",
    "print(students[1])\n",
    "print(students[2])"
   ]
  },
  {
   "cell_type": "code",
   "execution_count": 15,
   "id": "6ec79f1e-a8c7-4da1-a35c-ac0046fdc1c0",
   "metadata": {},
   "outputs": [
    {
     "name": "stdout",
     "output_type": "stream",
     "text": [
      "Hermione\n",
      "Harry\n",
      "Ron\n"
     ]
    }
   ],
   "source": [
    "students = [\"Hermione\",\"Harry\",\"Ron\"]\n",
    "\n",
    "for s in students:\n",
    "    print(s)"
   ]
  },
  {
   "cell_type": "markdown",
   "id": "0d6da6db-b24d-4760-9f7e-4b04816006a6",
   "metadata": {},
   "source": [
    "len = diz o tamnho da lista, transformando em int"
   ]
  },
  {
   "cell_type": "markdown",
   "id": "5d79d62c-df55-4c80-95d5-9bd949496224",
   "metadata": {},
   "source": [
    "basicamente, no código abaixo, ele cria a variável para indicar e refazer a função for, criando um for loop e imprimindo os nomes de forma separada"
   ]
  },
  {
   "cell_type": "code",
   "execution_count": 17,
   "id": "f136a4c4-3854-4992-b311-e092f995d407",
   "metadata": {},
   "outputs": [
    {
     "name": "stdout",
     "output_type": "stream",
     "text": [
      "1 Hermione\n",
      "2 Harry\n",
      "3 Ron\n"
     ]
    }
   ],
   "source": [
    "students = [\"Hermione\",\"Harry\",\"Ron\"]\n",
    "\n",
    "for i in range(len(students)):\n",
    "    print(i + 1, students[i])"
   ]
  },
  {
   "cell_type": "markdown",
   "id": "3426b5c7-efee-4f30-82d0-dcedf6b32e0d",
   "metadata": {},
   "source": [
    "dict = permite associar um valor a outro, utilizando {}\n",
    "diferente da lista, pode chamar outros tipos de valores (como str) para chamar a variável"
   ]
  },
  {
   "cell_type": "code",
   "execution_count": 3,
   "id": "da4cd985-6bce-436a-aab6-cb9d80e5bb3c",
   "metadata": {},
   "outputs": [
    {
     "name": "stdout",
     "output_type": "stream",
     "text": [
      "Gryffindor\n",
      "Gryffindor\n",
      "Gryffindor\n",
      "Slytherin\n"
     ]
    }
   ],
   "source": [
    "students = {\n",
    "    \"Hermione\": \"Gryffindor\",\n",
    "    \"Harry\": \"Gryffindor\",\n",
    "    \"Ron\": \"Gryffindor\",\n",
    "    \"Draco\": \"Slytherin\",\n",
    "}\n",
    "\n",
    "print(students[\"Hermione\"])\n",
    "print(students[\"Harry\"])\n",
    "print(students[\"Ron\"])\n",
    "print(students[\"Draco\"])"
   ]
  },
  {
   "cell_type": "code",
   "execution_count": 5,
   "id": "80f9e880-a38c-459d-907a-28592ce7ccf2",
   "metadata": {},
   "outputs": [
    {
     "name": "stdout",
     "output_type": "stream",
     "text": [
      "Hermione\n",
      "Harry\n",
      "Ron\n",
      "Draco\n"
     ]
    }
   ],
   "source": [
    "students = {\n",
    "    \"Hermione\": \"Gryffindor\",\n",
    "    \"Harry\": \"Gryffindor\",\n",
    "    \"Ron\": \"Gryffindor\",\n",
    "    \"Draco\": \"Slytherin\",\n",
    "}\n",
    "for student in students:\n",
    "        print(student)"
   ]
  },
  {
   "cell_type": "markdown",
   "id": "0193f937-11ad-47fe-a485-8dec99a98e99",
   "metadata": {},
   "source": [
    "quando usamos for loop em dict, ele automaticamente mostra o valor chave (o primeiro valor)"
   ]
  },
  {
   "cell_type": "code",
   "execution_count": 8,
   "id": "2d8a6ee2-2a70-4fed-adcf-4dea35c88283",
   "metadata": {},
   "outputs": [
    {
     "name": "stdout",
     "output_type": "stream",
     "text": [
      "Hermione, Gryffindor\n",
      "Harry, Gryffindor\n",
      "Ron, Gryffindor\n",
      "Draco, Slytherin\n"
     ]
    }
   ],
   "source": [
    "students = {\n",
    "    \"Hermione\": \"Gryffindor\",\n",
    "    \"Harry\": \"Gryffindor\",\n",
    "    \"Ron\": \"Gryffindor\",\n",
    "    \"Draco\": \"Slytherin\",\n",
    "}\n",
    "for student in students:\n",
    "        print(student, students[student], sep=\", \")"
   ]
  },
  {
   "cell_type": "code",
   "execution_count": 14,
   "id": "027943c9-6498-4040-a1a9-350d60406734",
   "metadata": {},
   "outputs": [
    {
     "name": "stdout",
     "output_type": "stream",
     "text": [
      "Hermione, Gryffindor, Otter\n",
      "Harry, Gryffindor, Stag\n",
      "Ron, Gryffindor, Jack Russel terrier\n",
      "Draco, Slytherin, None\n"
     ]
    }
   ],
   "source": [
    "students = [\n",
    "    {\"name\": \"Hermione\", \"house\": \"Gryffindor\", \"patronus\": \"Otter\"},\n",
    "    {\"name\": \"Harry\", \"house\": \"Gryffindor\", \"patronus\": \"Stag\"},\n",
    "    {\"name\": \"Ron\", \"house\": \"Gryffindor\", \"patronus\": \"Jack Russel terrier\"},\n",
    "    {\"house\":\"Slytherin\", \"name\":\"Draco\", \"patronus\": None}\n",
    "]\n",
    "\n",
    "for student in students:\n",
    "    print(student[\"name\"], student[\"house\"], student[\"patronus\"], sep = \", \")"
   ]
  },
  {
   "cell_type": "markdown",
   "id": "ddb4a16c-0cee-4a35-8cbd-01bd93d3c524",
   "metadata": {},
   "source": [
    "A ordem da lista não faz diferença, apenas o nome da variavél que tu quer adquirir seja corretamente programada"
   ]
  },
  {
   "cell_type": "code",
   "execution_count": 15,
   "id": "98dba499-b623-4548-ac5f-50ca02875261",
   "metadata": {},
   "outputs": [
    {
     "name": "stdout",
     "output_type": "stream",
     "text": [
      "#\n",
      "#\n",
      "#\n"
     ]
    }
   ],
   "source": [
    "#mario.py\n",
    "for _ in range(3):\n",
    "    print(\"#\")"
   ]
  },
  {
   "cell_type": "code",
   "execution_count": null,
   "id": "d32fa39b-4ee7-4606-995a-4d8a8c1dd1a7",
   "metadata": {},
   "outputs": [],
   "source": [
    "def main():\n",
    "    print_column(3)\n",
    "    \n",
    "    \n",
    "def print_column(height):\n",
    "    for _ in range(height):\n",
    "        print(\"#\")\n",
    "        \n",
    "main()"
   ]
  },
  {
   "cell_type": "code",
   "execution_count": null,
   "id": "a52b5b0b-df4c-42c5-b4fa-e7cd3f6e5c57",
   "metadata": {},
   "outputs": [],
   "source": [
    "def main():\n",
    "    print_column(3)\n",
    "    \n",
    "    \n",
    "def print_column(height):\n",
    "    print(\"#\\n\" * height, end = \"\")\n",
    "        \n",
    "main()"
   ]
  },
  {
   "cell_type": "code",
   "execution_count": 16,
   "id": "a9a3a9c7-ece1-4efc-9c03-da784b68770c",
   "metadata": {},
   "outputs": [
    {
     "name": "stdout",
     "output_type": "stream",
     "text": [
      "????\n"
     ]
    }
   ],
   "source": [
    "def main():\n",
    "    print_row(4)\n",
    "    \n",
    "def print_row(width):\n",
    "    print(\"?\" * width)\n",
    "        \n",
    "main()"
   ]
  },
  {
   "cell_type": "code",
   "execution_count": 17,
   "id": "5121280e-4737-48ef-8452-03d08712573d",
   "metadata": {},
   "outputs": [
    {
     "name": "stdout",
     "output_type": "stream",
     "text": [
      "###\n",
      "###\n",
      "###\n"
     ]
    }
   ],
   "source": [
    "def main():\n",
    "    print_square(3)\n",
    "    \n",
    "def print_square(size):\n",
    "    for i in range(size):\n",
    "        print(\"#\" * size)\n",
    "        \n",
    "main()"
   ]
  },
  {
   "cell_type": "code",
   "execution_count": 18,
   "id": "2518956e-1e0f-421c-baae-bd0b4ffd9f24",
   "metadata": {},
   "outputs": [
    {
     "name": "stdout",
     "output_type": "stream",
     "text": [
      "###\n",
      "###\n",
      "###\n"
     ]
    }
   ],
   "source": [
    "def main():\n",
    "    print_square(3)\n",
    "    \n",
    "def print_square(size):\n",
    "    for i in range(size):\n",
    "        for j in range(size):\n",
    "            print(\"#\", end=\"\")\n",
    "        #esse print cria uma nova linha para ir para a nova linha\n",
    "        print()\n",
    "        \n",
    "main()"
   ]
  },
  {
   "cell_type": "code",
   "execution_count": null,
   "id": "aa005bdd-dd75-461f-82d7-1cb5347b56d7",
   "metadata": {},
   "outputs": [],
   "source": []
  }
 ],
 "metadata": {
  "kernelspec": {
   "display_name": "Python 3.9.7 64-bit",
   "language": "python",
   "name": "python3"
  },
  "language_info": {
   "codemirror_mode": {
    "name": "ipython",
    "version": 3
   },
   "file_extension": ".py",
   "mimetype": "text/x-python",
   "name": "python",
   "nbconvert_exporter": "python",
   "pygments_lexer": "ipython3",
   "version": "3.9.7"
  },
  "vscode": {
   "interpreter": {
    "hash": "c347c8f9a7ef94e4c9e03b4513be7835ed18f45b99a2a817fb579f408b867b16"
   }
  }
 },
 "nbformat": 4,
 "nbformat_minor": 5
}
