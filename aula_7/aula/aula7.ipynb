{
 "cells": [
  {
   "cell_type": "markdown",
   "metadata": {},
   "source": [
    "## REGULAR EXPRESSIONS\n",
    "\n",
    "regular expression = regexes =>basicamente, são \"patterns\"    \n",
    "^-> utilizados para dar \"match\" nesses \"pattern\", geralmente input's do usuário  \n",
    "\n",
    "se, por exemplo, o usuário colocar um e-mail, queremos validar se o usuário realmente colocou um e-mail válido. e não algo totalmente diferente  \n",
    "usando \"regular expressions\", teremos a possibilidade de verificar isso, definindo \"patterns\" no nosso código e compará-los aos dados que recebemos do input do usuário\n",
    "\n",
    "#### Testando a solução de problemas com uso de síntaxe básica:"
   ]
  },
  {
   "cell_type": "code",
   "execution_count": null,
   "metadata": {},
   "outputs": [],
   "source": [
    "#validate.py\n",
    "\n",
    "#strip está tirando espaços da direita ou da esquerda\n",
    "email = input(\"What's your e-mail? \").strip()\n",
    "\n",
    "if \"@\" in email and \".\" in email:\n",
    "    print(\"Valid\")\n",
    "else:\n",
    "    print(\"Invalid\")\n"
   ]
  },
  {
   "cell_type": "code",
   "execution_count": null,
   "metadata": {},
   "outputs": [],
   "source": [
    "#validate.py\n",
    "\n",
    "#strip está tirando espaços da direita ou da esquerda\n",
    "email = input(\"What's your e-mail? \").strip()\n",
    "\n",
    "username, domain = email.split(\"@\")\n",
    "\n",
    "if username and \".\" in domain:\n",
    "#são duas expressões separadas acima\n",
    "#vai retornar true simplesmente por ter algo, se for nada ou em branco, retorna False\n",
    "    print(\"valid\")\n",
    "else:\n",
    "    print(\"Invalid\")"
   ]
  },
  {
   "cell_type": "code",
   "execution_count": null,
   "metadata": {},
   "outputs": [],
   "source": [
    "#validate.py\n",
    "\n",
    "#strip está tirando espaços da direita ou da esquerda\n",
    "email = input(\"What's your e-mail? \").strip()\n",
    "\n",
    "username, domain = email.split(\"@\")\n",
    "\n",
    "if username and domain.endswith(\".edu\"):\n",
    "    print(\"valid\")\n",
    "else:\n",
    "    print(\"Invalid\")"
   ]
  },
  {
   "cell_type": "markdown",
   "metadata": {},
   "source": [
    "`re` => biblioteca de expressões regulares, tem a capacidade de definir, checar e até mesmo mudar padrões(\"patterns\")  \n",
    "`re.search(pattern, string, flags=0)`\n",
    "^-> qualPadrãoProcurar, emQualStringProcurar, flag=> parametro que vai utilizar para modificar o comportamento da função  \n"
   ]
  },
  {
   "cell_type": "code",
   "execution_count": null,
   "metadata": {},
   "outputs": [],
   "source": [
    "import re\n",
    "\n",
    "email = input(\"What's your e-mail? \").strip()\n",
    "\n",
    "if re.search(\"@\", email):\n",
    "    print(\"Valid\")\n",
    "else:\n",
    "    print(\"Invalid\")"
   ]
  },
  {
   "cell_type": "markdown",
   "metadata": {},
   "source": [
    "Queremos conferir se, antes do \"@\", tem algo escrito e, depois do \"@\", também tem algo escrito, que termine com .edu, ou algo válido do genero  \n",
    "Em 'Regular Expressions', temos certos símbolos para definir padrões"
   ]
  },
  {
   "cell_type": "markdown",
   "metadata": {},
   "source": [
    "`.` => any character except a newline  \n",
    "`*` => 0 or more repetitions  \n",
    "`+` => 1 or more repetitions  \n",
    "`?` => 0 or 1 repetitions == quer dizer que é opcional  \n",
    "`{m}` => m repetitions  \n",
    "`{m,n}` => m, n repetitions"
   ]
  },
  {
   "cell_type": "code",
   "execution_count": null,
   "metadata": {},
   "outputs": [],
   "source": [
    "import re\n",
    "\n",
    "email = input(\"What's your e-mail? \").strip()\n",
    "\n",
    "#if re.search(\".*@.*\", email):\n",
    "#vai dar erro no de cima, pq \"*\"aceita 0 ou mais, quando precisamos de pelo menos 1\n",
    "#equivalente a \".+\" é \"..*\"\n",
    "#if re.search(\".+@.+\", email):\n",
    "if re.search(\"..*@..*\", email):\n",
    "    print(\"Valid\")\n",
    "else:\n",
    "    print(\"Invalid\")"
   ]
  },
  {
   "cell_type": "code",
   "execution_count": null,
   "metadata": {},
   "outputs": [],
   "source": [
    "import re\n",
    "\n",
    "email = input(\"What's your e-mail? \").strip()\n",
    "\n",
    "if re.search(r\".+@.+\\.edu\", email):\n",
    "    print(\"Valid\")\n",
    "else:\n",
    "    print(\"Invalid\")"
   ]
  },
  {
   "cell_type": "markdown",
   "metadata": {},
   "source": [
    "utilizar \\ para reconhecer o . como . e não como chamador\n",
    "\n",
    "r => avisa para o python não interpretar `\\` da maneira comum  \n",
    "^-> raw  \n",
    ".  \n",
    "se colocassemos no input = \"my email adress is davia@harvard.edu.\" seria considerado válido, o que não é bom para o que queremos, queremos apenas o email do usuário  \n",
    "\n",
    "`^` => matches the start of the string (start of the string)\n",
    "`$` => matches the end of the string just before the newline at the end of the string (end of the string)\n"
   ]
  },
  {
   "cell_type": "code",
   "execution_count": null,
   "metadata": {},
   "outputs": [],
   "source": [
    "import re\n",
    "\n",
    "email = input(\"What's your e-mail? \").strip()\n",
    "\n",
    "if re.search(r\"^.+@.+\\.edu$\", email):\n",
    "    print(\"Valid\")\n",
    "else:\n",
    "    print(\"Invalid\")"
   ]
  },
  {
   "cell_type": "markdown",
   "metadata": {},
   "source": [
    "`[]` => set of characters \n",
    "> exemplo [abcdefghijklmnopqrstuvwxyz]\n",
    "`[^]` => complementing the set (basicamente, qualquer coisa exceto)\n",
    "\n",
    "[^@] => quer dizer que vale qualquer coisa menos \"@\""
   ]
  },
  {
   "cell_type": "code",
   "execution_count": null,
   "metadata": {},
   "outputs": [],
   "source": [
    "import re\n",
    "\n",
    "email = input(\"What's your e-mail? \").strip()\n",
    "\n",
    "if re.search(r\"^[^@]+@[^@]+\\.edu$\", email):\n",
    "    print(\"Valid\")\n",
    "else:\n",
    "    print(\"Invalid\")"
   ]
  },
  {
   "cell_type": "markdown",
   "metadata": {},
   "source": [
    "range das letras [a-z] - a até z  \n",
    "no código abaixo, ao invés de negar o \"@\", colocamos que so aceitamos [a-zA-Z0-9_], fazendo, assim o programa só aceitar esses digitos, e, por consequencia, negando os outros, como, por exemplo, \"@\"\n",
    "`\\w` => qualquer word characters, contendo [a-zA-Z0-9_]"
   ]
  },
  {
   "cell_type": "code",
   "execution_count": null,
   "metadata": {},
   "outputs": [],
   "source": [
    "import re\n",
    "\n",
    "email = input(\"What's your e-mail? \").strip()\n",
    "\n",
    "if re.search(r\"^[a-zA-Z0-9_]+@[a-zA-Z0-9_]+\\.edu$\", email):\n",
    "    print(\"Valid\")\n",
    "else:\n",
    "    print(\"Invalid\")"
   ]
  },
  {
   "cell_type": "markdown",
   "metadata": {},
   "source": [
    "`\\d` => decimal digit\n",
    "`\\D` => not a decimal digit\n",
    "`\\s` => whitespace character\n",
    "`\\S` => not a whitespace character\n",
    "`\\w` => word character, as well as numbers and the underscore\n",
    "`\\W` => not a word character"
   ]
  },
  {
   "cell_type": "markdown",
   "metadata": {},
   "source": [
    "podemos tbm fazer para detectar um espaço => (\\w|\\s)"
   ]
  },
  {
   "cell_type": "code",
   "execution_count": null,
   "metadata": {},
   "outputs": [],
   "source": [
    "import re\n",
    "\n",
    "email = input(\"What's your e-mail? \").strip()\n",
    "\n",
    "if re.search(r\"^\\w+@\\w+\\.edu$\", email):\n",
    "    print(\"Valid\")\n",
    "else:\n",
    "    print(\"Invalid\")"
   ]
  },
  {
   "cell_type": "markdown",
   "metadata": {},
   "source": [
    "flags => configuração  \n",
    "1. re.IGNORECASE\n",
    "2. re.MULTILINE\n",
    "3. re.DOTALL"
   ]
  },
  {
   "cell_type": "code",
   "execution_count": null,
   "metadata": {},
   "outputs": [],
   "source": [
    "import re\n",
    "\n",
    "email = input(\"What's your e-mail? \").strip()\n",
    "\n",
    "if re.search(r\"^\\w+@\\w+\\.edu$\", email, re.IGNORECASE):\n",
    "    print(\"Valid\")\n",
    "else:\n",
    "    print(\"Invalid\")"
   ]
  },
  {
   "cell_type": "markdown",
   "metadata": {},
   "source": [
    "a|b => either a or b (basicamente, um `or`)\n",
    "(...) => a group\n",
    "(?:...) => non-capturing version\n",
    "(edu|gov|com|net|org)"
   ]
  },
  {
   "cell_type": "code",
   "execution_count": null,
   "metadata": {},
   "outputs": [],
   "source": [
    "import re\n",
    "\n",
    "email = input(\"What's your e-mail? \").strip()\n",
    "\n",
    "if re.search(r\"^\\w+@(\\w+\\.)?\\w+\\.edu$\", email, re.IGNORECASE):\n",
    "    print(\"Valid\")\n",
    "else:\n",
    "    print(\"Invalid\")"
   ]
  },
  {
   "cell_type": "markdown",
   "metadata": {},
   "source": [
    "(\\w+\\.)? => está dizendo que é opcional esse argumento  \n",
    "\n",
    "utilizar libraries externas para adquirir códigos que provavelmente, outros programadores já tiveram que fazer, sem precisar re-inventar uma roda que já ´´e utilizada  \n",
    "\n",
    "`re.match()` => parecido com o search, só não precisamos utilizar o ^ para localizar do começo, ele procura quando as condições são satisfeitas, automaticamente\n",
    "\n",
    "`re.fullmatch()` => detecta também o final da string, não só quando o começo satisfaz"
   ]
  },
  {
   "cell_type": "markdown",
   "metadata": {},
   "source": [
    "------------------------"
   ]
  },
  {
   "cell_type": "code",
   "execution_count": null,
   "metadata": {},
   "outputs": [],
   "source": [
    "#format.py\n",
    "name = input(\"What's your name? \").strip()\n",
    "print(f\"Hello, {name}\")"
   ]
  },
  {
   "cell_type": "code",
   "execution_count": null,
   "metadata": {},
   "outputs": [],
   "source": [
    "name = input(\"What's your name? \").strip()\n",
    "if \",\" in name:\n",
    "    last, first = name.split(\", \")\n",
    "    name = f'{first} {last}'\n",
    "print(f\"Hello, {name}\")"
   ]
  },
  {
   "cell_type": "markdown",
   "metadata": {},
   "source": [
    "a|b => either a or b (basicamente, um `or`)\n",
    "(...) => a group\n",
    "(?:...) => non-capturing version"
   ]
  },
  {
   "cell_type": "code",
   "execution_count": null,
   "metadata": {},
   "outputs": [],
   "source": [
    "import re\n",
    "\n",
    "name = input(\"What's your name? \").strip()\n",
    "matches = re.search(r\"^(.+), (.+)$\", name)\n",
    "#usando parenteses para capturar o input dado, obtendo um 'return Value'\n",
    "\n",
    "if matches:\n",
    "    last, first = matches.groups()\n",
    "    #aqui, tu está pedido todos os grupos capturados pela váriavel\n",
    "    name = f\"{first} {last}\"\n",
    "print(f\"Hello, {name}\")"
   ]
  },
  {
   "cell_type": "code",
   "execution_count": null,
   "metadata": {},
   "outputs": [],
   "source": [
    "import re\n",
    "\n",
    "name = input(\"What's your name? \").strip()\n",
    "matches = re.search(r\"^(.+), (.+)$\", name)\n",
    "if matches:\n",
    "    last = matches.group(1)\n",
    "    first = matches.group(2)\n",
    "    name = f\"{first} {last}\"\n",
    "print(f\"Hello, {name}\")"
   ]
  },
  {
   "cell_type": "code",
   "execution_count": null,
   "metadata": {},
   "outputs": [],
   "source": [
    "import re\n",
    "\n",
    "name = input(\"What's your name? \").strip()\n",
    "matches = re.search(r\"^(.+), ?(.+)$\", name)\n",
    "if matches:\n",
    "    name = matches.group(2) + \" \" + matches.group(1)\n",
    "print(f\"Hello, {name}\")"
   ]
  },
  {
   "cell_type": "markdown",
   "metadata": {},
   "source": [
    "abaixo, tiraria os espaços a mais, se o nome, fosse dado, por exemplo como \"Malan,       David\""
   ]
  },
  {
   "cell_type": "code",
   "execution_count": null,
   "metadata": {},
   "outputs": [],
   "source": [
    "import re\n",
    "\n",
    "name = input(\"What's your name? \").strip()\n",
    "matches = re.search(r\"^(.+), *(.+)$\", name)\n",
    "if matches:\n",
    "    name = matches.group(2) + \" \" + matches.group(1)\n",
    "print(f\"Hello, {name}\")"
   ]
  },
  {
   "cell_type": "code",
   "execution_count": null,
   "metadata": {},
   "outputs": [],
   "source": [
    "import re\n",
    "\n",
    "name = input(\"What's your name? \").strip()\n",
    "if matches := re.search(r\"^(.+), *(.+)$\", name):\n",
    "    name = matches.group(2) + \" \" + matches.group(1)\n",
    "print(f\"Hello, {name}\")"
   ]
  },
  {
   "cell_type": "markdown",
   "metadata": {},
   "source": [
    "`:=` => if, and only if  \n",
    "^-> te permite associar um valor da direita para a esquerda e perguntar se a condição é satisfeita para chamar tal opereção"
   ]
  },
  {
   "cell_type": "code",
   "execution_count": null,
   "metadata": {},
   "outputs": [],
   "source": [
    "#twitter.py\n",
    "url = input(\"URL: \").strip()\n",
    "\n",
    "username = url.replace(\"https://twitter.com/\", \"\")\n",
    "print(f\"Username: {username}\")\n"
   ]
  },
  {
   "cell_type": "code",
   "execution_count": null,
   "metadata": {},
   "outputs": [],
   "source": [
    "#twitter.py\n",
    "import re\n",
    "\n",
    "url = input(\"URL: \").strip()\n",
    "\n",
    "username = re.sub(r\"https://twitter.com/\", \"\", url)\n",
    "\n",
    "print(f\"Username: {username}\")"
   ]
  },
  {
   "cell_type": "markdown",
   "metadata": {},
   "source": [
    "`re.sub(pattern, replacement, string, count = 0, flags = 0)` => substitute  \n",
    "^-> qual o padrão que tu quer localizar, pelo o que tu quer recolocar, aonde que ele tem que procurar, quantas vezes, e o filtro"
   ]
  },
  {
   "cell_type": "code",
   "execution_count": null,
   "metadata": {},
   "outputs": [],
   "source": [
    "#twitter.py\n",
    "import re\n",
    "\n",
    "url = input(\"URL: \").strip()\n",
    "\n",
    "username = re.sub(r\"^(https?://)?(www\\.)?twitter\\.com/\", \"\", url)\n",
    "\n",
    "print(f\"Username: {username}\")"
   ]
  },
  {
   "cell_type": "markdown",
   "metadata": {},
   "source": [
    ".com/**(.+)** está capturando o username do usuário  \n",
    "\n",
    "\n",
    "diferente do cófigo acima, o código abaixo está garantido que o twitter seja exigido, e não está pegando qualquer informação dada pelo usuário  \n",
    "\n",
    "utilizamos tbm o grupo 2, pq o (www\\.) tambem é considerado um grupo, e é o primeiro a ser \"procurado\" e associado com os grupos"
   ]
  },
  {
   "cell_type": "code",
   "execution_count": null,
   "metadata": {},
   "outputs": [],
   "source": [
    "import re\n",
    "\n",
    "url = input(\"URL: \").strip()\n",
    "\n",
    "if matches := re.search(r\"^https?://(www\\.)?twitter\\.com/(.+)$\", url, re.IGNORECASE):\n",
    "    print(f\"Username: \", matches.group(2))"
   ]
  },
  {
   "cell_type": "markdown",
   "metadata": {},
   "source": [
    "(?:...) => anula o que está dentro do grupo, podendo colocar o 1 de novo, pois está avisando para a função \"sim ,estou usando parenteses, mas não sou um grupo\", fazendo ele não capturar o que esta nos \"()\""
   ]
  },
  {
   "cell_type": "code",
   "execution_count": null,
   "metadata": {},
   "outputs": [],
   "source": [
    "import re\n",
    "\n",
    "url = input(\"URL: \").strip()\n",
    "\n",
    "if matches := re.search(r\"^https?://(?:www\\.)?twitter\\.com/(.+)$\", url, re.IGNORECASE):\n",
    "    print(f\"Username: \", matches.group(1))"
   ]
  },
  {
   "cell_type": "markdown",
   "metadata": {},
   "source": [
    "colocando listas nos parametros de um re"
   ]
  },
  {
   "cell_type": "code",
   "execution_count": null,
   "metadata": {},
   "outputs": [],
   "source": [
    "import re\n",
    "\n",
    "url = input(\"URL: \").strip()\n",
    "\n",
    "if matches := re.search(r\"^https?://(?:www\\.)?twitter\\.(.+)/(.+)$\", url, re.IGNORECASE):\n",
    "    if matches.group(1) == \"com\":\n",
    "        print(f\"Username: \", matches.group(2))"
   ]
  },
  {
   "cell_type": "code",
   "execution_count": null,
   "metadata": {},
   "outputs": [],
   "source": [
    "import re\n",
    "\n",
    "url = input(\"URL: \").strip()\n",
    "\n",
    "if matches := re.search(r\"^https?://(?:www\\.)?twitter\\.com/([a-z0-9_]+)\", url, re.IGNORECASE):\n",
    "    print(f\"Username: \", matches.group(1))"
   ]
  },
  {
   "cell_type": "markdown",
   "metadata": {},
   "source": [
    "`re.split(pattern, string, maxsplit = 0, flags = 0)`\n",
    "\n",
    "`re.findall(pattern, string, flags=0)`"
   ]
  }
 ],
 "metadata": {
  "kernelspec": {
   "display_name": "Python 3.11.1 64-bit",
   "language": "python",
   "name": "python3"
  },
  "language_info": {
   "codemirror_mode": {
    "name": "ipython",
    "version": 3
   },
   "file_extension": ".py",
   "mimetype": "text/x-python",
   "name": "python",
   "nbconvert_exporter": "python",
   "pygments_lexer": "ipython3",
   "version": "3.11.1"
  },
  "orig_nbformat": 4,
  "vscode": {
   "interpreter": {
    "hash": "5238573367df39f7286bb46f9ff5f08f63a01a80960060ce41e3c79b190280fa"
   }
  }
 },
 "nbformat": 4,
 "nbformat_minor": 2
}
